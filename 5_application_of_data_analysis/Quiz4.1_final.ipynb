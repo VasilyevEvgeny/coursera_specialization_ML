{
 "cells": [
  {
   "cell_type": "code",
   "execution_count": null,
   "metadata": {
    "collapsed": true
   },
   "outputs": [],
   "source": []
  },
  {
   "cell_type": "markdown",
   "metadata": {},
   "source": [
    "<font color='green'>\n",
    "### 1"
   ]
  },
  {
   "cell_type": "code",
   "execution_count": 4,
   "metadata": {},
   "outputs": [
    {
     "name": "stdout",
     "output_type": "stream",
     "text": [
      "0.25\n"
     ]
    }
   ],
   "source": [
    "def precision(doc_list):\n",
    "    return sum(doc_list) / len(doc_list)\n",
    "\n",
    "def ave_precision(doc_list):\n",
    "    s_up = s_down = 0\n",
    "    i_q = []\n",
    "    for i in doc_list:\n",
    "        i_q.append(i)\n",
    "        s_up += i * precision(i_q)\n",
    "        s_down += i\n",
    "    return s_up / s_down\n",
    "\n",
    "print(ave_precision([1,1,0,0]) - ave_precision([1,0,0,1]))"
   ]
  },
  {
   "cell_type": "markdown",
   "metadata": {},
   "source": [
    "<font color='green'>\n",
    "### 2"
   ]
  },
  {
   "cell_type": "markdown",
   "metadata": {},
   "source": [
    "- Метрика DCG@k может работать с вещественными значениями релевантности"
   ]
  },
  {
   "cell_type": "markdown",
   "metadata": {},
   "source": [
    "<font color='green'>\n",
    "### 3"
   ]
  },
  {
   "cell_type": "markdown",
   "metadata": {},
   "source": [
    "- В поточечном подходе непосредственно предсказывается оценка релевантности документа\n",
    "- В поточечном подходе предлагается предсказывать непосредственно оценки релевантности документов без учёта порядка\n",
    "- В попарном подходе строится верхняя оценка на количество дефектных пар\n",
    "- Один из вариантов списочного подхода — добавление в формулу для градиентного шага множителя, отражающего изменение метрики качества ранжирования при перестановке двух объектов.\n",
    "- В списочном подходе учитывается конкретная метрика качества ранжирования."
   ]
  }
 ],
 "metadata": {
  "kernelspec": {
   "display_name": "Python 3",
   "language": "python",
   "name": "python3"
  },
  "language_info": {
   "codemirror_mode": {
    "name": "ipython",
    "version": 3
   },
   "file_extension": ".py",
   "mimetype": "text/x-python",
   "name": "python",
   "nbconvert_exporter": "python",
   "pygments_lexer": "ipython3",
   "version": "3.6.1"
  }
 },
 "nbformat": 4,
 "nbformat_minor": 2
}
