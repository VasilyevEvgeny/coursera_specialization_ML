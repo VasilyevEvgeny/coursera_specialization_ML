{
 "cells": [
  {
   "cell_type": "code",
   "execution_count": null,
   "metadata": {
    "collapsed": true
   },
   "outputs": [],
   "source": []
  },
  {
   "cell_type": "markdown",
   "metadata": {},
   "source": [
    "<font color='green'>\n",
    "### 1"
   ]
  },
  {
   "cell_type": "markdown",
   "metadata": {},
   "source": [
    "- В задаче сентимент-анализа не стоит спешить удалять пунктуацию, т.к. часто оказывается, что знаки препинания и, например, смайлики, неплохо коррелируют с тональностью текста\n",
    "- В задаче сентимент-анализа часто оказывается, что лемматизация слов не дает прироста качества или даже наоборот немного его просаживает"
   ]
  },
  {
   "cell_type": "markdown",
   "metadata": {},
   "source": [
    "<font color='green'>\n",
    "### 2"
   ]
  },
  {
   "cell_type": "markdown",
   "metadata": {},
   "source": [
    "- Выделенные по PMI - это те пары слов, которые вместе встречаются заметно чаще, чем по отдельности,  а самые частотные биграммы - просто часто встречающиеся пары слов\n"
   ]
  },
  {
   "cell_type": "markdown",
   "metadata": {},
   "source": [
    "<font color='green'>\n",
    "### 3"
   ]
  },
  {
   "cell_type": "markdown",
   "metadata": {},
   "source": [
    "- Unsupervised методы в условиях наличия хорошей обучающей выборки работают хуже, а в условиях ее маленького размера - лучше supervised. Выборку в этой задаче собирать сложно, поэтому как правило и прибегают к unsupervised методам."
   ]
  }
 ],
 "metadata": {
  "kernelspec": {
   "display_name": "Python 3",
   "language": "python",
   "name": "python3"
  },
  "language_info": {
   "codemirror_mode": {
    "name": "ipython",
    "version": 3
   },
   "file_extension": ".py",
   "mimetype": "text/x-python",
   "name": "python",
   "nbconvert_exporter": "python",
   "pygments_lexer": "ipython3",
   "version": "3.6.1"
  }
 },
 "nbformat": 4,
 "nbformat_minor": 2
}
