{
 "cells": [
  {
   "cell_type": "code",
   "execution_count": 16,
   "metadata": {
    "collapsed": true,
    "slideshow": {
     "slide_type": "slide"
    }
   },
   "outputs": [],
   "source": [
    "import pandas as pd\n",
    "import matplotlib.pyplot as plt\n",
    "from datetime import datetime\n",
    "import statsmodels.api as sm\n",
    "from calendar import monthrange\n",
    "import time\n",
    "%matplotlib inline"
   ]
  },
  {
   "cell_type": "markdown",
   "metadata": {
    "slideshow": {
     "slide_type": "slide"
    }
   },
   "source": [
    "<font color='green'>\n",
    "### 1"
   ]
  },
  {
   "cell_type": "markdown",
   "metadata": {
    "slideshow": {
     "slide_type": "subslide"
    }
   },
   "source": [
    "- В исходном ряде есть циклы, и на автокорреляционной функции это хорошо видно: её максимумы приходятся на лаги 10, 19, 29, 38, 48 — период колебаний не постоянный."
   ]
  },
  {
   "cell_type": "markdown",
   "metadata": {
    "slideshow": {
     "slide_type": "fragment"
    }
   },
   "source": [
    "<font color='green'>\n",
    "### 2"
   ]
  },
  {
   "cell_type": "markdown",
   "metadata": {
    "slideshow": {
     "slide_type": "subslide"
    }
   },
   "source": [
    "- Повышающийся тренд\n",
    "- Автокоррелированность\n",
    "- Выраженная годовая сезонность"
   ]
  },
  {
   "cell_type": "markdown",
   "metadata": {
    "slideshow": {
     "slide_type": "slide"
    }
   },
   "source": [
    "<font color='green'>\n",
    "### 3"
   ]
  },
  {
   "cell_type": "code",
   "execution_count": 103,
   "metadata": {
    "collapsed": true,
    "slideshow": {
     "slide_type": "slide"
    }
   },
   "outputs": [],
   "source": [
    "df_milk = pd.read_csv('monthly-milk-production.csv',';', index_col=['month'], parse_dates=['month'], dayfirst=True)"
   ]
  },
  {
   "cell_type": "code",
   "execution_count": 104,
   "metadata": {
    "slideshow": {
     "slide_type": "subslide"
    }
   },
   "outputs": [
    {
     "data": {
      "text/html": [
       "<div>\n",
       "<style>\n",
       "    .dataframe thead tr:only-child th {\n",
       "        text-align: right;\n",
       "    }\n",
       "\n",
       "    .dataframe thead th {\n",
       "        text-align: left;\n",
       "    }\n",
       "\n",
       "    .dataframe tbody tr th {\n",
       "        vertical-align: top;\n",
       "    }\n",
       "</style>\n",
       "<table border=\"1\" class=\"dataframe\">\n",
       "  <thead>\n",
       "    <tr style=\"text-align: right;\">\n",
       "      <th></th>\n",
       "      <th>milk</th>\n",
       "    </tr>\n",
       "    <tr>\n",
       "      <th>month</th>\n",
       "      <th></th>\n",
       "    </tr>\n",
       "  </thead>\n",
       "  <tbody>\n",
       "    <tr>\n",
       "      <th>1962-01-01</th>\n",
       "      <td>589</td>\n",
       "    </tr>\n",
       "    <tr>\n",
       "      <th>1962-02-01</th>\n",
       "      <td>561</td>\n",
       "    </tr>\n",
       "    <tr>\n",
       "      <th>1962-03-01</th>\n",
       "      <td>640</td>\n",
       "    </tr>\n",
       "    <tr>\n",
       "      <th>1962-04-01</th>\n",
       "      <td>656</td>\n",
       "    </tr>\n",
       "    <tr>\n",
       "      <th>1962-05-01</th>\n",
       "      <td>727</td>\n",
       "    </tr>\n",
       "  </tbody>\n",
       "</table>\n",
       "</div>"
      ],
      "text/plain": [
       "            milk\n",
       "month           \n",
       "1962-01-01   589\n",
       "1962-02-01   561\n",
       "1962-03-01   640\n",
       "1962-04-01   656\n",
       "1962-05-01   727"
      ]
     },
     "execution_count": 104,
     "metadata": {},
     "output_type": "execute_result"
    }
   ],
   "source": [
    "df_milk.head()"
   ]
  },
  {
   "cell_type": "code",
   "execution_count": 105,
   "metadata": {
    "collapsed": true
   },
   "outputs": [],
   "source": [
    "df_milk[['milk']] = df_milk[['milk']].astype(float)"
   ]
  },
  {
   "cell_type": "code",
   "execution_count": 106,
   "metadata": {},
   "outputs": [
    {
     "data": {
      "text/html": [
       "<div>\n",
       "<style>\n",
       "    .dataframe thead tr:only-child th {\n",
       "        text-align: right;\n",
       "    }\n",
       "\n",
       "    .dataframe thead th {\n",
       "        text-align: left;\n",
       "    }\n",
       "\n",
       "    .dataframe tbody tr th {\n",
       "        vertical-align: top;\n",
       "    }\n",
       "</style>\n",
       "<table border=\"1\" class=\"dataframe\">\n",
       "  <thead>\n",
       "    <tr style=\"text-align: right;\">\n",
       "      <th></th>\n",
       "      <th>milk</th>\n",
       "    </tr>\n",
       "    <tr>\n",
       "      <th>month</th>\n",
       "      <th></th>\n",
       "    </tr>\n",
       "  </thead>\n",
       "  <tbody>\n",
       "    <tr>\n",
       "      <th>1962-01-01</th>\n",
       "      <td>589.0</td>\n",
       "    </tr>\n",
       "    <tr>\n",
       "      <th>1962-02-01</th>\n",
       "      <td>561.0</td>\n",
       "    </tr>\n",
       "    <tr>\n",
       "      <th>1962-03-01</th>\n",
       "      <td>640.0</td>\n",
       "    </tr>\n",
       "    <tr>\n",
       "      <th>1962-04-01</th>\n",
       "      <td>656.0</td>\n",
       "    </tr>\n",
       "    <tr>\n",
       "      <th>1962-05-01</th>\n",
       "      <td>727.0</td>\n",
       "    </tr>\n",
       "  </tbody>\n",
       "</table>\n",
       "</div>"
      ],
      "text/plain": [
       "             milk\n",
       "month            \n",
       "1962-01-01  589.0\n",
       "1962-02-01  561.0\n",
       "1962-03-01  640.0\n",
       "1962-04-01  656.0\n",
       "1962-05-01  727.0"
      ]
     },
     "execution_count": 106,
     "metadata": {},
     "output_type": "execute_result"
    }
   ],
   "source": [
    "df_milk.head()"
   ]
  },
  {
   "cell_type": "code",
   "execution_count": 107,
   "metadata": {
    "slideshow": {
     "slide_type": "slide"
    }
   },
   "outputs": [
    {
     "data": {
      "image/png": "[encoded data removed]",
      "text/plain": [
       "<matplotlib.figure.Figure at 0xda5b9e8>"
      ]
     },
     "metadata": {},
     "output_type": "display_data"
    }
   ],
   "source": [
    "plt.figure()\n",
    "plt.plot(df_milk)\n",
    "plt.show()"
   ]
  },
  {
   "cell_type": "markdown",
   "metadata": {},
   "source": [
    "<font color='green'>\n",
    "### 4"
   ]
  },
  {
   "cell_type": "code",
   "execution_count": 108,
   "metadata": {
    "slideshow": {
     "slide_type": "slide"
    }
   },
   "outputs": [
    {
     "data": {
      "text/plain": [
       "0.62742670860303407"
      ]
     },
     "execution_count": 108,
     "metadata": {},
     "output_type": "execute_result"
    }
   ],
   "source": [
    "sm.tsa.stattools.adfuller(df_milk['milk'])[1]"
   ]
  },
  {
   "cell_type": "markdown",
   "metadata": {},
   "source": [
    "<font color='green'>\n",
    "### 5"
   ]
  },
  {
   "cell_type": "code",
   "execution_count": 65,
   "metadata": {},
   "outputs": [
    {
     "data": {
      "text/plain": [
       "31"
      ]
     },
     "execution_count": 65,
     "metadata": {},
     "output_type": "execute_result"
    }
   ],
   "source": [
    "monthrange(1970, 1)[1]"
   ]
  },
  {
   "cell_type": "code",
   "execution_count": 102,
   "metadata": {},
   "outputs": [
    {
     "data": {
      "text/plain": [
       "31.0"
      ]
     },
     "execution_count": 102,
     "metadata": {},
     "output_type": "execute_result"
    }
   ],
   "source": [
    "float(monthrange(1970, int(str(df_milk.index[96]).split('-')[1]))[1]) "
   ]
  },
  {
   "cell_type": "code",
   "execution_count": 109,
   "metadata": {},
   "outputs": [
    {
     "name": "stdout",
     "output_type": "stream",
     "text": [
      "1962 1 750.0 31 24.1935483871\n",
      "1962 2 561.0 28 20.0357142857\n",
      "1962 3 640.0 31 20.6451612903\n",
      "1962 4 656.0 30 21.8666666667\n",
      "1962 5 727.0 31 23.4516129032\n",
      "1962 6 697.0 30 23.2333333333\n",
      "1962 7 640.0 31 20.6451612903\n",
      "1962 8 599.0 31 19.3225806452\n",
      "1962 9 568.0 30 18.9333333333\n",
      "1962 10 577.0 31 18.6129032258\n",
      "1962 11 553.0 30 18.4333333333\n",
      "1962 12 582.0 31 18.7741935484\n",
      "1963 1 600.0 31 19.3548387097\n",
      "1963 2 566.0 28 20.2142857143\n",
      "1963 3 653.0 31 21.064516129\n",
      "1963 4 673.0 30 22.4333333333\n",
      "1963 5 742.0 31 23.935483871\n",
      "1963 6 716.0 30 23.8666666667\n",
      "1963 7 660.0 31 21.2903225806\n",
      "1963 8 617.0 31 19.9032258065\n",
      "1963 9 583.0 30 19.4333333333\n",
      "1963 10 587.0 31 18.935483871\n",
      "1963 11 565.0 30 18.8333333333\n",
      "1963 12 598.0 31 19.2903225806\n",
      "1964 1 628.0 31 20.2580645161\n",
      "1964 2 618.0 29 21.3103448276\n",
      "1964 3 688.0 31 22.1935483871\n",
      "1964 4 705.0 30 23.5\n",
      "1964 5 770.0 31 24.8387096774\n",
      "1964 6 736.0 30 24.5333333333\n",
      "1964 7 678.0 31 21.8709677419\n",
      "1964 8 639.0 31 20.6129032258\n",
      "1964 9 604.0 30 20.1333333333\n",
      "1964 10 611.0 31 19.7096774194\n",
      "1964 11 594.0 30 19.8\n",
      "1964 12 634.0 31 20.4516129032\n",
      "1965 1 658.0 31 21.2258064516\n",
      "1965 2 622.0 28 22.2142857143\n",
      "1965 3 709.0 31 22.8709677419\n",
      "1965 4 722.0 30 24.0666666667\n",
      "1965 5 782.0 31 25.2258064516\n",
      "1965 6 756.0 30 25.2\n",
      "1965 7 702.0 31 22.6451612903\n",
      "1965 8 653.0 31 21.064516129\n",
      "1965 9 615.0 30 20.5\n",
      "1965 10 621.0 31 20.0322580645\n",
      "1965 11 602.0 30 20.0666666667\n",
      "1965 12 635.0 31 20.4838709677\n",
      "1966 1 677.0 31 21.8387096774\n",
      "1966 2 635.0 28 22.6785714286\n",
      "1966 3 736.0 31 23.7419354839\n",
      "1966 4 755.0 30 25.1666666667\n",
      "1966 5 811.0 31 26.1612903226\n",
      "1966 6 798.0 30 26.6\n",
      "1966 7 735.0 31 23.7096774194\n",
      "1966 8 697.0 31 22.4838709677\n",
      "1966 9 661.0 30 22.0333333333\n",
      "1966 10 667.0 31 21.5161290323\n",
      "1966 11 645.0 30 21.5\n",
      "1966 12 688.0 31 22.1935483871\n",
      "1967 1 713.0 31 23.0\n",
      "1967 2 667.0 28 23.8214285714\n",
      "1967 3 762.0 31 24.5806451613\n",
      "1967 4 784.0 30 26.1333333333\n",
      "1967 5 837.0 31 27.0\n",
      "1967 6 817.0 30 27.2333333333\n",
      "1967 7 767.0 31 24.7419354839\n",
      "1967 8 722.0 31 23.2903225806\n",
      "1967 9 681.0 30 22.7\n",
      "1967 10 687.0 31 22.1612903226\n",
      "1967 11 660.0 30 22.0\n",
      "1967 12 698.0 31 22.5161290323\n",
      "1968 1 717.0 31 23.1290322581\n",
      "1968 2 696.0 29 24.0\n",
      "1968 3 775.0 31 25.0\n",
      "1968 4 796.0 30 26.5333333333\n",
      "1968 5 858.0 31 27.6774193548\n",
      "1968 6 826.0 30 27.5333333333\n",
      "1968 7 783.0 31 25.2580645161\n",
      "1968 8 740.0 31 23.8709677419\n",
      "1968 9 701.0 30 23.3666666667\n",
      "1968 10 706.0 31 22.7741935484\n",
      "1968 11 677.0 30 22.5666666667\n",
      "1968 12 711.0 31 22.935483871\n",
      "1969 1 734.0 31 23.6774193548\n",
      "1969 2 690.0 28 24.6428571429\n",
      "1969 3 785.0 31 25.3225806452\n",
      "1969 4 805.0 30 26.8333333333\n",
      "1969 5 871.0 31 28.0967741935\n",
      "1969 6 845.0 30 28.1666666667\n",
      "1969 7 801.0 31 25.8387096774\n",
      "1969 8 764.0 31 24.6451612903\n",
      "1969 9 725.0 30 24.1666666667\n",
      "1969 10 723.0 31 23.3225806452\n",
      "1969 11 690.0 30 23.0\n",
      "1969 12 734.0 31 23.6774193548\n",
      "1970 1 24.1935483871 31 0.780437044745\n",
      "1970 2 707.0 28 25.25\n",
      "1970 3 807.0 31 26.0322580645\n",
      "1970 4 824.0 30 27.4666666667\n",
      "1970 5 886.0 31 28.5806451613\n",
      "1970 6 859.0 30 28.6333333333\n",
      "1970 7 819.0 31 26.4193548387\n",
      "1970 8 783.0 31 25.2580645161\n",
      "1970 9 740.0 30 24.6666666667\n",
      "1970 10 747.0 31 24.0967741935\n",
      "1970 11 711.0 30 23.7\n",
      "1970 12 751.0 31 24.2258064516\n",
      "1971 1 804.0 31 25.935483871\n",
      "1971 2 756.0 28 27.0\n",
      "1971 3 860.0 31 27.7419354839\n",
      "1971 4 878.0 30 29.2666666667\n",
      "1971 5 942.0 31 30.3870967742\n",
      "1971 6 913.0 30 30.4333333333\n",
      "1971 7 869.0 31 28.0322580645\n",
      "1971 8 834.0 31 26.9032258065\n",
      "1971 9 790.0 30 26.3333333333\n",
      "1971 10 800.0 31 25.8064516129\n",
      "1971 11 763.0 30 25.4333333333\n",
      "1971 12 800.0 31 25.8064516129\n",
      "1972 1 826.0 31 26.6451612903\n",
      "1972 2 799.0 29 27.5517241379\n",
      "1972 3 890.0 31 28.7096774194\n",
      "1972 4 900.0 30 30.0\n",
      "1972 5 961.0 31 31.0\n",
      "1972 6 935.0 30 31.1666666667\n",
      "1972 7 894.0 31 28.8387096774\n",
      "1972 8 855.0 31 27.5806451613\n",
      "1972 9 809.0 30 26.9666666667\n",
      "1972 10 810.0 31 26.1290322581\n",
      "1972 11 766.0 30 25.5333333333\n",
      "1972 12 805.0 31 25.9677419355\n",
      "1973 1 821.0 31 26.4838709677\n",
      "1973 2 773.0 28 27.6071428571\n",
      "1973 3 883.0 31 28.4838709677\n",
      "1973 4 898.0 30 29.9333333333\n",
      "1973 5 957.0 31 30.8709677419\n",
      "1973 6 924.0 30 30.8\n",
      "1973 7 881.0 31 28.4193548387\n",
      "1973 8 837.0 31 27.0\n",
      "1973 9 784.0 30 26.1333333333\n",
      "1973 10 791.0 31 25.5161290323\n",
      "1973 11 760.0 30 25.3333333333\n",
      "1973 12 802.0 31 25.8709677419\n",
      "1974 1 828.0 31 26.7096774194\n",
      "1974 2 778.0 28 27.7857142857\n",
      "1974 3 889.0 31 28.6774193548\n",
      "1974 4 902.0 30 30.0666666667\n",
      "1974 5 969.0 31 31.2580645161\n",
      "1974 6 947.0 30 31.5666666667\n",
      "1974 7 908.0 31 29.2903225806\n",
      "1974 8 867.0 31 27.9677419355\n",
      "1974 9 815.0 30 27.1666666667\n",
      "1974 10 812.0 31 26.1935483871\n",
      "1974 11 773.0 30 25.7666666667\n",
      "1974 12 813.0 31 26.2258064516\n",
      "1975 1 834.0 31 26.9032258065\n",
      "1975 2 782.0 28 27.9285714286\n",
      "1975 3 892.0 31 28.7741935484\n",
      "1975 4 903.0 30 30.1\n",
      "1975 5 966.0 31 31.1612903226\n",
      "1975 6 937.0 30 31.2333333333\n",
      "1975 7 896.0 31 28.9032258065\n",
      "1975 8 858.0 31 27.6774193548\n",
      "1975 9 817.0 30 27.2333333333\n",
      "1975 10 827.0 31 26.6774193548\n",
      "1975 11 797.0 30 26.5666666667\n",
      "1975 12 843.0 31 27.1935483871\n"
     ]
    }
   ],
   "source": [
    "for i in xrange(df_milk.shape[0]):\n",
    "    year = int(str(df_milk.index[i]).split('-')[0])\n",
    "    month = int(str(df_milk.index[i]).split('-')[1])\n",
    "    old_val = df_milk.milk[i]\n",
    "    df_milk.milk[i] /= float(monthrange(year, month)[1])\n",
    "    print year, month, old_val, monthrange(year, month)[1], df_milk.milk[i]"
   ]
  },
  {
   "cell_type": "code",
   "execution_count": 110,
   "metadata": {},
   "outputs": [
    {
     "data": {
      "text/html": [
       "<div>\n",
       "<style>\n",
       "    .dataframe thead tr:only-child th {\n",
       "        text-align: right;\n",
       "    }\n",
       "\n",
       "    .dataframe thead th {\n",
       "        text-align: left;\n",
       "    }\n",
       "\n",
       "    .dataframe tbody tr th {\n",
       "        vertical-align: top;\n",
       "    }\n",
       "</style>\n",
       "<table border=\"1\" class=\"dataframe\">\n",
       "  <thead>\n",
       "    <tr style=\"text-align: right;\">\n",
       "      <th></th>\n",
       "      <th>milk</th>\n",
       "    </tr>\n",
       "    <tr>\n",
       "      <th>month</th>\n",
       "      <th></th>\n",
       "    </tr>\n",
       "  </thead>\n",
       "  <tbody>\n",
       "    <tr>\n",
       "      <th>1962-01-01</th>\n",
       "      <td>589.000000</td>\n",
       "    </tr>\n",
       "    <tr>\n",
       "      <th>1962-02-01</th>\n",
       "      <td>20.035714</td>\n",
       "    </tr>\n",
       "    <tr>\n",
       "      <th>1962-03-01</th>\n",
       "      <td>20.645161</td>\n",
       "    </tr>\n",
       "    <tr>\n",
       "      <th>1962-04-01</th>\n",
       "      <td>21.866667</td>\n",
       "    </tr>\n",
       "    <tr>\n",
       "      <th>1962-05-01</th>\n",
       "      <td>23.451613</td>\n",
       "    </tr>\n",
       "  </tbody>\n",
       "</table>\n",
       "</div>"
      ],
      "text/plain": [
       "                  milk\n",
       "month                 \n",
       "1962-01-01  589.000000\n",
       "1962-02-01   20.035714\n",
       "1962-03-01   20.645161\n",
       "1962-04-01   21.866667\n",
       "1962-05-01   23.451613"
      ]
     },
     "execution_count": 110,
     "metadata": {},
     "output_type": "execute_result"
    }
   ],
   "source": [
    "df_milk.head()"
   ]
  },
  {
   "cell_type": "code",
   "execution_count": 93,
   "metadata": {},
   "outputs": [
    {
     "name": "stdout",
     "output_type": "stream",
     "text": [
      "168\n"
     ]
    }
   ],
   "source": [
    "print df_milk.shape[0]"
   ]
  },
  {
   "cell_type": "code",
   "execution_count": 91,
   "metadata": {},
   "outputs": [
    {
     "data": {
      "text/plain": [
       "750"
      ]
     },
     "execution_count": 91,
     "metadata": {},
     "output_type": "execute_result"
    }
   ],
   "source": [
    "df_milk.milk[0]"
   ]
  },
  {
   "cell_type": "code",
   "execution_count": 92,
   "metadata": {},
   "outputs": [
    {
     "name": "stdout",
     "output_type": "stream",
     "text": [
      "25\n"
     ]
    }
   ],
   "source": [
    "df_milk.milk[0] = 25\n",
    "print df_milk.milk[0]"
   ]
  },
  {
   "cell_type": "code",
   "execution_count": 45,
   "metadata": {},
   "outputs": [
    {
     "data": {
      "image/png": "[encoded data removed]",
      "text/plain": [
       "<matplotlib.figure.Figure at 0xe4fa588>"
      ]
     },
     "metadata": {},
     "output_type": "display_data"
    }
   ],
   "source": [
    "plt.figure()\n",
    "plt.plot(milk[1:])\n",
    "plt.show()"
   ]
  },
  {
   "cell_type": "code",
   "execution_count": 22,
   "metadata": {},
   "outputs": [
    {
     "name": "stdout",
     "output_type": "stream",
     "text": [
      "561\n"
     ]
    }
   ],
   "source": [
    "print milk.milk[1]"
   ]
  },
  {
   "cell_type": "code",
   "execution_count": null,
   "metadata": {
    "collapsed": true
   },
   "outputs": [],
   "source": []
  }
 ],
 "metadata": {
  "celltoolbar": "Slideshow",
  "kernelspec": {
   "display_name": "Python 2",
   "language": "python",
   "name": "python2"
  },
  "language_info": {
   "codemirror_mode": {
    "name": "ipython",
    "version": 2
   },
   "file_extension": ".py",
   "mimetype": "text/x-python",
   "name": "python",
   "nbconvert_exporter": "python",
   "pygments_lexer": "ipython2",
   "version": "2.7.13"
  }
 },
 "nbformat": 4,
 "nbformat_minor": 2
}
