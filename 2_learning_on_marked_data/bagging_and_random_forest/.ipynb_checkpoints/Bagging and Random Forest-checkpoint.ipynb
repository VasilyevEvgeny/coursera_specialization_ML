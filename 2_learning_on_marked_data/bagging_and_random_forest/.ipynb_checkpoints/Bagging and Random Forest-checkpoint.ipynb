{
 "cells": [
  {
   "cell_type": "code",
   "execution_count": 38,
   "metadata": {
    "collapsed": false
   },
   "outputs": [],
   "source": [
    "from sklearn.datasets import load_digits\n",
    "from sklearn.model_selection import cross_val_score\n",
    "from sklearn.tree import DecisionTreeClassifier\n",
    "from sklearn.ensemble import BaggingClassifier\n",
    "from sklearn.ensemble import RandomForestClassifier"
   ]
  },
  {
   "cell_type": "code",
   "execution_count": 29,
   "metadata": {
    "collapsed": false
   },
   "outputs": [
    {
     "name": "stdout",
     "output_type": "stream",
     "text": [
      "[[  0.   0.   5. ...,   0.   0.   0.]\n",
      " [  0.   0.   0. ...,  10.   0.   0.]\n",
      " [  0.   0.   0. ...,  16.   9.   0.]\n",
      " ..., \n",
      " [  0.   0.   1. ...,   6.   0.   0.]\n",
      " [  0.   0.   2. ...,  12.   0.   0.]\n",
      " [  0.   0.  10. ...,  12.   1.   0.]]\n",
      "(1797L, 64L)\n",
      "[0 1 2 ..., 8 9 8]\n"
     ]
    }
   ],
   "source": [
    "digits = load_digits()\n",
    "X = digits.data\n",
    "y = digits.target\n",
    "print X\n",
    "print X.shape\n",
    "print y"
   ]
  },
  {
   "cell_type": "code",
   "execution_count": 27,
   "metadata": {
    "collapsed": false
   },
   "outputs": [
    {
     "name": "stdout",
     "output_type": "stream",
     "text": [
      "0.824709805521\n"
     ]
    }
   ],
   "source": [
    "# TASK 1\n",
    "DecTree = DecisionTreeClassifier()\n",
    "score_task1 = cross_val_score(DecTree, X, y, cv=10).mean()\n",
    "print score_task1\n",
    "\n",
    "f_task1 = open('1.txt', 'w')\n",
    "f_task1.write(\"%f\" %(score_task1))\n",
    "f_task1.close()"
   ]
  },
  {
   "cell_type": "code",
   "execution_count": 32,
   "metadata": {
    "collapsed": false
   },
   "outputs": [
    {
     "name": "stdout",
     "output_type": "stream",
     "text": [
      "0.920506082964\n"
     ]
    }
   ],
   "source": [
    "# TASK 2\n",
    "BagDecTree = BaggingClassifier(DecTree, n_estimators=100)\n",
    "score_task2 = cross_val_score(BagDecTree, X, y, cv=10).mean()\n",
    "print score_task2\n",
    "\n",
    "f_task2 = open('2.txt', 'w')\n",
    "f_task2.write(\"%f\" %(score_task2))\n",
    "f_task2.close()"
   ]
  },
  {
   "cell_type": "code",
   "execution_count": 34,
   "metadata": {
    "collapsed": false
   },
   "outputs": [
    {
     "name": "stdout",
     "output_type": "stream",
     "text": [
      "0.936059176499\n"
     ]
    }
   ],
   "source": [
    "# TASK 3\n",
    "BagDecTreeOptimum = BaggingClassifier(DecTree, n_estimators=100, max_features=8)\n",
    "score_task3 = cross_val_score(BagDecTreeOptimum, X, y, cv=10).mean()\n",
    "print score_task3\n",
    "\n",
    "f_task3 = open('3.txt', 'w')\n",
    "f_task3.write(\"%f\" %(score_task3))\n",
    "f_task3.close()"
   ]
  },
  {
   "cell_type": "code",
   "execution_count": 36,
   "metadata": {
    "collapsed": false
   },
   "outputs": [
    {
     "name": "stdout",
     "output_type": "stream",
     "text": [
      "0.953870324976\n"
     ]
    }
   ],
   "source": [
    "# TASK 4\n",
    "\n",
    "DecTree = DecisionTreeClassifier(max_features=8)\n",
    "BagDecTreeModern = BaggingClassifier(DecTree, n_estimators=100)\n",
    "score_task4 = cross_val_score(BagDecTreeModern, X, y, cv=10).mean()\n",
    "print score_task4\n",
    "\n",
    "f_task4 = open('4.txt', 'w')\n",
    "f_task4.write(\"%f\" %(score_task4))\n",
    "f_task4.close()"
   ]
  },
  {
   "cell_type": "code",
   "execution_count": 50,
   "metadata": {
    "collapsed": false
   },
   "outputs": [
    {
     "name": "stdout",
     "output_type": "stream",
     "text": [
      "0.956118995892\n"
     ]
    }
   ],
   "source": [
    "# TASK 5\n",
    "\n",
    "RandForest = RandomForestClassifier(n_estimators=100, max_features=8)\n",
    "score_task5 = cross_val_score(RandForest, X, y, cv=10).mean()\n",
    "print score_task5\n",
    "\n",
    "f_task5 = open('5.txt', 'w')\n",
    "f_task5.write(\"2 3 4 7\")\n",
    "f_task5.close()"
   ]
  }
 ],
 "metadata": {
  "kernelspec": {
   "display_name": "Python [Root]",
   "language": "python",
   "name": "Python [Root]"
  },
  "language_info": {
   "codemirror_mode": {
    "name": "ipython",
    "version": 2
   },
   "file_extension": ".py",
   "mimetype": "text/x-python",
   "name": "python",
   "nbconvert_exporter": "python",
   "pygments_lexer": "ipython2",
   "version": "2.7.11"
  }
 },
 "nbformat": 4,
 "nbformat_minor": 0
}
