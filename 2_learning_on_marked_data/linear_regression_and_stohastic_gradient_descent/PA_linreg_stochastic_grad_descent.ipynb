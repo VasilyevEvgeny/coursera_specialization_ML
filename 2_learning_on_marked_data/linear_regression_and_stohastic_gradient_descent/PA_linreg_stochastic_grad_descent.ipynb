{
 "cells": [
  {
   "cell_type": "markdown",
   "metadata": {},
   "source": [
    "# Линейная регрессия и стохастический градиентный спуск"
   ]
  },
  {
   "cell_type": "markdown",
   "metadata": {},
   "source": [
    "Задание основано на материалах лекций по линейной регрессии и градиентному спуску. Вы будете прогнозировать выручку компании в зависимости от уровня ее инвестиций в рекламу по TV, в газетах и по радио."
   ]
  },
  {
   "cell_type": "markdown",
   "metadata": {},
   "source": [
    "## Вы научитесь:\n",
    "- решать задачу восстановления линейной регрессии\n",
    "- реализовывать стохастический градиентный спуск для ее настройки\n",
    "- решать задачу линейной регрессии аналитически"
   ]
  },
  {
   "cell_type": "markdown",
   "metadata": {},
   "source": [
    "## Введение\n",
    "Линейная регрессия - один из наиболее хорошо изученных методов машинного обучения, позволяющий прогнозировать значения количественного признака в виде линейной комбинации прочих признаков с параметрами - весами модели. Оптимальные (в смысле минимальности некоторого функционала ошибки) параметры линейной регрессии можно найти аналитически с помощью нормального уравнения или численно с помощью методов оптимизации.  "
   ]
  },
  {
   "cell_type": "markdown",
   "metadata": {},
   "source": [
    "Линейная регрессия использует простой функционал качества - среднеквадратичную ошибку. Мы будем работать с выборкой, содержащей 3 признака. Для настройки параметров (весов) модели решается следующая задача:\n",
    "$$\\Large \\frac{1}{\\ell}\\sum_{i=1}^\\ell{{((w_0 + w_1x_{i1} + w_2x_{i2} +  w_3x_{i3}) - y_i)}^2} \\rightarrow \\min_{w_0, w_1, w_2, w_3},$$\n",
    "где $x_{i1}, x_{i2}, x_{i3}$ - значения признаков $i$-го объекта, $y_i$ - значение целевого признака $i$-го объекта, $\\ell$ - число объектов в обучающей выборке."
   ]
  },
  {
   "cell_type": "markdown",
   "metadata": {},
   "source": [
    "## Градиентный спуск\n",
    "Параметры $w_0, w_1, w_2, w_3$, по которым минимизируется среднеквадратичная ошибка, можно находить численно с помощью градиентного спуска.\n",
    "Градиентный шаг для весов будет выглядеть следующим образом:\n",
    "$$\\Large w_0 \\leftarrow w_0 - \\frac{2\\eta}{\\ell} \\sum_{i=1}^\\ell{{((w_0 + w_1x_{i1} + w_2x_{i2} +  w_3x_{i3}) - y_i)}}$$\n",
    "$$\\Large w_j \\leftarrow w_j - \\frac{2\\eta}{\\ell} \\sum_{i=1}^\\ell{{x_{ij}((w_0 + w_1x_{i1} + w_2x_{i2} +  w_3x_{i3}) - y_i)}},\\ j \\in \\{1,2,3\\}$$\n",
    "Здесь $\\eta$ - параметр, шаг градиентного спуска."
   ]
  },
  {
   "cell_type": "markdown",
   "metadata": {},
   "source": [
    "## Стохастический градиентный спуск\n",
    "Проблема градиентного спуска, описанного выше, в том, что на больших выборках считать на каждом шаге градиент по всем имеющимся данным может быть очень вычислительно сложно. \n",
    "В стохастическом варианте градиентного спуска поправки для весов вычисляются только с учетом одного случайно взятого объекта обучающей выборки:\n",
    "$$\\Large w_0 \\leftarrow w_0 - \\frac{2\\eta}{\\ell} {((w_0 + w_1x_{k1} + w_2x_{k2} +  w_3x_{k3}) - y_k)}$$\n",
    "$$\\Large w_j \\leftarrow w_j - \\frac{2\\eta}{\\ell} {x_{kj}((w_0 + w_1x_{k1} + w_2x_{k2} +  w_3x_{k3}) - y_k)},\\ j \\in \\{1,2,3\\},$$\n",
    "где $k$ - случайный индекс, $k \\in \\{1, \\ldots, \\ell\\}$."
   ]
  },
  {
   "cell_type": "markdown",
   "metadata": {},
   "source": [
    "## Нормальное уравнение \n",
    "Нахождение вектора оптимальных весов $w$ может быть сделано и аналитически.\n",
    "Мы хотим найти такой вектор весов $w$, чтобы вектор $y$, приближающий целевой признак, получался умножением матрицы $X$ (состоящей из всех признаков объектов обучающей выборки, кроме целевого) на вектор весов $w$. То есть, чтобы выполнялось матричное уравнение:\n",
    "$$\\Large y = Xw$$\n",
    "Домножением слева на $X^T$ получаем:\n",
    "$$\\Large X^Ty = X^TXw$$\n",
    "Это хорошо, поскольку теперь матрица $X^TX$ - квадратная, и можно найти решение (вектор $w$) в виде:\n",
    "$$\\Large w = {(X^TX)}^{-1}X^Ty$$\n",
    "Матрица ${(X^TX)}^{-1}X^T$ - [*псевдообратная*](https://ru.wikipedia.org/wiki/Псевдообратная_матрица) для матрицы $X$. В NumPy такую матрицу можно вычислить с помощью функции [numpy.linalg.pinv](http://docs.scipy.org/doc/numpy-1.10.0/reference/generated/numpy.linalg.pinv.html).\n",
    "\n",
    "Однако, нахождение псевдообратной матрицы - операция вычислительно сложная и нестабильная в случае малого определителя матрицы $X$ (проблема мультиколлинеарности). \n",
    "На практике лучше находить вектор весов $w$ решением матричного уравнения \n",
    "$$\\Large X^TXw = X^Ty$$Это может быть сделано с помощью функции [numpy.linalg.solve](http://docs.scipy.org/doc/numpy-1.10.1/reference/generated/numpy.linalg.solve.html).\n",
    "\n",
    "Но все же на практике для больших матриц $X$ быстрее работает градиентный спуск, особенно его стохастическая версия."
   ]
  },
  {
   "cell_type": "markdown",
   "metadata": {},
   "source": [
    "## Инструкции по выполнению"
   ]
  },
  {
   "cell_type": "markdown",
   "metadata": {},
   "source": [
    "В начале напишем простую функцию для записи ответов в текстовый файл. Ответами будут числа, полученные в ходе решения этого задания, округленные до 3 знаков после запятой. Полученные файлы после выполнения задания надо отправить в форму на странице задания на Coursera.org."
   ]
  },
  {
   "cell_type": "code",
   "execution_count": 1,
   "metadata": {
    "collapsed": true
   },
   "outputs": [],
   "source": [
    "def write_answer_to_file(answer, filename):\n",
    "    with open(filename, 'w') as f_out:\n",
    "        f_out.write(str(round(answer, 3)))"
   ]
  },
  {
   "cell_type": "markdown",
   "metadata": {},
   "source": [
    "**1. Загрузите данные из файла *advertising.csv* в объект pandas DataFrame. [Источник данных](http://www-bcf.usc.edu/~gareth/ISL/data.html).**"
   ]
  },
  {
   "cell_type": "code",
   "execution_count": 2,
   "metadata": {
    "collapsed": false
   },
   "outputs": [],
   "source": [
    "import pandas as pd\n",
    "adver_data = pd.read_csv('advertising.csv')"
   ]
  },
  {
   "cell_type": "markdown",
   "metadata": {
    "collapsed": true
   },
   "source": [
    "**Посмотрите на первые 5 записей и на статистику признаков в этом наборе данных.**"
   ]
  },
  {
   "cell_type": "code",
   "execution_count": 3,
   "metadata": {
    "collapsed": false
   },
   "outputs": [
    {
     "data": {
      "text/html": [
       "<div>\n",
       "<table border=\"1\" class=\"dataframe\">\n",
       "  <thead>\n",
       "    <tr style=\"text-align: right;\">\n",
       "      <th></th>\n",
       "      <th>TV</th>\n",
       "      <th>Radio</th>\n",
       "      <th>Newspaper</th>\n",
       "      <th>Sales</th>\n",
       "    </tr>\n",
       "  </thead>\n",
       "  <tbody>\n",
       "    <tr>\n",
       "      <th>1</th>\n",
       "      <td>230.1</td>\n",
       "      <td>37.8</td>\n",
       "      <td>69.2</td>\n",
       "      <td>22.1</td>\n",
       "    </tr>\n",
       "    <tr>\n",
       "      <th>2</th>\n",
       "      <td>44.5</td>\n",
       "      <td>39.3</td>\n",
       "      <td>45.1</td>\n",
       "      <td>10.4</td>\n",
       "    </tr>\n",
       "    <tr>\n",
       "      <th>3</th>\n",
       "      <td>17.2</td>\n",
       "      <td>45.9</td>\n",
       "      <td>69.3</td>\n",
       "      <td>9.3</td>\n",
       "    </tr>\n",
       "    <tr>\n",
       "      <th>4</th>\n",
       "      <td>151.5</td>\n",
       "      <td>41.3</td>\n",
       "      <td>58.5</td>\n",
       "      <td>18.5</td>\n",
       "    </tr>\n",
       "    <tr>\n",
       "      <th>5</th>\n",
       "      <td>180.8</td>\n",
       "      <td>10.8</td>\n",
       "      <td>58.4</td>\n",
       "      <td>12.9</td>\n",
       "    </tr>\n",
       "  </tbody>\n",
       "</table>\n",
       "</div>"
      ],
      "text/plain": [
       "      TV  Radio  Newspaper  Sales\n",
       "1  230.1   37.8       69.2   22.1\n",
       "2   44.5   39.3       45.1   10.4\n",
       "3   17.2   45.9       69.3    9.3\n",
       "4  151.5   41.3       58.5   18.5\n",
       "5  180.8   10.8       58.4   12.9"
      ]
     },
     "execution_count": 3,
     "metadata": {},
     "output_type": "execute_result"
    }
   ],
   "source": [
    "adver_data.head(n=5)"
   ]
  },
  {
   "cell_type": "code",
   "execution_count": 4,
   "metadata": {
    "collapsed": false
   },
   "outputs": [
    {
     "data": {
      "text/plain": [
       "<seaborn.axisgrid.PairGrid at 0xadbf128>"
      ]
     },
     "execution_count": 4,
     "metadata": {},
     "output_type": "execute_result"
    },
    {
     "data": {
      "image/png": "[encoded data removed]",
      "text/plain": [
       "<matplotlib.figure.Figure at 0xadcbc50>"
      ]
     },
     "metadata": {},
     "output_type": "display_data"
    }
   ],
   "source": [
    "import numpy as np\n",
    "import pandas as pd\n",
    "import seaborn as sns\n",
    "import matplotlib.pyplot as plt\n",
    "%matplotlib inline\n",
    "\n",
    "sns.pairplot(adver_data)"
   ]
  },
  {
   "cell_type": "markdown",
   "metadata": {},
   "source": [
    "**Создайте массивы NumPy *X* из столбцов TV, Radio и Newspaper и *y* - из столбца Sales. Используйте атрибут *values* объекта pandas DataFrame.**"
   ]
  },
  {
   "cell_type": "code",
   "execution_count": 5,
   "metadata": {
    "collapsed": false
   },
   "outputs": [
    {
     "name": "stdout",
     "output_type": "stream",
     "text": [
      "[[ 230.1   37.8   69.2]\n",
      " [  44.5   39.3   45.1]\n",
      " [  17.2   45.9   69.3]\n",
      " [ 151.5   41.3   58.5]\n",
      " [ 180.8   10.8   58.4]\n",
      " [   8.7   48.9   75. ]\n",
      " [  57.5   32.8   23.5]\n",
      " [ 120.2   19.6   11.6]\n",
      " [   8.6    2.1    1. ]\n",
      " [ 199.8    2.6   21.2]\n",
      " [  66.1    5.8   24.2]\n",
      " [ 214.7   24.     4. ]\n",
      " [  23.8   35.1   65.9]\n",
      " [  97.5    7.6    7.2]\n",
      " [ 204.1   32.9   46. ]\n",
      " [ 195.4   47.7   52.9]\n",
      " [  67.8   36.6  114. ]\n",
      " [ 281.4   39.6   55.8]\n",
      " [  69.2   20.5   18.3]\n",
      " [ 147.3   23.9   19.1]\n",
      " [ 218.4   27.7   53.4]\n",
      " [ 237.4    5.1   23.5]\n",
      " [  13.2   15.9   49.6]\n",
      " [ 228.3   16.9   26.2]\n",
      " [  62.3   12.6   18.3]\n",
      " [ 262.9    3.5   19.5]\n",
      " [ 142.9   29.3   12.6]\n",
      " [ 240.1   16.7   22.9]\n",
      " [ 248.8   27.1   22.9]\n",
      " [  70.6   16.    40.8]\n",
      " [ 292.9   28.3   43.2]\n",
      " [ 112.9   17.4   38.6]\n",
      " [  97.2    1.5   30. ]\n",
      " [ 265.6   20.     0.3]\n",
      " [  95.7    1.4    7.4]\n",
      " [ 290.7    4.1    8.5]\n",
      " [ 266.9   43.8    5. ]\n",
      " [  74.7   49.4   45.7]\n",
      " [  43.1   26.7   35.1]\n",
      " [ 228.    37.7   32. ]\n",
      " [ 202.5   22.3   31.6]\n",
      " [ 177.    33.4   38.7]\n",
      " [ 293.6   27.7    1.8]\n",
      " [ 206.9    8.4   26.4]\n",
      " [  25.1   25.7   43.3]\n",
      " [ 175.1   22.5   31.5]\n",
      " [  89.7    9.9   35.7]\n",
      " [ 239.9   41.5   18.5]\n",
      " [ 227.2   15.8   49.9]\n",
      " [  66.9   11.7   36.8]\n",
      " [ 199.8    3.1   34.6]\n",
      " [ 100.4    9.6    3.6]\n",
      " [ 216.4   41.7   39.6]\n",
      " [ 182.6   46.2   58.7]\n",
      " [ 262.7   28.8   15.9]\n",
      " [ 198.9   49.4   60. ]\n",
      " [   7.3   28.1   41.4]\n",
      " [ 136.2   19.2   16.6]\n",
      " [ 210.8   49.6   37.7]\n",
      " [ 210.7   29.5    9.3]\n",
      " [  53.5    2.    21.4]\n",
      " [ 261.3   42.7   54.7]\n",
      " [ 239.3   15.5   27.3]\n",
      " [ 102.7   29.6    8.4]\n",
      " [ 131.1   42.8   28.9]\n",
      " [  69.     9.3    0.9]\n",
      " [  31.5   24.6    2.2]\n",
      " [ 139.3   14.5   10.2]\n",
      " [ 237.4   27.5   11. ]\n",
      " [ 216.8   43.9   27.2]\n",
      " [ 199.1   30.6   38.7]\n",
      " [ 109.8   14.3   31.7]\n",
      " [  26.8   33.    19.3]\n",
      " [ 129.4    5.7   31.3]\n",
      " [ 213.4   24.6   13.1]\n",
      " [  16.9   43.7   89.4]\n",
      " [  27.5    1.6   20.7]\n",
      " [ 120.5   28.5   14.2]\n",
      " [   5.4   29.9    9.4]\n",
      " [ 116.     7.7   23.1]\n",
      " [  76.4   26.7   22.3]\n",
      " [ 239.8    4.1   36.9]\n",
      " [  75.3   20.3   32.5]\n",
      " [  68.4   44.5   35.6]\n",
      " [ 213.5   43.    33.8]\n",
      " [ 193.2   18.4   65.7]\n",
      " [  76.3   27.5   16. ]\n",
      " [ 110.7   40.6   63.2]\n",
      " [  88.3   25.5   73.4]\n",
      " [ 109.8   47.8   51.4]\n",
      " [ 134.3    4.9    9.3]\n",
      " [  28.6    1.5   33. ]\n",
      " [ 217.7   33.5   59. ]\n",
      " [ 250.9   36.5   72.3]\n",
      " [ 107.4   14.    10.9]\n",
      " [ 163.3   31.6   52.9]\n",
      " [ 197.6    3.5    5.9]\n",
      " [ 184.9   21.    22. ]\n",
      " [ 289.7   42.3   51.2]\n",
      " [ 135.2   41.7   45.9]\n",
      " [ 222.4    4.3   49.8]\n",
      " [ 296.4   36.3  100.9]\n",
      " [ 280.2   10.1   21.4]\n",
      " [ 187.9   17.2   17.9]\n",
      " [ 238.2   34.3    5.3]\n",
      " [ 137.9   46.4   59. ]\n",
      " [  25.    11.    29.7]\n",
      " [  90.4    0.3   23.2]\n",
      " [  13.1    0.4   25.6]\n",
      " [ 255.4   26.9    5.5]\n",
      " [ 225.8    8.2   56.5]\n",
      " [ 241.7   38.    23.2]\n",
      " [ 175.7   15.4    2.4]\n",
      " [ 209.6   20.6   10.7]\n",
      " [  78.2   46.8   34.5]\n",
      " [  75.1   35.    52.7]\n",
      " [ 139.2   14.3   25.6]\n",
      " [  76.4    0.8   14.8]\n",
      " [ 125.7   36.9   79.2]\n",
      " [  19.4   16.    22.3]\n",
      " [ 141.3   26.8   46.2]\n",
      " [  18.8   21.7   50.4]\n",
      " [ 224.     2.4   15.6]\n",
      " [ 123.1   34.6   12.4]\n",
      " [ 229.5   32.3   74.2]\n",
      " [  87.2   11.8   25.9]\n",
      " [   7.8   38.9   50.6]\n",
      " [  80.2    0.     9.2]\n",
      " [ 220.3   49.     3.2]\n",
      " [  59.6   12.    43.1]\n",
      " [   0.7   39.6    8.7]\n",
      " [ 265.2    2.9   43. ]\n",
      " [   8.4   27.2    2.1]\n",
      " [ 219.8   33.5   45.1]\n",
      " [  36.9   38.6   65.6]\n",
      " [  48.3   47.     8.5]\n",
      " [  25.6   39.     9.3]\n",
      " [ 273.7   28.9   59.7]\n",
      " [  43.    25.9   20.5]\n",
      " [ 184.9   43.9    1.7]\n",
      " [  73.4   17.    12.9]\n",
      " [ 193.7   35.4   75.6]\n",
      " [ 220.5   33.2   37.9]\n",
      " [ 104.6    5.7   34.4]\n",
      " [  96.2   14.8   38.9]\n",
      " [ 140.3    1.9    9. ]\n",
      " [ 240.1    7.3    8.7]\n",
      " [ 243.2   49.    44.3]\n",
      " [  38.    40.3   11.9]\n",
      " [  44.7   25.8   20.6]\n",
      " [ 280.7   13.9   37. ]\n",
      " [ 121.     8.4   48.7]\n",
      " [ 197.6   23.3   14.2]\n",
      " [ 171.3   39.7   37.7]\n",
      " [ 187.8   21.1    9.5]\n",
      " [   4.1   11.6    5.7]\n",
      " [  93.9   43.5   50.5]\n",
      " [ 149.8    1.3   24.3]\n",
      " [  11.7   36.9   45.2]\n",
      " [ 131.7   18.4   34.6]\n",
      " [ 172.5   18.1   30.7]\n",
      " [  85.7   35.8   49.3]\n",
      " [ 188.4   18.1   25.6]\n",
      " [ 163.5   36.8    7.4]\n",
      " [ 117.2   14.7    5.4]\n",
      " [ 234.5    3.4   84.8]\n",
      " [  17.9   37.6   21.6]\n",
      " [ 206.8    5.2   19.4]\n",
      " [ 215.4   23.6   57.6]\n",
      " [ 284.3   10.6    6.4]\n",
      " [  50.    11.6   18.4]\n",
      " [ 164.5   20.9   47.4]\n",
      " [  19.6   20.1   17. ]\n",
      " [ 168.4    7.1   12.8]\n",
      " [ 222.4    3.4   13.1]\n",
      " [ 276.9   48.9   41.8]\n",
      " [ 248.4   30.2   20.3]\n",
      " [ 170.2    7.8   35.2]\n",
      " [ 276.7    2.3   23.7]\n",
      " [ 165.6   10.    17.6]\n",
      " [ 156.6    2.6    8.3]\n",
      " [ 218.5    5.4   27.4]\n",
      " [  56.2    5.7   29.7]\n",
      " [ 287.6   43.    71.8]\n",
      " [ 253.8   21.3   30. ]\n",
      " [ 205.    45.1   19.6]\n",
      " [ 139.5    2.1   26.6]\n",
      " [ 191.1   28.7   18.2]\n",
      " [ 286.    13.9    3.7]\n",
      " [  18.7   12.1   23.4]\n",
      " [  39.5   41.1    5.8]\n",
      " [  75.5   10.8    6. ]\n",
      " [  17.2    4.1   31.6]\n",
      " [ 166.8   42.     3.6]\n",
      " [ 149.7   35.6    6. ]\n",
      " [  38.2    3.7   13.8]\n",
      " [  94.2    4.9    8.1]\n",
      " [ 177.     9.3    6.4]\n",
      " [ 283.6   42.    66.2]\n",
      " [ 232.1    8.6    8.7]]\n",
      "[[ 22.1]\n",
      " [ 10.4]\n",
      " [  9.3]\n",
      " [ 18.5]\n",
      " [ 12.9]\n",
      " [  7.2]\n",
      " [ 11.8]\n",
      " [ 13.2]\n",
      " [  4.8]\n",
      " [ 10.6]\n",
      " [  8.6]\n",
      " [ 17.4]\n",
      " [  9.2]\n",
      " [  9.7]\n",
      " [ 19. ]\n",
      " [ 22.4]\n",
      " [ 12.5]\n",
      " [ 24.4]\n",
      " [ 11.3]\n",
      " [ 14.6]\n",
      " [ 18. ]\n",
      " [ 12.5]\n",
      " [  5.6]\n",
      " [ 15.5]\n",
      " [  9.7]\n",
      " [ 12. ]\n",
      " [ 15. ]\n",
      " [ 15.9]\n",
      " [ 18.9]\n",
      " [ 10.5]\n",
      " [ 21.4]\n",
      " [ 11.9]\n",
      " [  9.6]\n",
      " [ 17.4]\n",
      " [  9.5]\n",
      " [ 12.8]\n",
      " [ 25.4]\n",
      " [ 14.7]\n",
      " [ 10.1]\n",
      " [ 21.5]\n",
      " [ 16.6]\n",
      " [ 17.1]\n",
      " [ 20.7]\n",
      " [ 12.9]\n",
      " [  8.5]\n",
      " [ 14.9]\n",
      " [ 10.6]\n",
      " [ 23.2]\n",
      " [ 14.8]\n",
      " [  9.7]\n",
      " [ 11.4]\n",
      " [ 10.7]\n",
      " [ 22.6]\n",
      " [ 21.2]\n",
      " [ 20.2]\n",
      " [ 23.7]\n",
      " [  5.5]\n",
      " [ 13.2]\n",
      " [ 23.8]\n",
      " [ 18.4]\n",
      " [  8.1]\n",
      " [ 24.2]\n",
      " [ 15.7]\n",
      " [ 14. ]\n",
      " [ 18. ]\n",
      " [  9.3]\n",
      " [  9.5]\n",
      " [ 13.4]\n",
      " [ 18.9]\n",
      " [ 22.3]\n",
      " [ 18.3]\n",
      " [ 12.4]\n",
      " [  8.8]\n",
      " [ 11. ]\n",
      " [ 17. ]\n",
      " [  8.7]\n",
      " [  6.9]\n",
      " [ 14.2]\n",
      " [  5.3]\n",
      " [ 11. ]\n",
      " [ 11.8]\n",
      " [ 12.3]\n",
      " [ 11.3]\n",
      " [ 13.6]\n",
      " [ 21.7]\n",
      " [ 15.2]\n",
      " [ 12. ]\n",
      " [ 16. ]\n",
      " [ 12.9]\n",
      " [ 16.7]\n",
      " [ 11.2]\n",
      " [  7.3]\n",
      " [ 19.4]\n",
      " [ 22.2]\n",
      " [ 11.5]\n",
      " [ 16.9]\n",
      " [ 11.7]\n",
      " [ 15.5]\n",
      " [ 25.4]\n",
      " [ 17.2]\n",
      " [ 11.7]\n",
      " [ 23.8]\n",
      " [ 14.8]\n",
      " [ 14.7]\n",
      " [ 20.7]\n",
      " [ 19.2]\n",
      " [  7.2]\n",
      " [  8.7]\n",
      " [  5.3]\n",
      " [ 19.8]\n",
      " [ 13.4]\n",
      " [ 21.8]\n",
      " [ 14.1]\n",
      " [ 15.9]\n",
      " [ 14.6]\n",
      " [ 12.6]\n",
      " [ 12.2]\n",
      " [  9.4]\n",
      " [ 15.9]\n",
      " [  6.6]\n",
      " [ 15.5]\n",
      " [  7. ]\n",
      " [ 11.6]\n",
      " [ 15.2]\n",
      " [ 19.7]\n",
      " [ 10.6]\n",
      " [  6.6]\n",
      " [  8.8]\n",
      " [ 24.7]\n",
      " [  9.7]\n",
      " [  1.6]\n",
      " [ 12.7]\n",
      " [  5.7]\n",
      " [ 19.6]\n",
      " [ 10.8]\n",
      " [ 11.6]\n",
      " [  9.5]\n",
      " [ 20.8]\n",
      " [  9.6]\n",
      " [ 20.7]\n",
      " [ 10.9]\n",
      " [ 19.2]\n",
      " [ 20.1]\n",
      " [ 10.4]\n",
      " [ 11.4]\n",
      " [ 10.3]\n",
      " [ 13.2]\n",
      " [ 25.4]\n",
      " [ 10.9]\n",
      " [ 10.1]\n",
      " [ 16.1]\n",
      " [ 11.6]\n",
      " [ 16.6]\n",
      " [ 19. ]\n",
      " [ 15.6]\n",
      " [  3.2]\n",
      " [ 15.3]\n",
      " [ 10.1]\n",
      " [  7.3]\n",
      " [ 12.9]\n",
      " [ 14.4]\n",
      " [ 13.3]\n",
      " [ 14.9]\n",
      " [ 18. ]\n",
      " [ 11.9]\n",
      " [ 11.9]\n",
      " [  8. ]\n",
      " [ 12.2]\n",
      " [ 17.1]\n",
      " [ 15. ]\n",
      " [  8.4]\n",
      " [ 14.5]\n",
      " [  7.6]\n",
      " [ 11.7]\n",
      " [ 11.5]\n",
      " [ 27. ]\n",
      " [ 20.2]\n",
      " [ 11.7]\n",
      " [ 11.8]\n",
      " [ 12.6]\n",
      " [ 10.5]\n",
      " [ 12.2]\n",
      " [  8.7]\n",
      " [ 26.2]\n",
      " [ 17.6]\n",
      " [ 22.6]\n",
      " [ 10.3]\n",
      " [ 17.3]\n",
      " [ 15.9]\n",
      " [  6.7]\n",
      " [ 10.8]\n",
      " [  9.9]\n",
      " [  5.9]\n",
      " [ 19.6]\n",
      " [ 17.3]\n",
      " [  7.6]\n",
      " [  9.7]\n",
      " [ 12.8]\n",
      " [ 25.5]\n",
      " [ 13.4]]\n"
     ]
    }
   ],
   "source": [
    "y = np.array(adver_data['Sales'].values)\n",
    "y = y.reshape(len(y),1)\n",
    "X = np.array((adver_data['TV'].values, adver_data['Radio'].values, adver_data['Newspaper'].values)).transpose()\n",
    "print X\n",
    "print y"
   ]
  },
  {
   "cell_type": "markdown",
   "metadata": {},
   "source": [
    "**Отмасштабируйте столбцы матрицы *X*, вычтя из каждого значения среднее по соответствующему столбцу и поделив результат на стандартное отклонение. Для определенности, используйте методы mean и std векторов NumPy (реализация std в Pandas может отличаться). Обратите внимание, что в numpy вызов функции .mean() без параметров возвращает среднее по всем элементам массива, а не по столбцам, как в pandas. Чтобы произвести вычисление по столбцам, необходимо указать параметр axis.**"
   ]
  },
  {
   "cell_type": "code",
   "execution_count": 6,
   "metadata": {
    "collapsed": false
   },
   "outputs": [
    {
     "name": "stdout",
     "output_type": "stream",
     "text": [
      "[ 147.0425   23.264    30.554 ] [ 85.63933176  14.80964564  21.72410606]\n"
     ]
    }
   ],
   "source": [
    "means, stds = X.mean(axis=0), X.std(axis=0)\n",
    "print means, stds"
   ]
  },
  {
   "cell_type": "code",
   "execution_count": 7,
   "metadata": {
    "collapsed": false
   },
   "outputs": [
    {
     "name": "stdout",
     "output_type": "stream",
     "text": [
      "[[  9.69852266e-01   9.81522472e-01   1.77894547e+00]\n",
      " [ -1.19737623e+00   1.08280781e+00   6.69578760e-01]\n",
      " [ -1.51615499e+00   1.52846331e+00   1.78354865e+00]\n",
      " [  5.20496822e-02   1.21785493e+00   1.28640506e+00]\n",
      " [  3.94182198e-01  -8.41613655e-01   1.28180188e+00]\n",
      " [ -1.61540845e+00   1.73103399e+00   2.04592999e+00]\n",
      " [ -1.04557682e+00   6.43904671e-01  -3.24708413e-01]\n",
      " [ -3.13436589e-01  -2.47406325e-01  -8.72486994e-01]\n",
      " [ -1.61657614e+00  -1.42906863e+00  -1.36042422e+00]\n",
      " [  6.16042873e-01  -1.39530685e+00  -4.30581584e-01]\n",
      " [ -9.45155670e-01  -1.17923146e+00  -2.92486143e-01]\n",
      " [  7.90028350e-01   4.96973404e-02  -1.22232878e+00]\n",
      " [ -1.43908760e+00   7.99208859e-01   1.62704048e+00]\n",
      " [ -5.78501712e-01  -1.05768905e+00  -1.07502697e+00]\n",
      " [  6.66253447e-01   6.50657027e-01   7.11007392e-01]\n",
      " [  5.64664612e-01   1.65000572e+00   1.02862691e+00]\n",
      " [ -9.25304978e-01   9.00494200e-01   3.84117072e+00]\n",
      " [  1.56887609e+00   1.10306488e+00   1.16211917e+00]\n",
      " [ -9.08957349e-01  -1.86635121e-01  -5.64073843e-01]\n",
      " [  3.00679600e-03   4.29449843e-02  -5.27248393e-01]\n",
      " [  8.33232798e-01   2.99534513e-01   1.05164281e+00]\n",
      " [  1.05509347e+00  -1.22649795e+00  -3.24708413e-01]\n",
      " [ -1.56286250e+00  -4.97243498e-01   8.76721921e-01]\n",
      " [  9.48833887e-01  -4.29719938e-01  -2.00422516e-01]\n",
      " [ -9.89527805e-01  -7.20071247e-01  -5.64073843e-01]\n",
      " [  1.35285385e+00  -1.33453565e+00  -5.08835667e-01]\n",
      " [ -4.83714657e-02   4.07572210e-01  -8.26455181e-01]\n",
      " [  1.08662104e+00  -4.43224650e-01  -3.52327501e-01]\n",
      " [  1.18820988e+00   2.59020377e-01  -3.52327501e-01]\n",
      " [ -8.92609721e-01  -4.90491142e-01   4.71641962e-01]\n",
      " [  1.70316018e+00   3.40048650e-01   5.82118314e-01]\n",
      " [ -3.98677796e-01  -3.95958157e-01   3.70371972e-01]\n",
      " [ -5.82004775e-01  -1.46958277e+00  -2.55016247e-02]\n",
      " [  1.38438142e+00  -2.20396901e-01  -1.39264649e+00]\n",
      " [ -5.99520091e-01  -1.47633512e+00  -1.06582061e+00]\n",
      " [  1.67747105e+00  -1.29402151e+00  -1.01518562e+00]\n",
      " [  1.39956136e+00   1.38666383e+00  -1.17629696e+00]\n",
      " [ -8.44734522e-01   1.76479577e+00   6.97197848e-01]\n",
      " [ -1.21372386e+00   2.32010953e-01   2.09260624e-01]\n",
      " [  9.45330823e-01   9.74770116e-01   6.65620024e-02]\n",
      " [  6.47570443e-01  -6.50927121e-02   4.81492770e-02]\n",
      " [  3.49810063e-01   6.84418807e-01   3.74975153e-01]\n",
      " [  1.71133400e+00   2.99534513e-01  -1.32359877e+00]\n",
      " [  6.98948705e-01  -1.00367020e+00  -1.91216154e-01]\n",
      " [ -1.42390765e+00   1.64487393e-01   5.86721496e-01]\n",
      " [  3.27623995e-01  -5.15880000e-02   4.35460956e-02]\n",
      " [ -6.69581357e-01  -9.02384859e-01   2.36879713e-01]\n",
      " [  1.08428567e+00   1.23135965e+00  -5.54867481e-01]\n",
      " [  9.35989321e-01  -5.03995854e-01   8.90531465e-01]\n",
      " [ -9.35814168e-01  -7.80842451e-01   2.87514708e-01]\n",
      " [  6.16042873e-01  -1.36154507e+00   1.86244718e-01]\n",
      " [ -5.44638766e-01  -9.22641928e-01  -1.24074150e+00]\n",
      " [  8.09879042e-01   1.24486436e+00   4.16403786e-01]\n",
      " [  4.15200577e-01   1.54872038e+00   1.29561142e+00]\n",
      " [  1.35051848e+00   3.73810430e-01  -6.74550196e-01]\n",
      " [  6.05533683e-01   1.76479577e+00   1.35545278e+00]\n",
      " [ -1.63175608e+00   3.26543937e-01   4.99261050e-01]\n",
      " [ -1.26606546e-01  -2.74415749e-01  -6.42327927e-01]\n",
      " [  7.44488528e-01   1.77830048e+00   3.28943340e-01]\n",
      " [  7.43320840e-01   4.21076922e-01  -9.78360166e-01]\n",
      " [ -1.09228433e+00  -1.43582099e+00  -4.21375221e-01]\n",
      " [  1.33417085e+00   1.31238792e+00   1.11148417e+00]\n",
      " [  1.07727954e+00  -5.24252922e-01  -1.49787521e-01]\n",
      " [ -5.17781948e-01   4.27829278e-01  -1.01978880e+00]\n",
      " [ -1.86158622e-01   1.31914027e+00  -7.61366196e-02]\n",
      " [ -9.11292725e-01  -9.42898996e-01  -1.36502740e+00]\n",
      " [ -1.34917564e+00   9.02114765e-02  -1.30518604e+00]\n",
      " [ -9.04082253e-02  -5.91776482e-01  -9.36931533e-01]\n",
      " [  1.05509347e+00   2.86029801e-01  -9.00106083e-01]\n",
      " [  8.14549794e-01   1.39341619e+00  -1.54390703e-01]\n",
      " [  6.07869059e-01   4.95352838e-01   3.74975153e-01]\n",
      " [ -4.34876116e-01  -6.05281194e-01   5.27524584e-02]\n",
      " [ -1.40405696e+00   6.57409383e-01  -5.18042030e-01]\n",
      " [ -2.06009314e-01  -1.18598381e+00   3.43397329e-02]\n",
      " [  7.74848409e-01   9.02114765e-02  -8.03439274e-01]\n",
      " [ -1.51965805e+00   1.37991148e+00   2.70878810e+00]\n",
      " [ -1.39588315e+00  -1.46283041e+00  -4.53597491e-01]\n",
      " [ -3.09933525e-01   3.53553362e-01  -7.52804279e-01]\n",
      " [ -1.65394214e+00   4.48086346e-01  -9.73756984e-01]\n",
      " [ -3.62479475e-01  -1.05093669e+00  -3.43121138e-01]\n",
      " [ -8.24883830e-01   2.32010953e-01  -3.79946589e-01]\n",
      " [  1.08311798e+00  -1.29402151e+00   2.92117889e-01]\n",
      " [ -8.37728396e-01  -2.00139833e-01   8.95779092e-02]\n",
      " [ -9.18298852e-01   1.43393033e+00   2.32276531e-01]\n",
      " [  7.76016097e-01   1.33264499e+00   1.49419267e-01]\n",
      " [  5.38975481e-01  -3.28434597e-01   1.61783412e+00]\n",
      " [ -8.26051518e-01   2.86029801e-01  -6.69947015e-01]\n",
      " [ -4.24366926e-01   1.17058844e+00   1.50275459e+00]\n",
      " [ -6.85928986e-01   1.50982681e-01   1.97227908e+00]\n",
      " [ -4.34876116e-01   1.65675807e+00   9.59579186e-01]\n",
      " [ -1.48792614e-01  -1.24000266e+00  -9.78360166e-01]\n",
      " [ -1.38303858e+00  -1.46958277e+00   1.12593816e-01]\n",
      " [  8.25058983e-01   6.91171163e-01   1.30942097e+00]\n",
      " [  1.21273132e+00   8.93741844e-01   1.92164409e+00]\n",
      " [ -4.62900623e-01  -6.25538262e-01  -9.04709264e-01]\n",
      " [  1.89836839e-01   5.62876398e-01   1.02862691e+00]\n",
      " [  5.90353742e-01  -1.33453565e+00  -1.13486833e+00]\n",
      " [  4.42057396e-01  -1.52873340e-01  -3.93756133e-01]\n",
      " [  1.66579418e+00   1.28537849e+00   9.50372823e-01]\n",
      " [ -1.38283424e-01   1.24486436e+00   7.06404211e-01]\n",
      " [  8.79940308e-01  -1.28051680e+00   8.85928284e-01]\n",
      " [  1.74402926e+00   8.80237132e-01   3.23815396e+00]\n",
      " [  1.55486384e+00  -8.88880147e-01  -4.21375221e-01]\n",
      " [  4.77088029e-01  -4.09462869e-01  -5.82486569e-01]\n",
      " [  1.06443498e+00   7.45190011e-01  -1.16248742e+00]\n",
      " [ -1.06755854e-01   1.56222509e+00   1.30942097e+00]\n",
      " [ -1.42507534e+00  -8.28108943e-01  -3.93111688e-02]\n",
      " [ -6.61407543e-01  -1.55061104e+00  -3.38517957e-01]\n",
      " [ -1.56403019e+00  -1.54385868e+00  -2.28041604e-01]\n",
      " [  1.26527727e+00   2.45515665e-01  -1.15328106e+00]\n",
      " [  9.19641692e-01  -1.01717491e+00   1.19434143e+00]\n",
      " [  1.10530405e+00   9.95027184e-01  -3.38517957e-01]\n",
      " [  3.34630122e-01  -5.31005278e-01  -1.29597968e+00]\n",
      " [  7.30476274e-01  -1.79882765e-01  -9.13915627e-01]\n",
      " [ -8.03865450e-01   1.58923451e+00   1.81641536e-01]\n",
      " [ -8.40063771e-01   7.92456503e-01   1.01942054e+00]\n",
      " [ -9.15759131e-02  -6.05281194e-01  -2.28041604e-01]\n",
      " [ -8.24883830e-01  -1.51684926e+00  -7.25185191e-01]\n",
      " [ -2.49213762e-01   9.20751268e-01   2.23926360e+00]\n",
      " [ -1.49046586e+00  -4.90491142e-01  -3.79946589e-01]\n",
      " [ -6.70544700e-02   2.38763309e-01   7.20213755e-01]\n",
      " [ -1.49747198e+00  -1.05606848e-01   9.13547372e-01]\n",
      " [  8.98623313e-01  -1.40881156e+00  -6.88359740e-01]\n",
      " [ -2.79573643e-01   7.65447079e-01  -8.35661544e-01]\n",
      " [  9.62846140e-01   6.10142891e-01   2.00910454e+00]\n",
      " [ -6.98773552e-01  -7.74090095e-01  -2.14232060e-01]\n",
      " [ -1.62591764e+00   1.05579839e+00   9.22753735e-01]\n",
      " [ -7.80511695e-01  -1.57086811e+00  -9.82963347e-01]\n",
      " [  8.55418865e-01   1.73778635e+00  -1.25915423e+00]\n",
      " [ -1.02105537e+00  -7.60585383e-01   5.77515133e-01]\n",
      " [ -1.70882347e+00   1.10306488e+00  -1.00597925e+00]\n",
      " [  1.37971067e+00  -1.37504978e+00   5.72911952e-01]\n",
      " [ -1.61891151e+00   2.65772733e-01  -1.30978922e+00]\n",
      " [  8.49580427e-01   6.91171163e-01   6.69578760e-01]\n",
      " [ -1.28612050e+00   1.03554132e+00   1.61323094e+00]\n",
      " [ -1.15300409e+00   1.60273923e+00  -1.01518562e+00]\n",
      " [ -1.41806922e+00   1.06255074e+00  -9.78360166e-01]\n",
      " [  1.47896413e+00   3.80562786e-01   1.34164324e+00]\n",
      " [ -1.21489154e+00   1.77992105e-01  -4.62803854e-01]\n",
      " [  4.42057396e-01   1.39341619e+00  -1.32820195e+00]\n",
      " [ -8.59914463e-01  -4.22967582e-01  -8.12645637e-01]\n",
      " [  5.44813920e-01   8.19465927e-01   2.07354907e+00]\n",
      " [  8.57754241e-01   6.70914095e-01   3.38149702e-01]\n",
      " [ -4.95595880e-01  -1.18598381e+00   1.77038355e-01]\n",
      " [ -5.93681653e-01  -5.71519414e-01   3.84181516e-01]\n",
      " [ -7.87313476e-02  -1.44257334e+00  -9.92169710e-01]\n",
      " [  1.08662104e+00  -1.07794612e+00  -1.00597925e+00]\n",
      " [  1.12281936e+00   1.73778635e+00   6.32753309e-01]\n",
      " [ -1.27327593e+00   1.15033137e+00  -8.58677450e-01]\n",
      " [ -1.19504085e+00   1.71239749e-01  -4.58200672e-01]\n",
      " [  1.56070228e+00  -6.32290618e-01   2.96721070e-01]\n",
      " [ -3.04095087e-01  -1.00367020e+00   8.35293289e-01]\n",
      " [  5.90353742e-01   2.43084817e-03  -7.52804279e-01]\n",
      " [  2.83251860e-01   1.10981724e+00   3.28943340e-01]\n",
      " [  4.75920341e-01  -1.46120984e-01  -9.69153803e-01]\n",
      " [ -1.66912209e+00  -7.87594807e-01  -1.14407469e+00]\n",
      " [ -6.20538471e-01   1.36640677e+00   9.18150553e-01]\n",
      " [  3.21989902e-02  -1.48308748e+00  -2.87882962e-01]\n",
      " [ -1.58037782e+00   9.20751268e-01   6.74181942e-01]\n",
      " [ -1.79152496e-01  -3.28434597e-01   1.86244718e-01]\n",
      " [  2.97264113e-01  -3.48691665e-01   6.72064478e-03]\n",
      " [ -7.16288868e-01   8.46475352e-01   8.62912377e-01]\n",
      " [  4.82926468e-01  -3.48691665e-01  -2.28041604e-01]\n",
      " [  1.92172214e-01   9.13998912e-01  -1.06582061e+00]\n",
      " [ -3.48467222e-01  -5.78271770e-01  -1.15788424e+00]\n",
      " [  1.02123053e+00  -1.34128800e+00   2.49704176e+00]\n",
      " [ -1.50798117e+00   9.68017760e-01  -4.12168859e-01]\n",
      " [  6.97781017e-01  -1.21974559e+00  -5.13438849e-01]\n",
      " [  7.98202165e-01   2.26879163e-02   1.24497643e+00]\n",
      " [  1.60273904e+00  -8.55118367e-01  -1.11185242e+00]\n",
      " [ -1.13315340e+00  -7.87594807e-01  -5.59470662e-01]\n",
      " [  2.03849092e-01  -1.59625696e-01   7.75451931e-01]\n",
      " [ -1.48813048e+00  -2.13644545e-01  -6.23915201e-01]\n",
      " [  2.49388915e-01  -1.09145083e+00  -8.17248818e-01]\n",
      " [  8.79940308e-01  -1.34128800e+00  -8.03439274e-01]\n",
      " [  1.51633014e+00   1.73103399e+00   5.17673775e-01]\n",
      " [  1.18353913e+00   4.68343414e-01  -4.72010216e-01]\n",
      " [  2.70407294e-01  -1.04418434e+00   2.13863806e-01]\n",
      " [  1.51399477e+00  -1.41556392e+00  -3.15502050e-01]\n",
      " [  2.16693657e-01  -8.95632503e-01  -5.96296113e-01]\n",
      " [  1.11601758e-01  -1.39530685e+00  -1.02439198e+00]\n",
      " [  8.34400486e-01  -1.20624088e+00  -1.45184340e-01]\n",
      " [ -1.06075676e+00  -1.18598381e+00  -3.93111688e-02]\n",
      " [  1.64127273e+00   1.33264499e+00   1.89862818e+00]\n",
      " [  1.24659427e+00  -1.32616272e-01  -2.55016247e-02]\n",
      " [  6.76762637e-01   1.47444446e+00  -5.04232486e-01]\n",
      " [ -8.80728498e-02  -1.42906863e+00  -1.82009791e-01]\n",
      " [  5.14454038e-01   3.67058074e-01  -5.68677025e-01]\n",
      " [  1.62258973e+00  -6.32290618e-01  -1.23613832e+00]\n",
      " [ -1.49863967e+00  -7.53833027e-01  -3.29311594e-01]\n",
      " [ -1.25576062e+00   1.20435022e+00  -1.13947151e+00]\n",
      " [ -8.35393020e-01  -8.41613655e-01  -1.13026515e+00]\n",
      " [ -1.51615499e+00  -1.29402151e+00   4.81492770e-02]\n",
      " [  2.30705910e-01   1.26512143e+00  -1.24074150e+00]\n",
      " [  3.10313024e-02   8.32970639e-01  -1.13026515e+00]\n",
      " [ -1.27094056e+00  -1.32103093e+00  -7.71217005e-01]\n",
      " [ -6.17035408e-01  -1.24000266e+00  -1.03359834e+00]\n",
      " [  3.49810063e-01  -9.42898996e-01  -1.11185242e+00]\n",
      " [  1.59456522e+00   1.26512143e+00   1.64085003e+00]\n",
      " [  9.93206022e-01  -9.90165488e-01  -1.00597925e+00]]\n"
     ]
    }
   ],
   "source": [
    "for i in range(3):\n",
    "    for j in range(len(X)):\n",
    "        X[j][i] = (X[j][i] - means[i]) / stds[i]\n",
    "print X"
   ]
  },
  {
   "cell_type": "markdown",
   "metadata": {},
   "source": [
    "**Добавьте к матрице *X* столбец из единиц, используя методы *hstack*, *ones* и *reshape* библиотеки NumPy. Вектор из единиц нужен для того, чтобы не обрабатывать отдельно коэффициент $w_0$ линейной регрессии.**"
   ]
  },
  {
   "cell_type": "code",
   "execution_count": 8,
   "metadata": {
    "collapsed": false
   },
   "outputs": [
    {
     "name": "stdout",
     "output_type": "stream",
     "text": [
      "[[  1.00000000e+00   9.69852266e-01   9.81522472e-01   1.77894547e+00]\n",
      " [  1.00000000e+00  -1.19737623e+00   1.08280781e+00   6.69578760e-01]\n",
      " [  1.00000000e+00  -1.51615499e+00   1.52846331e+00   1.78354865e+00]\n",
      " [  1.00000000e+00   5.20496822e-02   1.21785493e+00   1.28640506e+00]\n",
      " [  1.00000000e+00   3.94182198e-01  -8.41613655e-01   1.28180188e+00]\n",
      " [  1.00000000e+00  -1.61540845e+00   1.73103399e+00   2.04592999e+00]\n",
      " [  1.00000000e+00  -1.04557682e+00   6.43904671e-01  -3.24708413e-01]\n",
      " [  1.00000000e+00  -3.13436589e-01  -2.47406325e-01  -8.72486994e-01]\n",
      " [  1.00000000e+00  -1.61657614e+00  -1.42906863e+00  -1.36042422e+00]\n",
      " [  1.00000000e+00   6.16042873e-01  -1.39530685e+00  -4.30581584e-01]\n",
      " [  1.00000000e+00  -9.45155670e-01  -1.17923146e+00  -2.92486143e-01]\n",
      " [  1.00000000e+00   7.90028350e-01   4.96973404e-02  -1.22232878e+00]\n",
      " [  1.00000000e+00  -1.43908760e+00   7.99208859e-01   1.62704048e+00]\n",
      " [  1.00000000e+00  -5.78501712e-01  -1.05768905e+00  -1.07502697e+00]\n",
      " [  1.00000000e+00   6.66253447e-01   6.50657027e-01   7.11007392e-01]\n",
      " [  1.00000000e+00   5.64664612e-01   1.65000572e+00   1.02862691e+00]\n",
      " [  1.00000000e+00  -9.25304978e-01   9.00494200e-01   3.84117072e+00]\n",
      " [  1.00000000e+00   1.56887609e+00   1.10306488e+00   1.16211917e+00]\n",
      " [  1.00000000e+00  -9.08957349e-01  -1.86635121e-01  -5.64073843e-01]\n",
      " [  1.00000000e+00   3.00679600e-03   4.29449843e-02  -5.27248393e-01]\n",
      " [  1.00000000e+00   8.33232798e-01   2.99534513e-01   1.05164281e+00]\n",
      " [  1.00000000e+00   1.05509347e+00  -1.22649795e+00  -3.24708413e-01]\n",
      " [  1.00000000e+00  -1.56286250e+00  -4.97243498e-01   8.76721921e-01]\n",
      " [  1.00000000e+00   9.48833887e-01  -4.29719938e-01  -2.00422516e-01]\n",
      " [  1.00000000e+00  -9.89527805e-01  -7.20071247e-01  -5.64073843e-01]\n",
      " [  1.00000000e+00   1.35285385e+00  -1.33453565e+00  -5.08835667e-01]\n",
      " [  1.00000000e+00  -4.83714657e-02   4.07572210e-01  -8.26455181e-01]\n",
      " [  1.00000000e+00   1.08662104e+00  -4.43224650e-01  -3.52327501e-01]\n",
      " [  1.00000000e+00   1.18820988e+00   2.59020377e-01  -3.52327501e-01]\n",
      " [  1.00000000e+00  -8.92609721e-01  -4.90491142e-01   4.71641962e-01]\n",
      " [  1.00000000e+00   1.70316018e+00   3.40048650e-01   5.82118314e-01]\n",
      " [  1.00000000e+00  -3.98677796e-01  -3.95958157e-01   3.70371972e-01]\n",
      " [  1.00000000e+00  -5.82004775e-01  -1.46958277e+00  -2.55016247e-02]\n",
      " [  1.00000000e+00   1.38438142e+00  -2.20396901e-01  -1.39264649e+00]\n",
      " [  1.00000000e+00  -5.99520091e-01  -1.47633512e+00  -1.06582061e+00]\n",
      " [  1.00000000e+00   1.67747105e+00  -1.29402151e+00  -1.01518562e+00]\n",
      " [  1.00000000e+00   1.39956136e+00   1.38666383e+00  -1.17629696e+00]\n",
      " [  1.00000000e+00  -8.44734522e-01   1.76479577e+00   6.97197848e-01]\n",
      " [  1.00000000e+00  -1.21372386e+00   2.32010953e-01   2.09260624e-01]\n",
      " [  1.00000000e+00   9.45330823e-01   9.74770116e-01   6.65620024e-02]\n",
      " [  1.00000000e+00   6.47570443e-01  -6.50927121e-02   4.81492770e-02]\n",
      " [  1.00000000e+00   3.49810063e-01   6.84418807e-01   3.74975153e-01]\n",
      " [  1.00000000e+00   1.71133400e+00   2.99534513e-01  -1.32359877e+00]\n",
      " [  1.00000000e+00   6.98948705e-01  -1.00367020e+00  -1.91216154e-01]\n",
      " [  1.00000000e+00  -1.42390765e+00   1.64487393e-01   5.86721496e-01]\n",
      " [  1.00000000e+00   3.27623995e-01  -5.15880000e-02   4.35460956e-02]\n",
      " [  1.00000000e+00  -6.69581357e-01  -9.02384859e-01   2.36879713e-01]\n",
      " [  1.00000000e+00   1.08428567e+00   1.23135965e+00  -5.54867481e-01]\n",
      " [  1.00000000e+00   9.35989321e-01  -5.03995854e-01   8.90531465e-01]\n",
      " [  1.00000000e+00  -9.35814168e-01  -7.80842451e-01   2.87514708e-01]\n",
      " [  1.00000000e+00   6.16042873e-01  -1.36154507e+00   1.86244718e-01]\n",
      " [  1.00000000e+00  -5.44638766e-01  -9.22641928e-01  -1.24074150e+00]\n",
      " [  1.00000000e+00   8.09879042e-01   1.24486436e+00   4.16403786e-01]\n",
      " [  1.00000000e+00   4.15200577e-01   1.54872038e+00   1.29561142e+00]\n",
      " [  1.00000000e+00   1.35051848e+00   3.73810430e-01  -6.74550196e-01]\n",
      " [  1.00000000e+00   6.05533683e-01   1.76479577e+00   1.35545278e+00]\n",
      " [  1.00000000e+00  -1.63175608e+00   3.26543937e-01   4.99261050e-01]\n",
      " [  1.00000000e+00  -1.26606546e-01  -2.74415749e-01  -6.42327927e-01]\n",
      " [  1.00000000e+00   7.44488528e-01   1.77830048e+00   3.28943340e-01]\n",
      " [  1.00000000e+00   7.43320840e-01   4.21076922e-01  -9.78360166e-01]\n",
      " [  1.00000000e+00  -1.09228433e+00  -1.43582099e+00  -4.21375221e-01]\n",
      " [  1.00000000e+00   1.33417085e+00   1.31238792e+00   1.11148417e+00]\n",
      " [  1.00000000e+00   1.07727954e+00  -5.24252922e-01  -1.49787521e-01]\n",
      " [  1.00000000e+00  -5.17781948e-01   4.27829278e-01  -1.01978880e+00]\n",
      " [  1.00000000e+00  -1.86158622e-01   1.31914027e+00  -7.61366196e-02]\n",
      " [  1.00000000e+00  -9.11292725e-01  -9.42898996e-01  -1.36502740e+00]\n",
      " [  1.00000000e+00  -1.34917564e+00   9.02114765e-02  -1.30518604e+00]\n",
      " [  1.00000000e+00  -9.04082253e-02  -5.91776482e-01  -9.36931533e-01]\n",
      " [  1.00000000e+00   1.05509347e+00   2.86029801e-01  -9.00106083e-01]\n",
      " [  1.00000000e+00   8.14549794e-01   1.39341619e+00  -1.54390703e-01]\n",
      " [  1.00000000e+00   6.07869059e-01   4.95352838e-01   3.74975153e-01]\n",
      " [  1.00000000e+00  -4.34876116e-01  -6.05281194e-01   5.27524584e-02]\n",
      " [  1.00000000e+00  -1.40405696e+00   6.57409383e-01  -5.18042030e-01]\n",
      " [  1.00000000e+00  -2.06009314e-01  -1.18598381e+00   3.43397329e-02]\n",
      " [  1.00000000e+00   7.74848409e-01   9.02114765e-02  -8.03439274e-01]\n",
      " [  1.00000000e+00  -1.51965805e+00   1.37991148e+00   2.70878810e+00]\n",
      " [  1.00000000e+00  -1.39588315e+00  -1.46283041e+00  -4.53597491e-01]\n",
      " [  1.00000000e+00  -3.09933525e-01   3.53553362e-01  -7.52804279e-01]\n",
      " [  1.00000000e+00  -1.65394214e+00   4.48086346e-01  -9.73756984e-01]\n",
      " [  1.00000000e+00  -3.62479475e-01  -1.05093669e+00  -3.43121138e-01]\n",
      " [  1.00000000e+00  -8.24883830e-01   2.32010953e-01  -3.79946589e-01]\n",
      " [  1.00000000e+00   1.08311798e+00  -1.29402151e+00   2.92117889e-01]\n",
      " [  1.00000000e+00  -8.37728396e-01  -2.00139833e-01   8.95779092e-02]\n",
      " [  1.00000000e+00  -9.18298852e-01   1.43393033e+00   2.32276531e-01]\n",
      " [  1.00000000e+00   7.76016097e-01   1.33264499e+00   1.49419267e-01]\n",
      " [  1.00000000e+00   5.38975481e-01  -3.28434597e-01   1.61783412e+00]\n",
      " [  1.00000000e+00  -8.26051518e-01   2.86029801e-01  -6.69947015e-01]\n",
      " [  1.00000000e+00  -4.24366926e-01   1.17058844e+00   1.50275459e+00]\n",
      " [  1.00000000e+00  -6.85928986e-01   1.50982681e-01   1.97227908e+00]\n",
      " [  1.00000000e+00  -4.34876116e-01   1.65675807e+00   9.59579186e-01]\n",
      " [  1.00000000e+00  -1.48792614e-01  -1.24000266e+00  -9.78360166e-01]\n",
      " [  1.00000000e+00  -1.38303858e+00  -1.46958277e+00   1.12593816e-01]\n",
      " [  1.00000000e+00   8.25058983e-01   6.91171163e-01   1.30942097e+00]\n",
      " [  1.00000000e+00   1.21273132e+00   8.93741844e-01   1.92164409e+00]\n",
      " [  1.00000000e+00  -4.62900623e-01  -6.25538262e-01  -9.04709264e-01]\n",
      " [  1.00000000e+00   1.89836839e-01   5.62876398e-01   1.02862691e+00]\n",
      " [  1.00000000e+00   5.90353742e-01  -1.33453565e+00  -1.13486833e+00]\n",
      " [  1.00000000e+00   4.42057396e-01  -1.52873340e-01  -3.93756133e-01]\n",
      " [  1.00000000e+00   1.66579418e+00   1.28537849e+00   9.50372823e-01]\n",
      " [  1.00000000e+00  -1.38283424e-01   1.24486436e+00   7.06404211e-01]\n",
      " [  1.00000000e+00   8.79940308e-01  -1.28051680e+00   8.85928284e-01]\n",
      " [  1.00000000e+00   1.74402926e+00   8.80237132e-01   3.23815396e+00]\n",
      " [  1.00000000e+00   1.55486384e+00  -8.88880147e-01  -4.21375221e-01]\n",
      " [  1.00000000e+00   4.77088029e-01  -4.09462869e-01  -5.82486569e-01]\n",
      " [  1.00000000e+00   1.06443498e+00   7.45190011e-01  -1.16248742e+00]\n",
      " [  1.00000000e+00  -1.06755854e-01   1.56222509e+00   1.30942097e+00]\n",
      " [  1.00000000e+00  -1.42507534e+00  -8.28108943e-01  -3.93111688e-02]\n",
      " [  1.00000000e+00  -6.61407543e-01  -1.55061104e+00  -3.38517957e-01]\n",
      " [  1.00000000e+00  -1.56403019e+00  -1.54385868e+00  -2.28041604e-01]\n",
      " [  1.00000000e+00   1.26527727e+00   2.45515665e-01  -1.15328106e+00]\n",
      " [  1.00000000e+00   9.19641692e-01  -1.01717491e+00   1.19434143e+00]\n",
      " [  1.00000000e+00   1.10530405e+00   9.95027184e-01  -3.38517957e-01]\n",
      " [  1.00000000e+00   3.34630122e-01  -5.31005278e-01  -1.29597968e+00]\n",
      " [  1.00000000e+00   7.30476274e-01  -1.79882765e-01  -9.13915627e-01]\n",
      " [  1.00000000e+00  -8.03865450e-01   1.58923451e+00   1.81641536e-01]\n",
      " [  1.00000000e+00  -8.40063771e-01   7.92456503e-01   1.01942054e+00]\n",
      " [  1.00000000e+00  -9.15759131e-02  -6.05281194e-01  -2.28041604e-01]\n",
      " [  1.00000000e+00  -8.24883830e-01  -1.51684926e+00  -7.25185191e-01]\n",
      " [  1.00000000e+00  -2.49213762e-01   9.20751268e-01   2.23926360e+00]\n",
      " [  1.00000000e+00  -1.49046586e+00  -4.90491142e-01  -3.79946589e-01]\n",
      " [  1.00000000e+00  -6.70544700e-02   2.38763309e-01   7.20213755e-01]\n",
      " [  1.00000000e+00  -1.49747198e+00  -1.05606848e-01   9.13547372e-01]\n",
      " [  1.00000000e+00   8.98623313e-01  -1.40881156e+00  -6.88359740e-01]\n",
      " [  1.00000000e+00  -2.79573643e-01   7.65447079e-01  -8.35661544e-01]\n",
      " [  1.00000000e+00   9.62846140e-01   6.10142891e-01   2.00910454e+00]\n",
      " [  1.00000000e+00  -6.98773552e-01  -7.74090095e-01  -2.14232060e-01]\n",
      " [  1.00000000e+00  -1.62591764e+00   1.05579839e+00   9.22753735e-01]\n",
      " [  1.00000000e+00  -7.80511695e-01  -1.57086811e+00  -9.82963347e-01]\n",
      " [  1.00000000e+00   8.55418865e-01   1.73778635e+00  -1.25915423e+00]\n",
      " [  1.00000000e+00  -1.02105537e+00  -7.60585383e-01   5.77515133e-01]\n",
      " [  1.00000000e+00  -1.70882347e+00   1.10306488e+00  -1.00597925e+00]\n",
      " [  1.00000000e+00   1.37971067e+00  -1.37504978e+00   5.72911952e-01]\n",
      " [  1.00000000e+00  -1.61891151e+00   2.65772733e-01  -1.30978922e+00]\n",
      " [  1.00000000e+00   8.49580427e-01   6.91171163e-01   6.69578760e-01]\n",
      " [  1.00000000e+00  -1.28612050e+00   1.03554132e+00   1.61323094e+00]\n",
      " [  1.00000000e+00  -1.15300409e+00   1.60273923e+00  -1.01518562e+00]\n",
      " [  1.00000000e+00  -1.41806922e+00   1.06255074e+00  -9.78360166e-01]\n",
      " [  1.00000000e+00   1.47896413e+00   3.80562786e-01   1.34164324e+00]\n",
      " [  1.00000000e+00  -1.21489154e+00   1.77992105e-01  -4.62803854e-01]\n",
      " [  1.00000000e+00   4.42057396e-01   1.39341619e+00  -1.32820195e+00]\n",
      " [  1.00000000e+00  -8.59914463e-01  -4.22967582e-01  -8.12645637e-01]\n",
      " [  1.00000000e+00   5.44813920e-01   8.19465927e-01   2.07354907e+00]\n",
      " [  1.00000000e+00   8.57754241e-01   6.70914095e-01   3.38149702e-01]\n",
      " [  1.00000000e+00  -4.95595880e-01  -1.18598381e+00   1.77038355e-01]\n",
      " [  1.00000000e+00  -5.93681653e-01  -5.71519414e-01   3.84181516e-01]\n",
      " [  1.00000000e+00  -7.87313476e-02  -1.44257334e+00  -9.92169710e-01]\n",
      " [  1.00000000e+00   1.08662104e+00  -1.07794612e+00  -1.00597925e+00]\n",
      " [  1.00000000e+00   1.12281936e+00   1.73778635e+00   6.32753309e-01]\n",
      " [  1.00000000e+00  -1.27327593e+00   1.15033137e+00  -8.58677450e-01]\n",
      " [  1.00000000e+00  -1.19504085e+00   1.71239749e-01  -4.58200672e-01]\n",
      " [  1.00000000e+00   1.56070228e+00  -6.32290618e-01   2.96721070e-01]\n",
      " [  1.00000000e+00  -3.04095087e-01  -1.00367020e+00   8.35293289e-01]\n",
      " [  1.00000000e+00   5.90353742e-01   2.43084817e-03  -7.52804279e-01]\n",
      " [  1.00000000e+00   2.83251860e-01   1.10981724e+00   3.28943340e-01]\n",
      " [  1.00000000e+00   4.75920341e-01  -1.46120984e-01  -9.69153803e-01]\n",
      " [  1.00000000e+00  -1.66912209e+00  -7.87594807e-01  -1.14407469e+00]\n",
      " [  1.00000000e+00  -6.20538471e-01   1.36640677e+00   9.18150553e-01]\n",
      " [  1.00000000e+00   3.21989902e-02  -1.48308748e+00  -2.87882962e-01]\n",
      " [  1.00000000e+00  -1.58037782e+00   9.20751268e-01   6.74181942e-01]\n",
      " [  1.00000000e+00  -1.79152496e-01  -3.28434597e-01   1.86244718e-01]\n",
      " [  1.00000000e+00   2.97264113e-01  -3.48691665e-01   6.72064478e-03]\n",
      " [  1.00000000e+00  -7.16288868e-01   8.46475352e-01   8.62912377e-01]\n",
      " [  1.00000000e+00   4.82926468e-01  -3.48691665e-01  -2.28041604e-01]\n",
      " [  1.00000000e+00   1.92172214e-01   9.13998912e-01  -1.06582061e+00]\n",
      " [  1.00000000e+00  -3.48467222e-01  -5.78271770e-01  -1.15788424e+00]\n",
      " [  1.00000000e+00   1.02123053e+00  -1.34128800e+00   2.49704176e+00]\n",
      " [  1.00000000e+00  -1.50798117e+00   9.68017760e-01  -4.12168859e-01]\n",
      " [  1.00000000e+00   6.97781017e-01  -1.21974559e+00  -5.13438849e-01]\n",
      " [  1.00000000e+00   7.98202165e-01   2.26879163e-02   1.24497643e+00]\n",
      " [  1.00000000e+00   1.60273904e+00  -8.55118367e-01  -1.11185242e+00]\n",
      " [  1.00000000e+00  -1.13315340e+00  -7.87594807e-01  -5.59470662e-01]\n",
      " [  1.00000000e+00   2.03849092e-01  -1.59625696e-01   7.75451931e-01]\n",
      " [  1.00000000e+00  -1.48813048e+00  -2.13644545e-01  -6.23915201e-01]\n",
      " [  1.00000000e+00   2.49388915e-01  -1.09145083e+00  -8.17248818e-01]\n",
      " [  1.00000000e+00   8.79940308e-01  -1.34128800e+00  -8.03439274e-01]\n",
      " [  1.00000000e+00   1.51633014e+00   1.73103399e+00   5.17673775e-01]\n",
      " [  1.00000000e+00   1.18353913e+00   4.68343414e-01  -4.72010216e-01]\n",
      " [  1.00000000e+00   2.70407294e-01  -1.04418434e+00   2.13863806e-01]\n",
      " [  1.00000000e+00   1.51399477e+00  -1.41556392e+00  -3.15502050e-01]\n",
      " [  1.00000000e+00   2.16693657e-01  -8.95632503e-01  -5.96296113e-01]\n",
      " [  1.00000000e+00   1.11601758e-01  -1.39530685e+00  -1.02439198e+00]\n",
      " [  1.00000000e+00   8.34400486e-01  -1.20624088e+00  -1.45184340e-01]\n",
      " [  1.00000000e+00  -1.06075676e+00  -1.18598381e+00  -3.93111688e-02]\n",
      " [  1.00000000e+00   1.64127273e+00   1.33264499e+00   1.89862818e+00]\n",
      " [  1.00000000e+00   1.24659427e+00  -1.32616272e-01  -2.55016247e-02]\n",
      " [  1.00000000e+00   6.76762637e-01   1.47444446e+00  -5.04232486e-01]\n",
      " [  1.00000000e+00  -8.80728498e-02  -1.42906863e+00  -1.82009791e-01]\n",
      " [  1.00000000e+00   5.14454038e-01   3.67058074e-01  -5.68677025e-01]\n",
      " [  1.00000000e+00   1.62258973e+00  -6.32290618e-01  -1.23613832e+00]\n",
      " [  1.00000000e+00  -1.49863967e+00  -7.53833027e-01  -3.29311594e-01]\n",
      " [  1.00000000e+00  -1.25576062e+00   1.20435022e+00  -1.13947151e+00]\n",
      " [  1.00000000e+00  -8.35393020e-01  -8.41613655e-01  -1.13026515e+00]\n",
      " [  1.00000000e+00  -1.51615499e+00  -1.29402151e+00   4.81492770e-02]\n",
      " [  1.00000000e+00   2.30705910e-01   1.26512143e+00  -1.24074150e+00]\n",
      " [  1.00000000e+00   3.10313024e-02   8.32970639e-01  -1.13026515e+00]\n",
      " [  1.00000000e+00  -1.27094056e+00  -1.32103093e+00  -7.71217005e-01]\n",
      " [  1.00000000e+00  -6.17035408e-01  -1.24000266e+00  -1.03359834e+00]\n",
      " [  1.00000000e+00   3.49810063e-01  -9.42898996e-01  -1.11185242e+00]\n",
      " [  1.00000000e+00   1.59456522e+00   1.26512143e+00   1.64085003e+00]\n",
      " [  1.00000000e+00   9.93206022e-01  -9.90165488e-01  -1.00597925e+00]]\n"
     ]
    }
   ],
   "source": [
    "import numpy as np\n",
    "X = np.hstack( (np.reshape(np.ones(len(X)),(len(X),1)), X ) ) \n",
    "print X"
   ]
  },
  {
   "cell_type": "markdown",
   "metadata": {},
   "source": [
    "**2. Реализуйте функцию *mserror* - среднеквадратичную ошибку прогноза. Она принимает два аргумента - объекты Series *y* (значения целевого признака) и *y\\_pred* (предсказанные значения). Не используйте в этой функции циклы - тогда она будет вычислительно неэффективной.**"
   ]
  },
  {
   "cell_type": "code",
   "execution_count": 9,
   "metadata": {
    "collapsed": false
   },
   "outputs": [],
   "source": [
    "def mserror(y, y_pred):\n",
    "    return np.sum((y - y_pred)**2 / len(y))"
   ]
  },
  {
   "cell_type": "markdown",
   "metadata": {},
   "source": [
    "**Какова среднеквадратичная ошибка прогноза значений Sales, если всегда предсказывать медианное значение Sales по исходной выборке? Запишите ответ в файл '1.txt'.**"
   ]
  },
  {
   "cell_type": "code",
   "execution_count": 10,
   "metadata": {
    "collapsed": false
   },
   "outputs": [
    {
     "name": "stdout",
     "output_type": "stream",
     "text": [
      "28.34575\n"
     ]
    }
   ],
   "source": [
    "answer1 = mserror(y, np.median(y) * np.ones((len(y),1)))\n",
    "print(answer1)\n",
    "write_answer_to_file(answer1, '1.txt')"
   ]
  },
  {
   "cell_type": "markdown",
   "metadata": {},
   "source": [
    "**3. Реализуйте функцию *normal_equation*, которая по заданным матрицам (массивам NumPy) *X* и *y* вычисляет вектор весов $w$ согласно нормальному уравнению линейной регрессии.**"
   ]
  },
  {
   "cell_type": "code",
   "execution_count": 11,
   "metadata": {
    "collapsed": false
   },
   "outputs": [],
   "source": [
    "def normal_equation(X, y):\n",
    "    return np.linalg.pinv(X).dot(y)   "
   ]
  },
  {
   "cell_type": "code",
   "execution_count": 12,
   "metadata": {
    "collapsed": false
   },
   "outputs": [
    {
     "name": "stdout",
     "output_type": "stream",
     "text": [
      "(200L, 4L)\n",
      "(4L, 200L)\n",
      "(200L, 1L)\n",
      "[[ 14.0225    ]\n",
      " [  3.91925365]\n",
      " [  2.79206274]\n",
      " [ -0.02253861]]\n"
     ]
    }
   ],
   "source": [
    "print X.shape\n",
    "print np.linalg.pinv(X).shape\n",
    "print y.shape\n",
    "\n",
    "norm_eq_weights = np.array((normal_equation(X, y)))\n",
    "norm_eq_weights = norm_eq_weights.reshape(len(norm_eq_weights),1)\n",
    "print norm_eq_weights\n",
    "\n",
    "#xx = np.array(([1,1,1],[1,1,1]))\n",
    "#t = np.array(([1],[2],[3]))\n",
    "#print xx\n",
    "#print t\n",
    "#v = xx.dot(t)\n",
    "#print v\n",
    "#v1 = np.array(([5],[4]))\n",
    "#print mserror(v, v1)"
   ]
  },
  {
   "cell_type": "markdown",
   "metadata": {},
   "source": [
    "**Какие продажи предсказываются линейной моделью с весами, найденными с помощью нормального уравнения, в случае средних инвестиций в рекламу по ТВ, радио и в газетах? (то есть при нулевых значениях масштабированных признаков TV, Radio и Newspaper). Запишите ответ в файл '2.txt'.**"
   ]
  },
  {
   "cell_type": "code",
   "execution_count": 13,
   "metadata": {
    "collapsed": false
   },
   "outputs": [
    {
     "name": "stdout",
     "output_type": "stream",
     "text": [
      "14.022\n"
     ]
    }
   ],
   "source": [
    "answer2 = 14.022\n",
    "print(answer2)\n",
    "write_answer_to_file(answer2, '2.txt')"
   ]
  },
  {
   "cell_type": "markdown",
   "metadata": {},
   "source": [
    "**4. Напишите функцию *linear_prediction*, которая принимает на вход матрицу *X* и вектор весов линейной модели *w*, а возвращает вектор прогнозов в виде линейной комбинации столбцов матрицы *X* с весами *w*.**"
   ]
  },
  {
   "cell_type": "code",
   "execution_count": 14,
   "metadata": {
    "collapsed": false
   },
   "outputs": [
    {
     "name": "stdout",
     "output_type": "stream",
     "text": [
      "[[ 20.52397441]\n",
      " [ 12.33785482]\n",
      " [ 12.30767078]\n",
      " [ 17.59782951]\n",
      " [ 13.18867186]\n",
      " [ 12.47834763]\n",
      " [ 11.72975995]\n",
      " [ 12.12295317]\n",
      " [  3.72734086]\n",
      " [ 12.55084872]\n",
      " [  7.0322992 ]\n",
      " [ 17.28512918]\n",
      " [ 10.57712073]\n",
      " [  8.82630048]\n",
      " [ 18.43436638]\n",
      " [ 20.81929952]\n",
      " [ 12.82365674]\n",
      " [ 23.22495716]\n",
      " [  9.95168206]\n",
      " [ 14.16607293]\n",
      " [ 18.10076728]\n",
      " [ 14.7405382 ]\n",
      " [  6.4891503 ]\n",
      " [ 16.5459329 ]\n",
      " [  8.14651887]\n",
      " [ 15.6100386 ]\n",
      " [ 14.98951429]\n",
      " [ 17.05167344]\n",
      " [ 19.41053803]\n",
      " [  9.14402389]\n",
      " [ 21.6339338 ]\n",
      " [ 11.3460929 ]\n",
      " [  7.63888314]\n",
      " [ 18.86426829]\n",
      " [  7.57483051]\n",
      " [ 17.00682618]\n",
      " [ 23.40590052]\n",
      " [ 15.62347779]\n",
      " [  9.90868103]\n",
      " [ 20.44761039]\n",
      " [ 16.37766467]\n",
      " [ 17.2959832 ]\n",
      " [ 21.59580326]\n",
      " [ 13.96385684]\n",
      " [  8.88787996]\n",
      " [ 15.16152314]\n",
      " [  8.87338673]\n",
      " [ 21.7226299 ]\n",
      " [ 16.26362018]\n",
      " [  8.1681656 ]\n",
      " [ 12.63121132]\n",
      " [  9.33981296]\n",
      " [ 20.66297563]\n",
      " [ 19.94469957]\n",
      " [ 20.37443008]\n",
      " [ 21.2926106 ]\n",
      " [  8.52771254]\n",
      " [ 12.77458802]\n",
      " [ 21.89805198]\n",
      " [ 18.13348698]\n",
      " [  5.74215558]\n",
      " [ 22.89067208]\n",
      " [ 16.78426073]\n",
      " [ 13.21069202]\n",
      " [ 16.97773556]\n",
      " [  7.84904532]\n",
      " [  9.01603163]\n",
      " [ 12.0370073 ]\n",
      " [ 18.97657924]\n",
      " [ 21.10891244]\n",
      " [ 17.77949782]\n",
      " [ 10.62693815]\n",
      " [ 10.36684881]\n",
      " [  9.90298206]\n",
      " [ 17.32931197]\n",
      " [ 11.85832174]\n",
      " [  4.47758904]\n",
      " [ 13.81190223]\n",
      " [  8.81331353]\n",
      " [  9.67530328]\n",
      " [ 11.44592364]\n",
      " [ 14.64794093]\n",
      " [ 10.17840799]\n",
      " [ 14.42184212]\n",
      " [ 20.78136464]\n",
      " [ 15.18140789]\n",
      " [ 11.59870739]\n",
      " [ 15.59378475]\n",
      " [ 11.71127101]\n",
      " [ 16.92225511]\n",
      " [  9.99922965]\n",
      " [  4.49631598]\n",
      " [ 19.15639616]\n",
      " [ 21.22757378]\n",
      " [ 10.48212385]\n",
      " [ 16.31492112]\n",
      " [ 12.63571716]\n",
      " [ 15.33707782]\n",
      " [ 24.11860723]\n",
      " [ 16.94035021]\n",
      " [ 13.87595844]\n",
      " [ 23.24248685]\n",
      " [ 17.64409385]\n",
      " [ 14.76221142]\n",
      " [ 20.30110878]\n",
      " [ 17.93641467]\n",
      " [  6.12602215]\n",
      " [  7.10850249]\n",
      " [  3.58725841]\n",
      " [ 19.69293106]\n",
      " [ 14.7598741 ]\n",
      " [ 21.14027498]\n",
      " [ 13.88060985]\n",
      " [ 16.40377623]\n",
      " [ 15.30509593]\n",
      " [ 12.91968895]\n",
      " [ 11.97874744]\n",
      " [  6.5707774 ]\n",
      " [ 15.56609348]\n",
      " [  6.82006767]\n",
      " [ 14.41010605]\n",
      " [  7.83807642]\n",
      " [ 13.6264571 ]\n",
      " [ 15.0827909 ]\n",
      " [ 19.45441306]\n",
      " [  9.12734958]\n",
      " [ 10.57717411]\n",
      " [  6.599669  ]\n",
      " [ 22.25549161]\n",
      " [  7.88410649]\n",
      " [ 10.4276871 ]\n",
      " [ 15.57779819]\n",
      " [  8.44915012]\n",
      " [ 19.26692307]\n",
      " [ 11.8368039 ]\n",
      " [ 14.00141385]\n",
      " [ 11.45348627]\n",
      " [ 20.85125198]\n",
      " [  9.76842795]\n",
      " [ 19.67547632]\n",
      " [  9.48964097]\n",
      " [ 18.39902932]\n",
      " [ 19.24986927]\n",
      " [  8.76480262]\n",
      " [ 10.09133403]\n",
      " [  9.70853872]\n",
      " [ 15.29422368]\n",
      " [ 23.26086103]\n",
      " [ 12.26335941]\n",
      " [  9.8272711 ]\n",
      " [ 18.36720534]\n",
      " [ 10.0095377 ]\n",
      " [ 16.3600003 ]\n",
      " [ 18.22390132]\n",
      " [ 15.50161696]\n",
      " [  5.3075589 ]\n",
      " [ 15.38485192]\n",
      " [ 10.0143112 ]\n",
      " [ 10.38419866]\n",
      " [ 12.39914823]\n",
      " [ 14.21383298]\n",
      " [ 13.55914568]\n",
      " [ 14.94678206]\n",
      " [ 17.35163608]\n",
      " [ 11.0682946 ]\n",
      " [ 14.22372138]\n",
      " [ 10.82439531]\n",
      " [ 13.36324677]\n",
      " [ 17.1861428 ]\n",
      " [ 17.9415563 ]\n",
      " [  7.39497997]\n",
      " [ 14.35827373]\n",
      " [  7.60769238]\n",
      " [ 11.97093887]\n",
      " [ 13.74435742]\n",
      " [ 24.78687031]\n",
      " [ 19.9793727 ]\n",
      " [ 12.1620464 ]\n",
      " [ 16.01099722]\n",
      " [ 12.38455495]\n",
      " [ 10.5871997 ]\n",
      " [ 13.92809918]\n",
      " [  6.55467   ]\n",
      " [ 24.13310013]\n",
      " [ 18.53852096]\n",
      " [ 20.80301059]\n",
      " [  9.69137313]\n",
      " [ 17.07644223]\n",
      " [ 18.64430648]\n",
      " [  6.05162411]\n",
      " [ 12.4891591 ]\n",
      " [  8.42401933]\n",
      " [  4.46622956]\n",
      " [ 18.48695797]\n",
      " [ 16.49530044]\n",
      " [  5.37034248]\n",
      " [  8.16531236]\n",
      " [ 12.78592082]\n",
      " [ 23.76732149]\n",
      " [ 15.17319554]]\n",
      "[[ 22.1]\n",
      " [ 10.4]\n",
      " [  9.3]\n",
      " [ 18.5]\n",
      " [ 12.9]\n",
      " [  7.2]\n",
      " [ 11.8]\n",
      " [ 13.2]\n",
      " [  4.8]\n",
      " [ 10.6]\n",
      " [  8.6]\n",
      " [ 17.4]\n",
      " [  9.2]\n",
      " [  9.7]\n",
      " [ 19. ]\n",
      " [ 22.4]\n",
      " [ 12.5]\n",
      " [ 24.4]\n",
      " [ 11.3]\n",
      " [ 14.6]\n",
      " [ 18. ]\n",
      " [ 12.5]\n",
      " [  5.6]\n",
      " [ 15.5]\n",
      " [  9.7]\n",
      " [ 12. ]\n",
      " [ 15. ]\n",
      " [ 15.9]\n",
      " [ 18.9]\n",
      " [ 10.5]\n",
      " [ 21.4]\n",
      " [ 11.9]\n",
      " [  9.6]\n",
      " [ 17.4]\n",
      " [  9.5]\n",
      " [ 12.8]\n",
      " [ 25.4]\n",
      " [ 14.7]\n",
      " [ 10.1]\n",
      " [ 21.5]\n",
      " [ 16.6]\n",
      " [ 17.1]\n",
      " [ 20.7]\n",
      " [ 12.9]\n",
      " [  8.5]\n",
      " [ 14.9]\n",
      " [ 10.6]\n",
      " [ 23.2]\n",
      " [ 14.8]\n",
      " [  9.7]\n",
      " [ 11.4]\n",
      " [ 10.7]\n",
      " [ 22.6]\n",
      " [ 21.2]\n",
      " [ 20.2]\n",
      " [ 23.7]\n",
      " [  5.5]\n",
      " [ 13.2]\n",
      " [ 23.8]\n",
      " [ 18.4]\n",
      " [  8.1]\n",
      " [ 24.2]\n",
      " [ 15.7]\n",
      " [ 14. ]\n",
      " [ 18. ]\n",
      " [  9.3]\n",
      " [  9.5]\n",
      " [ 13.4]\n",
      " [ 18.9]\n",
      " [ 22.3]\n",
      " [ 18.3]\n",
      " [ 12.4]\n",
      " [  8.8]\n",
      " [ 11. ]\n",
      " [ 17. ]\n",
      " [  8.7]\n",
      " [  6.9]\n",
      " [ 14.2]\n",
      " [  5.3]\n",
      " [ 11. ]\n",
      " [ 11.8]\n",
      " [ 12.3]\n",
      " [ 11.3]\n",
      " [ 13.6]\n",
      " [ 21.7]\n",
      " [ 15.2]\n",
      " [ 12. ]\n",
      " [ 16. ]\n",
      " [ 12.9]\n",
      " [ 16.7]\n",
      " [ 11.2]\n",
      " [  7.3]\n",
      " [ 19.4]\n",
      " [ 22.2]\n",
      " [ 11.5]\n",
      " [ 16.9]\n",
      " [ 11.7]\n",
      " [ 15.5]\n",
      " [ 25.4]\n",
      " [ 17.2]\n",
      " [ 11.7]\n",
      " [ 23.8]\n",
      " [ 14.8]\n",
      " [ 14.7]\n",
      " [ 20.7]\n",
      " [ 19.2]\n",
      " [  7.2]\n",
      " [  8.7]\n",
      " [  5.3]\n",
      " [ 19.8]\n",
      " [ 13.4]\n",
      " [ 21.8]\n",
      " [ 14.1]\n",
      " [ 15.9]\n",
      " [ 14.6]\n",
      " [ 12.6]\n",
      " [ 12.2]\n",
      " [  9.4]\n",
      " [ 15.9]\n",
      " [  6.6]\n",
      " [ 15.5]\n",
      " [  7. ]\n",
      " [ 11.6]\n",
      " [ 15.2]\n",
      " [ 19.7]\n",
      " [ 10.6]\n",
      " [  6.6]\n",
      " [  8.8]\n",
      " [ 24.7]\n",
      " [  9.7]\n",
      " [  1.6]\n",
      " [ 12.7]\n",
      " [  5.7]\n",
      " [ 19.6]\n",
      " [ 10.8]\n",
      " [ 11.6]\n",
      " [  9.5]\n",
      " [ 20.8]\n",
      " [  9.6]\n",
      " [ 20.7]\n",
      " [ 10.9]\n",
      " [ 19.2]\n",
      " [ 20.1]\n",
      " [ 10.4]\n",
      " [ 11.4]\n",
      " [ 10.3]\n",
      " [ 13.2]\n",
      " [ 25.4]\n",
      " [ 10.9]\n",
      " [ 10.1]\n",
      " [ 16.1]\n",
      " [ 11.6]\n",
      " [ 16.6]\n",
      " [ 19. ]\n",
      " [ 15.6]\n",
      " [  3.2]\n",
      " [ 15.3]\n",
      " [ 10.1]\n",
      " [  7.3]\n",
      " [ 12.9]\n",
      " [ 14.4]\n",
      " [ 13.3]\n",
      " [ 14.9]\n",
      " [ 18. ]\n",
      " [ 11.9]\n",
      " [ 11.9]\n",
      " [  8. ]\n",
      " [ 12.2]\n",
      " [ 17.1]\n",
      " [ 15. ]\n",
      " [  8.4]\n",
      " [ 14.5]\n",
      " [  7.6]\n",
      " [ 11.7]\n",
      " [ 11.5]\n",
      " [ 27. ]\n",
      " [ 20.2]\n",
      " [ 11.7]\n",
      " [ 11.8]\n",
      " [ 12.6]\n",
      " [ 10.5]\n",
      " [ 12.2]\n",
      " [  8.7]\n",
      " [ 26.2]\n",
      " [ 17.6]\n",
      " [ 22.6]\n",
      " [ 10.3]\n",
      " [ 17.3]\n",
      " [ 15.9]\n",
      " [  6.7]\n",
      " [ 10.8]\n",
      " [  9.9]\n",
      " [  5.9]\n",
      " [ 19.6]\n",
      " [ 17.3]\n",
      " [  7.6]\n",
      " [  9.7]\n",
      " [ 12.8]\n",
      " [ 25.5]\n",
      " [ 13.4]]\n"
     ]
    }
   ],
   "source": [
    "def linear_prediction(X, w):\n",
    "    return X.dot(w)\n",
    "\n",
    "print linear_prediction(X, norm_eq_weights)\n",
    "print y"
   ]
  },
  {
   "cell_type": "markdown",
   "metadata": {},
   "source": [
    "**Какова среднеквадратичная ошибка прогноза значений Sales в виде линейной модели с весами, найденными с помощью нормального уравнения? Запишите ответ в файл '3.txt'.**"
   ]
  },
  {
   "cell_type": "code",
   "execution_count": 15,
   "metadata": {
    "collapsed": false
   },
   "outputs": [
    {
     "name": "stdout",
     "output_type": "stream",
     "text": [
      "2.78412631451\n"
     ]
    }
   ],
   "source": [
    "answer3 = mserror(y, linear_prediction(X, norm_eq_weights))\n",
    "print(answer3)\n",
    "write_answer_to_file(answer3, '3.txt')"
   ]
  },
  {
   "cell_type": "markdown",
   "metadata": {},
   "source": [
    "**5. Напишите функцию *stochastic_gradient_step*, реализующую шаг стохастического градиентного спуска для линейной регрессии. Функция должна принимать матрицу *X*, вектора *y* и *w*, число *train_ind* - индекс объекта обучающей выборки (строки матрицы *X*), по которому считается изменение весов, а также число *$\\eta$* (eta) - шаг градиентного спуска (по умолчанию *eta*=0.01). Результатом будет вектор обновленных весов. Наша реализация функции будет явно написана для данных с 3 признаками, но несложно модифицировать для любого числа признаков, можете это сделать.**"
   ]
  },
  {
   "cell_type": "code",
   "execution_count": 86,
   "metadata": {
    "collapsed": false
   },
   "outputs": [
    {
     "name": "stdout",
     "output_type": "stream",
     "text": [
      "-1.57602559028\n",
      "[[-1.57602559]\n",
      " [-1.57602559]]\n",
      "[[ 14.02265677]\n",
      " [  3.91910548]\n",
      " [  2.79187787]\n",
      " [ -0.02258446]]\n",
      "1.0\n"
     ]
    }
   ],
   "source": [
    "#print np.array((X[0]))\n",
    "#print norm_eq_weights\n",
    "#print y[0]\n",
    "#print len(y)\n",
    "#print 2 * 0.01 / len(y) * np.sum((X[0] * norm_eq_weights - y[0])**2)\n",
    "train_ind = 0\n",
    "matr = np.array([1])\n",
    "t = np.sum((X[train_ind].dot(norm_eq_weights) - y[train_ind])[0])\n",
    "print t\n",
    "print np.array(([t],[t]))\n",
    "def stochastic_gradient_step(X, y, w, train_ind, eta=0.01):\n",
    "    grad0 = 2 * eta / len(y) * (X[train_ind].dot(w) - y[train_ind])[0]\n",
    "    grad1 = 2 * eta / len(y) * (X[train_ind].dot(w) - y[train_ind])[0] * X[train_ind][1]\n",
    "    grad2 = 2 * eta / len(y) * (X[train_ind].dot(w) - y[train_ind])[0] * X[train_ind][2]\n",
    "    grad3 = 2 * eta / len(y) * (X[train_ind].dot(w) - y[train_ind])[0] * X[train_ind][3]\n",
    "    return  w - np.array(([grad0], [grad1], [grad2], [grad3]))\n",
    "\n",
    "print stochastic_gradient_step(X, y, norm_eq_weights, 10, eta=0.01)\n",
    "print X[train_ind][0]"
   ]
  },
  {
   "cell_type": "markdown",
   "metadata": {},
   "source": [
    "**6. Напишите функцию *stochastic_gradient_descent*, реализующую стохастический градиентный спуск для линейной регрессии. Функция принимает на вход следующие аргументы:**\n",
    "- X - матрица, соответствующая обучающей выборке\n",
    "- y - вектор значений целевого признака\n",
    "- w_init - вектор начальных весов модели\n",
    "- eta - шаг градиентного спуска (по умолчанию 0.01)\n",
    "- max_iter - максимальное число итераций градиентного спуска (по умолчанию 10000)\n",
    "- max_weight_dist - минимальное евклидово расстояние между векторами весов на соседних итерациях градиентного спуска,\n",
    "при котором алгоритм прекращает работу (по умолчанию 1e-8)\n",
    "- seed - число, используемое для воспроизводимости сгенерированных псевдослучайных чисел (по умолчанию 42)\n",
    "- verbose - флаг печати информации (например, для отладки, по умолчанию False)\n",
    "\n",
    "**На каждой итерации в вектор (список) должно записываться текущее значение среднеквадратичной ошибки. Функция должна возвращать вектор весов $w$, а также вектор (список) ошибок.**"
   ]
  },
  {
   "cell_type": "code",
   "execution_count": 88,
   "metadata": {
    "collapsed": false
   },
   "outputs": [],
   "source": [
    "def stochastic_gradient_descent(X, y, w_init, eta=1e-2, max_iter=1e4,\n",
    "                                min_weight_dist=1e-8, seed=42, verbose=False):\n",
    "    # Инициализируем расстояние между векторами весов на соседних\n",
    "    # итерациях большим числом. \n",
    "    weight_dist = np.inf\n",
    "    # Инициализируем вектор весов\n",
    "    w = w_init\n",
    "    w_old = w_init\n",
    "    # Сюда будем записывать ошибки на каждой итерации\n",
    "    errors = []\n",
    "    # Счетчик итераций\n",
    "    iter_num = 0\n",
    "    # Будем порождать псевдослучайные числа \n",
    "    # (номер объекта, который будет менять веса), а для воспроизводимости\n",
    "    # этой последовательности псевдослучайных чисел используем seed.\n",
    "    np.random.seed(seed)\n",
    "        \n",
    "    # Основной цикл\n",
    "    while weight_dist > min_weight_dist and iter_num < max_iter:\n",
    "        # порождаем псевдослучайный \n",
    "        # индекс объекта обучающей выборки\n",
    "        random_ind = np.random.randint(X.shape[0])\n",
    "        \n",
    "        w = stochastic_gradient_step(X, y, w, random_ind, eta)\n",
    "        errors.append(mserror(y, linear_prediction(X, w)))\n",
    "        \n",
    "        weight_dist = np.linalg.norm(w - w_old)\n",
    "        w_old = w\n",
    "        iter_num += 1\n",
    "        \n",
    "        #print w\n",
    "        #print weight_dist\n",
    "        \n",
    "        \n",
    "    return w, errors"
   ]
  },
  {
   "cell_type": "code",
   "execution_count": null,
   "metadata": {
    "collapsed": false
   },
   "outputs": [],
   "source": [
    "print np.zeros((4,1))"
   ]
  },
  {
   "cell_type": "markdown",
   "metadata": {},
   "source": [
    " **Запустите $10^5$ итераций стохастического градиентного спуска. Укажите вектор начальных весов *w_init*, состоящий из нулей. Оставьте параметры  *eta* и *seed* равными их значениям по умолчанию (*eta*=0.01, *seed*=42 - это важно для проверки ответов).**"
   ]
  },
  {
   "cell_type": "code",
   "execution_count": 89,
   "metadata": {
    "collapsed": false
   },
   "outputs": [
    {
     "name": "stdout",
     "output_type": "stream",
     "text": [
      "Wall time: 2.5 s\n"
     ]
    }
   ],
   "source": [
    "%%time\n",
    "stoch_grad_desc_weights, stoch_errors_by_iter = stochastic_gradient_descent(X, y, np.zeros((4,1)), eta=1e-2, max_iter=1e7,\n",
    "                                min_weight_dist=1e-8, seed=42, verbose=False)\n",
    "#print stoch_grad_desc_weights, stoch_errors_by_iter"
   ]
  },
  {
   "cell_type": "markdown",
   "metadata": {},
   "source": [
    "**Посмотрим, чему равна ошибка на первых 50 итерациях стохастического градиентного спуска. Видим, что ошибка не обязательно уменьшается на каждой итерации.**"
   ]
  },
  {
   "cell_type": "code",
   "execution_count": 90,
   "metadata": {
    "collapsed": false
   },
   "outputs": [
    {
     "name": "stdout",
     "output_type": "stream",
     "text": [
      "Populating the interactive namespace from numpy and matplotlib\n"
     ]
    },
    {
     "data": {
      "text/plain": [
       "<matplotlib.text.Text at 0x12c48080>"
      ]
     },
     "execution_count": 90,
     "metadata": {},
     "output_type": "execute_result"
    },
    {
     "data": {
      "image/png": "[encoded data removed]",
      "text/plain": [
       "<matplotlib.figure.Figure at 0x125697b8>"
      ]
     },
     "metadata": {},
     "output_type": "display_data"
    }
   ],
   "source": [
    "%pylab inline\n",
    "plot(range(50), stoch_errors_by_iter[:50])\n",
    "xlabel('Iteration number')\n",
    "ylabel('MSE')"
   ]
  },
  {
   "cell_type": "markdown",
   "metadata": {},
   "source": [
    "**Теперь посмотрим на зависимость ошибки от номера итерации для $10^5$ итераций стохастического градиентного спуска. Видим, что алгоритм сходится.**"
   ]
  },
  {
   "cell_type": "code",
   "execution_count": 91,
   "metadata": {
    "collapsed": false
   },
   "outputs": [
    {
     "name": "stdout",
     "output_type": "stream",
     "text": [
      "Populating the interactive namespace from numpy and matplotlib\n"
     ]
    },
    {
     "data": {
      "text/plain": [
       "<matplotlib.text.Text at 0x127df240>"
      ]
     },
     "execution_count": 91,
     "metadata": {},
     "output_type": "execute_result"
    },
    {
     "data": {
      "image/png": "[encoded data removed]",
      "text/plain": [
       "<matplotlib.figure.Figure at 0x12c525c0>"
      ]
     },
     "metadata": {},
     "output_type": "display_data"
    }
   ],
   "source": [
    "%pylab inline\n",
    "plot(range(len(stoch_errors_by_iter)), stoch_errors_by_iter)\n",
    "xlabel('Iteration number')\n",
    "ylabel('MSE')"
   ]
  },
  {
   "cell_type": "markdown",
   "metadata": {},
   "source": [
    "**Посмотрим на вектор весов, к которому сошелся метод.**"
   ]
  },
  {
   "cell_type": "code",
   "execution_count": 92,
   "metadata": {
    "collapsed": false
   },
   "outputs": [
    {
     "data": {
      "text/plain": [
       "array([[  1.40190566e+01],\n",
       "       [  3.91069256e+00],\n",
       "       [  2.78209808e+00],\n",
       "       [ -8.10462217e-03]])"
      ]
     },
     "execution_count": 92,
     "metadata": {},
     "output_type": "execute_result"
    }
   ],
   "source": [
    "stoch_grad_desc_weights"
   ]
  },
  {
   "cell_type": "markdown",
   "metadata": {},
   "source": [
    "**Посмотрим на среднеквадратичную ошибку на последней итерации.**"
   ]
  },
  {
   "cell_type": "code",
   "execution_count": 93,
   "metadata": {
    "collapsed": false
   },
   "outputs": [
    {
     "data": {
      "text/plain": [
       "2.7844125884067044"
      ]
     },
     "execution_count": 93,
     "metadata": {},
     "output_type": "execute_result"
    }
   ],
   "source": [
    "stoch_errors_by_iter[-1]"
   ]
  },
  {
   "cell_type": "markdown",
   "metadata": {},
   "source": [
    "**Какова среднеквадратичная ошибка прогноза значений Sales в виде линейной модели с весами, найденными с помощью градиентного спуска? Запишите ответ в файл '4.txt'.**"
   ]
  },
  {
   "cell_type": "code",
   "execution_count": 94,
   "metadata": {
    "collapsed": false
   },
   "outputs": [
    {
     "name": "stdout",
     "output_type": "stream",
     "text": [
      "2.784\n"
     ]
    }
   ],
   "source": [
    "answer4 = 2.784\n",
    "print(answer4)\n",
    "write_answer_to_file(answer4, '4.txt')"
   ]
  },
  {
   "cell_type": "markdown",
   "metadata": {},
   "source": [
    "**Ответами к заданию будут текстовые файлы, полученные в ходе этого решения. Обратите внимание, что отправленные файлы не должны содержать пустую строку в конце. Данный нюанс является ограничением платформы Coursera. Мы работаем над исправлением этого ограничения.**"
   ]
  }
 ],
 "metadata": {
  "kernelspec": {
   "display_name": "Python [Root]",
   "language": "python",
   "name": "Python [Root]"
  },
  "language_info": {
   "codemirror_mode": {
    "name": "ipython",
    "version": 2
   },
   "file_extension": ".py",
   "mimetype": "text/x-python",
   "name": "python",
   "nbconvert_exporter": "python",
   "pygments_lexer": "ipython2",
   "version": "2.7.11"
  }
 },
 "nbformat": 4,
 "nbformat_minor": 0
}
