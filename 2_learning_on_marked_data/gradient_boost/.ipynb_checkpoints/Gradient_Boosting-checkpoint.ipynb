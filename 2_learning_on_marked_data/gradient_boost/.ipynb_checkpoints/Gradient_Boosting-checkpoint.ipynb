{
 "cells": [
  {
   "cell_type": "code",
   "execution_count": 1,
   "metadata": {
    "collapsed": false
   },
   "outputs": [],
   "source": [
    "from sklearn.datasets import load_boston \n",
    "from sklearn.model_selection import train_test_split\n",
    "from sklearn.tree import DecisionTreeRegressor\n",
    "from sklearn.linear_model import LinearRegression\n",
    "from sklearn.metrics import mean_squared_error\n",
    "import matplotlib.pyplot as plt\n",
    "import numpy as np\n",
    "\n",
    "%matplotlib inline"
   ]
  },
  {
   "cell_type": "code",
   "execution_count": 14,
   "metadata": {
    "collapsed": false
   },
   "outputs": [
    {
     "name": "stdout",
     "output_type": "stream",
     "text": [
      "(506L, 13L)\n",
      "(506L,)\n"
     ]
    }
   ],
   "source": [
    "boston = load_boston()\n",
    "X = boston.data\n",
    "y = boston.target\n",
    "print X.shape\n",
    "offset = int(X.shape[0] * 0.75)\n",
    "X_train, y_train = X[:offset], y[:offset]\n",
    "X_test, y_test = X[offset:], y[offset:]\n",
    "print y.shape"
   ]
  },
  {
   "cell_type": "code",
   "execution_count": 17,
   "metadata": {
    "collapsed": false
   },
   "outputs": [
    {
     "name": "stdout",
     "output_type": "stream",
     "text": [
      "4.81089328026\n"
     ]
    }
   ],
   "source": [
    "def gbm_L(y, z):\n",
    "    return (y-z)**2\n",
    " \n",
    "\n",
    "def dbm_L_der(y, z):\n",
    "    # ignore coefficient 2\n",
    "    return (y - z)\n",
    " \n",
    "J = 50\n",
    "\n",
    "coef = 0.9\n",
    "base_algorithms_list = []\n",
    "coefficients_list = []\n",
    "\n",
    "def gbm_predict(X):\n",
    "    return [np.sum([coeff * algo.predict([x])[0] for algo, coeff in zip(base_algorithms_list, coefficients_list)]) for x in X]\n",
    " \n",
    "\n",
    "b = DecisionTreeRegressor(max_depth=5 ,random_state=42)\n",
    "b.fit(X_train,y_train)\n",
    "base_algorithms_list.append(b)\n",
    "coefficients_list.append(coef)\n",
    " \n",
    "for j in xrange(1, J):\n",
    "    b = DecisionTreeRegressor(max_depth=5 ,random_state=42)\n",
    "    b.fit(X_train,y_train - gbm_predict(X_train))\n",
    "    base_algorithms_list.append(b)\n",
    "    coefficients_list.append(coef / (1.0 + j))\n",
    "print np.sqrt(mean_squared_error(y_test, gbm_predict(X_test)))"
   ]
  },
  {
   "cell_type": "code",
   "execution_count": 18,
   "metadata": {
    "collapsed": false
   },
   "outputs": [
    {
     "name": "stdout",
     "output_type": "stream",
     "text": [
      "8.27046803494\n"
     ]
    }
   ],
   "source": [
    "regr = LinearRegression()\n",
    "regr.fit(X_train, y_train)\n",
    "y_score = regr.predict(X_test)\n",
    "print np.sqrt(mean_squared_error(y_test, y_score))"
   ]
  }
 ],
 "metadata": {
  "anaconda-cloud": {},
  "kernelspec": {
   "display_name": "Python [Root]",
   "language": "python",
   "name": "Python [Root]"
  },
  "language_info": {
   "codemirror_mode": {
    "name": "ipython",
    "version": 2
   },
   "file_extension": ".py",
   "mimetype": "text/x-python",
   "name": "python",
   "nbconvert_exporter": "python",
   "pygments_lexer": "ipython2",
   "version": "2.7.11"
  }
 },
 "nbformat": 4,
 "nbformat_minor": 0
}
