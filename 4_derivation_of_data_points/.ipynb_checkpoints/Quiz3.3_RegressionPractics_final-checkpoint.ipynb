{
 "cells": [
  {
   "cell_type": "code",
   "execution_count": 1,
   "metadata": {},
   "outputs": [
    {
     "name": "stderr",
     "output_type": "stream",
     "text": [
      "C:\\Users\\evasiliev\\AppData\\Local\\Continuum\\Anaconda2\\lib\\site-packages\\statsmodels\\compat\\pandas.py:56: FutureWarning: The pandas.core.datetools module is deprecated and will be removed in a future version. Please use the pandas.tseries module instead.\n",
      "  from pandas.core import datetools\n"
     ]
    }
   ],
   "source": [
    "import pandas as pd\n",
    "import math\n",
    "import statsmodels.formula.api as smf\n",
    "import statsmodels.stats.api as sms"
   ]
  },
  {
   "cell_type": "markdown",
   "metadata": {},
   "source": [
    "<font color='green'>\n",
    "### 1"
   ]
  },
  {
   "cell_type": "code",
   "execution_count": 2,
   "metadata": {},
   "outputs": [
    {
     "data": {
      "text/html": [
       "<div>\n",
       "<style>\n",
       "    .dataframe thead tr:only-child th {\n",
       "        text-align: right;\n",
       "    }\n",
       "\n",
       "    .dataframe thead th {\n",
       "        text-align: left;\n",
       "    }\n",
       "\n",
       "    .dataframe tbody tr th {\n",
       "        vertical-align: top;\n",
       "    }\n",
       "</style>\n",
       "<table border=\"1\" class=\"dataframe\">\n",
       "  <thead>\n",
       "    <tr style=\"text-align: right;\">\n",
       "      <th></th>\n",
       "      <th>ceb</th>\n",
       "      <th>age</th>\n",
       "      <th>educ</th>\n",
       "      <th>religion</th>\n",
       "      <th>idlnchld</th>\n",
       "      <th>knowmeth</th>\n",
       "      <th>usemeth</th>\n",
       "      <th>evermarr</th>\n",
       "      <th>agefm</th>\n",
       "      <th>heduc</th>\n",
       "      <th>urban</th>\n",
       "      <th>electric</th>\n",
       "      <th>radio</th>\n",
       "      <th>tv</th>\n",
       "      <th>bicycle</th>\n",
       "    </tr>\n",
       "  </thead>\n",
       "  <tbody>\n",
       "    <tr>\n",
       "      <th>4356</th>\n",
       "      <td>0</td>\n",
       "      <td>16</td>\n",
       "      <td>7</td>\n",
       "      <td>protestant</td>\n",
       "      <td>2.0</td>\n",
       "      <td>1.0</td>\n",
       "      <td>0.0</td>\n",
       "      <td>0</td>\n",
       "      <td>NaN</td>\n",
       "      <td>NaN</td>\n",
       "      <td>0</td>\n",
       "      <td>0.0</td>\n",
       "      <td>1.0</td>\n",
       "      <td>0.0</td>\n",
       "      <td>0.0</td>\n",
       "    </tr>\n",
       "    <tr>\n",
       "      <th>4357</th>\n",
       "      <td>2</td>\n",
       "      <td>28</td>\n",
       "      <td>7</td>\n",
       "      <td>protestant</td>\n",
       "      <td>4.0</td>\n",
       "      <td>1.0</td>\n",
       "      <td>1.0</td>\n",
       "      <td>0</td>\n",
       "      <td>NaN</td>\n",
       "      <td>NaN</td>\n",
       "      <td>0</td>\n",
       "      <td>0.0</td>\n",
       "      <td>1.0</td>\n",
       "      <td>0.0</td>\n",
       "      <td>0.0</td>\n",
       "    </tr>\n",
       "    <tr>\n",
       "      <th>4358</th>\n",
       "      <td>4</td>\n",
       "      <td>24</td>\n",
       "      <td>5</td>\n",
       "      <td>protestant</td>\n",
       "      <td>4.0</td>\n",
       "      <td>1.0</td>\n",
       "      <td>1.0</td>\n",
       "      <td>0</td>\n",
       "      <td>NaN</td>\n",
       "      <td>NaN</td>\n",
       "      <td>0</td>\n",
       "      <td>0.0</td>\n",
       "      <td>1.0</td>\n",
       "      <td>0.0</td>\n",
       "      <td>0.0</td>\n",
       "    </tr>\n",
       "    <tr>\n",
       "      <th>4359</th>\n",
       "      <td>1</td>\n",
       "      <td>26</td>\n",
       "      <td>0</td>\n",
       "      <td>spirit</td>\n",
       "      <td>5.0</td>\n",
       "      <td>1.0</td>\n",
       "      <td>0.0</td>\n",
       "      <td>1</td>\n",
       "      <td>22.0</td>\n",
       "      <td>7.0</td>\n",
       "      <td>0</td>\n",
       "      <td>0.0</td>\n",
       "      <td>1.0</td>\n",
       "      <td>0.0</td>\n",
       "      <td>0.0</td>\n",
       "    </tr>\n",
       "    <tr>\n",
       "      <th>4360</th>\n",
       "      <td>6</td>\n",
       "      <td>36</td>\n",
       "      <td>3</td>\n",
       "      <td>protestant</td>\n",
       "      <td>8.0</td>\n",
       "      <td>1.0</td>\n",
       "      <td>1.0</td>\n",
       "      <td>1</td>\n",
       "      <td>21.0</td>\n",
       "      <td>0.0</td>\n",
       "      <td>0</td>\n",
       "      <td>0.0</td>\n",
       "      <td>1.0</td>\n",
       "      <td>0.0</td>\n",
       "      <td>0.0</td>\n",
       "    </tr>\n",
       "  </tbody>\n",
       "</table>\n",
       "</div>"
      ],
      "text/plain": [
       "      ceb  age  educ    religion  idlnchld  knowmeth  usemeth  evermarr  \\\n",
       "4356    0   16     7  protestant       2.0       1.0      0.0         0   \n",
       "4357    2   28     7  protestant       4.0       1.0      1.0         0   \n",
       "4358    4   24     5  protestant       4.0       1.0      1.0         0   \n",
       "4359    1   26     0      spirit       5.0       1.0      0.0         1   \n",
       "4360    6   36     3  protestant       8.0       1.0      1.0         1   \n",
       "\n",
       "      agefm  heduc  urban  electric  radio   tv  bicycle  \n",
       "4356    NaN    NaN      0       0.0    1.0  0.0      0.0  \n",
       "4357    NaN    NaN      0       0.0    1.0  0.0      0.0  \n",
       "4358    NaN    NaN      0       0.0    1.0  0.0      0.0  \n",
       "4359   22.0    7.0      0       0.0    1.0  0.0      0.0  \n",
       "4360   21.0    0.0      0       0.0    1.0  0.0      0.0  "
      ]
     },
     "execution_count": 2,
     "metadata": {},
     "output_type": "execute_result"
    }
   ],
   "source": [
    "df_botswana = pd.read_csv('botswana.tsv', sep='\\t')\n",
    "df_botswana.tail()"
   ]
  },
  {
   "cell_type": "code",
   "execution_count": 3,
   "metadata": {},
   "outputs": [
    {
     "data": {
      "text/plain": [
       "spirit        1841\n",
       "other         1080\n",
       "protestant     993\n",
       "catholic       447\n",
       "Name: religion, dtype: int64"
      ]
     },
     "execution_count": 3,
     "metadata": {},
     "output_type": "execute_result"
    }
   ],
   "source": [
    "df_botswana.religion.value_counts()"
   ]
  },
  {
   "cell_type": "markdown",
   "metadata": {},
   "source": [
    "<font color='green'>\n",
    "### 2"
   ]
  },
  {
   "cell_type": "code",
   "execution_count": 4,
   "metadata": {},
   "outputs": [
    {
     "name": "stdout",
     "output_type": "stream",
     "text": [
      "1834\n"
     ]
    }
   ],
   "source": [
    "print len(df_botswana.dropna())"
   ]
  },
  {
   "cell_type": "markdown",
   "metadata": {},
   "source": [
    "<font color='green'>\n",
    "### 3"
   ]
  },
  {
   "cell_type": "code",
   "execution_count": 5,
   "metadata": {
    "collapsed": true
   },
   "outputs": [],
   "source": [
    "df_botswana.loc[df_botswana['agefm'].isnull(),'nevermarr'] = 1\n",
    "df_botswana.loc[df_botswana['agefm'].notnull(),'nevermarr'] = 0"
   ]
  },
  {
   "cell_type": "code",
   "execution_count": 6,
   "metadata": {
    "collapsed": true
   },
   "outputs": [],
   "source": [
    "df_botswana.drop('evermarr', axis=1, inplace=True)"
   ]
  },
  {
   "cell_type": "code",
   "execution_count": 7,
   "metadata": {
    "collapsed": true
   },
   "outputs": [],
   "source": [
    "c_agefm = 0\n",
    "df_botswana['agefm'].fillna(c_agefm, inplace=True)"
   ]
  },
  {
   "cell_type": "code",
   "execution_count": 8,
   "metadata": {
    "collapsed": true
   },
   "outputs": [],
   "source": [
    "c_heduc1 = -1\n",
    "df_botswana.loc[df_botswana['nevermarr'] == 1,'heduc'] = c_heduc1"
   ]
  },
  {
   "cell_type": "code",
   "execution_count": 9,
   "metadata": {},
   "outputs": [
    {
     "data": {
      "text/html": [
       "<div>\n",
       "<style>\n",
       "    .dataframe thead tr:only-child th {\n",
       "        text-align: right;\n",
       "    }\n",
       "\n",
       "    .dataframe thead th {\n",
       "        text-align: left;\n",
       "    }\n",
       "\n",
       "    .dataframe tbody tr th {\n",
       "        vertical-align: top;\n",
       "    }\n",
       "</style>\n",
       "<table border=\"1\" class=\"dataframe\">\n",
       "  <thead>\n",
       "    <tr style=\"text-align: right;\">\n",
       "      <th></th>\n",
       "      <th>ceb</th>\n",
       "      <th>age</th>\n",
       "      <th>educ</th>\n",
       "      <th>religion</th>\n",
       "      <th>idlnchld</th>\n",
       "      <th>knowmeth</th>\n",
       "      <th>usemeth</th>\n",
       "      <th>agefm</th>\n",
       "      <th>heduc</th>\n",
       "      <th>urban</th>\n",
       "      <th>electric</th>\n",
       "      <th>radio</th>\n",
       "      <th>tv</th>\n",
       "      <th>bicycle</th>\n",
       "      <th>nevermarr</th>\n",
       "    </tr>\n",
       "  </thead>\n",
       "  <tbody>\n",
       "    <tr>\n",
       "      <th>4356</th>\n",
       "      <td>0</td>\n",
       "      <td>16</td>\n",
       "      <td>7</td>\n",
       "      <td>protestant</td>\n",
       "      <td>2.0</td>\n",
       "      <td>1.0</td>\n",
       "      <td>0.0</td>\n",
       "      <td>0.0</td>\n",
       "      <td>-1.0</td>\n",
       "      <td>0</td>\n",
       "      <td>0.0</td>\n",
       "      <td>1.0</td>\n",
       "      <td>0.0</td>\n",
       "      <td>0.0</td>\n",
       "      <td>1.0</td>\n",
       "    </tr>\n",
       "    <tr>\n",
       "      <th>4357</th>\n",
       "      <td>2</td>\n",
       "      <td>28</td>\n",
       "      <td>7</td>\n",
       "      <td>protestant</td>\n",
       "      <td>4.0</td>\n",
       "      <td>1.0</td>\n",
       "      <td>1.0</td>\n",
       "      <td>0.0</td>\n",
       "      <td>-1.0</td>\n",
       "      <td>0</td>\n",
       "      <td>0.0</td>\n",
       "      <td>1.0</td>\n",
       "      <td>0.0</td>\n",
       "      <td>0.0</td>\n",
       "      <td>1.0</td>\n",
       "    </tr>\n",
       "    <tr>\n",
       "      <th>4358</th>\n",
       "      <td>4</td>\n",
       "      <td>24</td>\n",
       "      <td>5</td>\n",
       "      <td>protestant</td>\n",
       "      <td>4.0</td>\n",
       "      <td>1.0</td>\n",
       "      <td>1.0</td>\n",
       "      <td>0.0</td>\n",
       "      <td>-1.0</td>\n",
       "      <td>0</td>\n",
       "      <td>0.0</td>\n",
       "      <td>1.0</td>\n",
       "      <td>0.0</td>\n",
       "      <td>0.0</td>\n",
       "      <td>1.0</td>\n",
       "    </tr>\n",
       "    <tr>\n",
       "      <th>4359</th>\n",
       "      <td>1</td>\n",
       "      <td>26</td>\n",
       "      <td>0</td>\n",
       "      <td>spirit</td>\n",
       "      <td>5.0</td>\n",
       "      <td>1.0</td>\n",
       "      <td>0.0</td>\n",
       "      <td>22.0</td>\n",
       "      <td>7.0</td>\n",
       "      <td>0</td>\n",
       "      <td>0.0</td>\n",
       "      <td>1.0</td>\n",
       "      <td>0.0</td>\n",
       "      <td>0.0</td>\n",
       "      <td>0.0</td>\n",
       "    </tr>\n",
       "    <tr>\n",
       "      <th>4360</th>\n",
       "      <td>6</td>\n",
       "      <td>36</td>\n",
       "      <td>3</td>\n",
       "      <td>protestant</td>\n",
       "      <td>8.0</td>\n",
       "      <td>1.0</td>\n",
       "      <td>1.0</td>\n",
       "      <td>21.0</td>\n",
       "      <td>0.0</td>\n",
       "      <td>0</td>\n",
       "      <td>0.0</td>\n",
       "      <td>1.0</td>\n",
       "      <td>0.0</td>\n",
       "      <td>0.0</td>\n",
       "      <td>0.0</td>\n",
       "    </tr>\n",
       "  </tbody>\n",
       "</table>\n",
       "</div>"
      ],
      "text/plain": [
       "      ceb  age  educ    religion  idlnchld  knowmeth  usemeth  agefm  heduc  \\\n",
       "4356    0   16     7  protestant       2.0       1.0      0.0    0.0   -1.0   \n",
       "4357    2   28     7  protestant       4.0       1.0      1.0    0.0   -1.0   \n",
       "4358    4   24     5  protestant       4.0       1.0      1.0    0.0   -1.0   \n",
       "4359    1   26     0      spirit       5.0       1.0      0.0   22.0    7.0   \n",
       "4360    6   36     3  protestant       8.0       1.0      1.0   21.0    0.0   \n",
       "\n",
       "      urban  electric  radio   tv  bicycle  nevermarr  \n",
       "4356      0       0.0    1.0  0.0      0.0        1.0  \n",
       "4357      0       0.0    1.0  0.0      0.0        1.0  \n",
       "4358      0       0.0    1.0  0.0      0.0        1.0  \n",
       "4359      0       0.0    1.0  0.0      0.0        0.0  \n",
       "4360      0       0.0    1.0  0.0      0.0        0.0  "
      ]
     },
     "execution_count": 9,
     "metadata": {},
     "output_type": "execute_result"
    }
   ],
   "source": [
    "df_botswana.tail()"
   ]
  },
  {
   "cell_type": "code",
   "execution_count": 10,
   "metadata": {},
   "outputs": [
    {
     "data": {
      "text/plain": [
       "123"
      ]
     },
     "execution_count": 10,
     "metadata": {},
     "output_type": "execute_result"
    }
   ],
   "source": [
    "df_botswana['heduc'].isnull().sum()"
   ]
  },
  {
   "cell_type": "markdown",
   "metadata": {},
   "source": [
    "<font color='green'>\n",
    "### 4"
   ]
  },
  {
   "cell_type": "code",
   "execution_count": 11,
   "metadata": {
    "collapsed": true,
    "scrolled": true
   },
   "outputs": [],
   "source": [
    "c_idlnchld, c_heduc2, c_usemeth = -1, -2, -1\n",
    "\n",
    "df_botswana.loc[df_botswana['idlnchld'].isnull(),'idlnchld_noans'] = 1\n",
    "df_botswana.loc[df_botswana['idlnchld'].notnull(),'idlnchld_noans'] = 0\n",
    "\n",
    "df_botswana.loc[df_botswana['heduc'].isnull(),'heduc_noans'] = 1\n",
    "df_botswana.loc[df_botswana['heduc'].notnull(),'heduc_noans'] = 0\n",
    "\n",
    "df_botswana.loc[df_botswana['usemeth'].isnull(),'usemeth_noans'] = 1\n",
    "df_botswana.loc[df_botswana['usemeth'].notnull(),'usemeth_noans'] = 0\n",
    "\n",
    "df_botswana['idlnchld'].fillna(c_idlnchld, inplace=True)\n",
    "df_botswana['heduc'].fillna(c_heduc2, inplace=True)\n",
    "df_botswana['usemeth'].fillna(c_usemeth, inplace=True)"
   ]
  },
  {
   "cell_type": "code",
   "execution_count": 12,
   "metadata": {},
   "outputs": [
    {
     "name": "stdout",
     "output_type": "stream",
     "text": [
      "78264\n"
     ]
    }
   ],
   "source": [
    "df_botswana = df_botswana.dropna()\n",
    "print len(df_botswana) * len(list(df_botswana.columns))"
   ]
  },
  {
   "cell_type": "markdown",
   "metadata": {},
   "source": [
    "<font color='green'>\n",
    "### 5"
   ]
  },
  {
   "cell_type": "code",
   "execution_count": 13,
   "metadata": {},
   "outputs": [
    {
     "name": "stdout",
     "output_type": "stream",
     "text": [
      "                            OLS Regression Results                            \n",
      "==============================================================================\n",
      "Dep. Variable:                    ceb   R-squared:                       0.644\n",
      "Model:                            OLS   Adj. R-squared:                  0.643\n",
      "Method:                 Least Squares   F-statistic:                     412.5\n",
      "Date:                Thu, 31 Aug 2017   Prob (F-statistic):               0.00\n",
      "Time:                        10:17:14   Log-Likelihood:                -7732.1\n",
      "No. Observations:                4348   AIC:                         1.550e+04\n",
      "Df Residuals:                    4328   BIC:                         1.563e+04\n",
      "Df Model:                          19                                         \n",
      "Covariance Type:            nonrobust                                         \n",
      "==========================================================================================\n",
      "                             coef    std err          t      P>|t|      [0.025      0.975]\n",
      "------------------------------------------------------------------------------------------\n",
      "Intercept                 -1.0263      0.212     -4.835      0.000      -1.443      -0.610\n",
      "religion[T.other]         -0.0830      0.083     -1.001      0.317      -0.245       0.080\n",
      "religion[T.protestant]    -0.0149      0.082     -0.181      0.857      -0.176       0.146\n",
      "religion[T.spirit]        -0.0191      0.077     -0.248      0.804      -0.171       0.132\n",
      "age                        0.1703      0.003     51.891      0.000       0.164       0.177\n",
      "educ                      -0.0724      0.007     -9.843      0.000      -0.087      -0.058\n",
      "idlnchld                   0.0760      0.011      6.923      0.000       0.054       0.098\n",
      "knowmeth                   0.5564      0.121      4.580      0.000       0.318       0.795\n",
      "usemeth                    0.6473      0.048     13.424      0.000       0.553       0.742\n",
      "agefm                     -0.0604      0.007     -9.213      0.000      -0.073      -0.048\n",
      "heduc                     -0.0551      0.008     -6.838      0.000      -0.071      -0.039\n",
      "urban                     -0.2137      0.047     -4.527      0.000      -0.306      -0.121\n",
      "electric                  -0.2685      0.077     -3.479      0.001      -0.420      -0.117\n",
      "radio                     -0.0235      0.051     -0.461      0.645      -0.123       0.076\n",
      "tv                        -0.1451      0.093     -1.566      0.118      -0.327       0.037\n",
      "bicycle                    0.2139      0.050      4.260      0.000       0.115       0.312\n",
      "nevermarr                 -2.2393      0.148    -15.143      0.000      -2.529      -1.949\n",
      "idlnchld_noans             0.6539      0.153      4.286      0.000       0.355       0.953\n",
      "heduc_noans               -0.8724      0.145     -6.026      0.000      -1.156      -0.589\n",
      "usemeth_noans              0.7652      0.196      3.910      0.000       0.382       1.149\n",
      "==============================================================================\n",
      "Omnibus:                      224.411   Durbin-Watson:                   1.887\n",
      "Prob(Omnibus):                  0.000   Jarque-Bera (JB):              859.014\n",
      "Skew:                           0.003   Prob(JB):                    2.93e-187\n",
      "Kurtosis:                       5.178   Cond. No.                         361.\n",
      "==============================================================================\n",
      "\n",
      "Warnings:\n",
      "[1] Standard Errors assume that the covariance matrix of the errors is correctly specified.\n"
     ]
    }
   ],
   "source": [
    "m1 = smf.ols('ceb ~ age + educ + religion + idlnchld + knowmeth + usemeth + agefm + heduc + urban + electric + radio + tv + ' \\\n",
    "                    'bicycle + nevermarr + idlnchld_noans + heduc_noans + usemeth_noans', \n",
    "             data=df_botswana)\n",
    "fitted1 = m1.fit()\n",
    "print fitted1.summary()"
   ]
  },
  {
   "cell_type": "markdown",
   "metadata": {},
   "source": [
    "<font color='green'>\n",
    "### 6"
   ]
  },
  {
   "cell_type": "markdown",
   "metadata": {
    "collapsed": true
   },
   "source": [
    "3"
   ]
  },
  {
   "cell_type": "markdown",
   "metadata": {},
   "source": [
    "<font color='green'>\n",
    "### 7"
   ]
  },
  {
   "cell_type": "code",
   "execution_count": 14,
   "metadata": {},
   "outputs": [
    {
     "name": "stdout",
     "output_type": "stream",
     "text": [
      "Breusch-Pagan test: p=0.000000\n"
     ]
    }
   ],
   "source": [
    "print 'Breusch-Pagan test: p=%f' % sms.het_breuschpagan(fitted1.resid, fitted1.model.exog)[1]"
   ]
  },
  {
   "cell_type": "markdown",
   "metadata": {},
   "source": [
    "- гетероскедастична"
   ]
  },
  {
   "cell_type": "code",
   "execution_count": 15,
   "metadata": {
    "collapsed": true
   },
   "outputs": [],
   "source": [
    "m2 = smf.ols('ceb ~ age + educ + religion + idlnchld + knowmeth + usemeth + agefm + heduc + urban + electric + radio + tv + ' \\\n",
    "                    'bicycle + nevermarr + idlnchld_noans + heduc_noans + usemeth_noans', \n",
    "             data=df_botswana)\n",
    "fitted2 = m2.fit(cov_type='HC1')\n",
    "#print fitted2.summary()"
   ]
  },
  {
   "cell_type": "code",
   "execution_count": 17,
   "metadata": {},
   "outputs": [
    {
     "name": "stdout",
     "output_type": "stream",
     "text": [
      "Breusch-Pagan test: p=0.000000\n"
     ]
    }
   ],
   "source": [
    "print 'Breusch-Pagan test: p=%f' % sms.het_breuschpagan(fitted2.resid, fitted2.model.exog)[1]"
   ]
  },
  {
   "cell_type": "markdown",
   "metadata": {},
   "source": [
    "<font color='green'>\n",
    "### 8"
   ]
  },
  {
   "cell_type": "code",
   "execution_count": 18,
   "metadata": {
    "collapsed": true
   },
   "outputs": [],
   "source": [
    "df_botswana.drop('religion', axis=1, inplace=True)\n",
    "df_botswana.drop('radio', axis=1, inplace=True)\n",
    "df_botswana.drop('tv', axis=1, inplace=True)"
   ]
  },
  {
   "cell_type": "code",
   "execution_count": 19,
   "metadata": {
    "collapsed": true
   },
   "outputs": [],
   "source": [
    "m3 = smf.ols('ceb ~ age + educ + idlnchld + knowmeth + usemeth + agefm + heduc + urban + electric + ' \\\n",
    "                    'bicycle + nevermarr + idlnchld_noans + heduc_noans + usemeth_noans', \n",
    "             data=df_botswana)\n",
    "fitted3 = m3.fit()\n",
    "#print fitted3.summary()"
   ]
  },
  {
   "cell_type": "code",
   "execution_count": 20,
   "metadata": {},
   "outputs": [
    {
     "name": "stdout",
     "output_type": "stream",
     "text": [
      "Breusch-Pagan test: p=0.000000\n"
     ]
    }
   ],
   "source": [
    "print 'Breusch-Pagan test: p=%f' % sms.het_breuschpagan(fitted3.resid, fitted3.model.exog)[1]"
   ]
  },
  {
   "cell_type": "code",
   "execution_count": 21,
   "metadata": {
    "collapsed": true
   },
   "outputs": [],
   "source": [
    "m4 = smf.ols('ceb ~ age + educ + idlnchld + knowmeth + usemeth + agefm + heduc + urban + electric + ' \\\n",
    "                    'bicycle + nevermarr + idlnchld_noans + heduc_noans + usemeth_noans', \n",
    "             data=df_botswana)\n",
    "fitted4 = m4.fit(cov_type='HC1')\n",
    "#print fitted4.summary()"
   ]
  },
  {
   "cell_type": "code",
   "execution_count": 22,
   "metadata": {},
   "outputs": [
    {
     "name": "stdout",
     "output_type": "stream",
     "text": [
      "Breusch-Pagan test: p=0.000000\n"
     ]
    }
   ],
   "source": [
    "print 'Breusch-Pagan test: p=%f' % sms.het_breuschpagan(fitted4.resid, fitted4.model.exog)[1]"
   ]
  },
  {
   "cell_type": "code",
   "execution_count": 24,
   "metadata": {},
   "outputs": [
    {
     "name": "stdout",
     "output_type": "stream",
     "text": [
      "F=0.919236, p=0.467231, k1=5.000000\n"
     ]
    }
   ],
   "source": [
    "print \"F=%f, p=%f, k1=%f\" % m2.fit().compare_f_test(m4.fit())"
   ]
  },
  {
   "cell_type": "markdown",
   "metadata": {},
   "source": [
    "<font color='green'>\n",
    "### 9"
   ]
  },
  {
   "cell_type": "code",
   "execution_count": 25,
   "metadata": {
    "collapsed": true
   },
   "outputs": [],
   "source": [
    "df_botswana.drop('usemeth', axis=1, inplace=True)\n",
    "df_botswana.drop('usemeth_noans', axis=1, inplace=True)"
   ]
  },
  {
   "cell_type": "code",
   "execution_count": 26,
   "metadata": {},
   "outputs": [
    {
     "name": "stdout",
     "output_type": "stream",
     "text": [
      "                            OLS Regression Results                            \n",
      "==============================================================================\n",
      "Dep. Variable:                    ceb   R-squared:                       0.629\n",
      "Model:                            OLS   Adj. R-squared:                  0.628\n",
      "Method:                 Least Squares   F-statistic:                     396.4\n",
      "Date:                Wed, 30 Aug 2017   Prob (F-statistic):               0.00\n",
      "Time:                        18:26:01   Log-Likelihood:                -7825.7\n",
      "No. Observations:                4348   AIC:                         1.568e+04\n",
      "Df Residuals:                    4335   BIC:                         1.576e+04\n",
      "Df Model:                          12                                         \n",
      "Covariance Type:                  HC1                                         \n",
      "==================================================================================\n",
      "                     coef    std err          z      P>|z|      [0.025      0.975]\n",
      "----------------------------------------------------------------------------------\n",
      "Intercept         -1.1931      0.262     -4.562      0.000      -1.706      -0.681\n",
      "age                0.1776      0.004     41.592      0.000       0.169       0.186\n",
      "educ              -0.0560      0.007     -7.788      0.000      -0.070      -0.042\n",
      "idlnchld           0.0705      0.015      4.748      0.000       0.041       0.100\n",
      "knowmeth           0.8739      0.174      5.029      0.000       0.533       1.214\n",
      "agefm             -0.0649      0.010     -6.489      0.000      -0.085      -0.045\n",
      "heduc             -0.0521      0.009     -5.658      0.000      -0.070      -0.034\n",
      "urban             -0.1866      0.046     -4.019      0.000      -0.278      -0.096\n",
      "electric          -0.3218      0.065     -4.953      0.000      -0.449      -0.194\n",
      "bicycle            0.1979      0.048      4.083      0.000       0.103       0.293\n",
      "nevermarr         -2.3625      0.205    -11.498      0.000      -2.765      -1.960\n",
      "idlnchld_noans     0.5266      0.225      2.343      0.019       0.086       0.967\n",
      "heduc_noans       -0.7947      0.195     -4.070      0.000      -1.177      -0.412\n",
      "==============================================================================\n",
      "Omnibus:                      250.641   Durbin-Watson:                   1.910\n",
      "Prob(Omnibus):                  0.000   Jarque-Bera (JB):              936.515\n",
      "Skew:                          -0.158   Prob(JB):                    4.35e-204\n",
      "Kurtosis:                       5.251   Cond. No.                         345.\n",
      "==============================================================================\n",
      "\n",
      "Warnings:\n",
      "[1] Standard Errors are heteroscedasticity robust (HC1)\n"
     ]
    }
   ],
   "source": [
    "m5 = smf.ols('ceb ~ age + educ + idlnchld + knowmeth + agefm + heduc + urban + electric + ' \\\n",
    "                    'bicycle + nevermarr + idlnchld_noans + heduc_noans', \n",
    "             data=df_botswana)\n",
    "fitted5 = m5.fit(cov_type='HC1')\n",
    "print fitted5.summary()"
   ]
  },
  {
   "cell_type": "code",
   "execution_count": 27,
   "metadata": {},
   "outputs": [
    {
     "name": "stdout",
     "output_type": "stream",
     "text": [
      "F=92.890582, p=3.1552e-40, k1=2.000000\n"
     ]
    }
   ],
   "source": [
    "print \"F=%f, p=%g, k1=%f\" % m4.fit().compare_f_test(m5.fit())"
   ]
  },
  {
   "cell_type": "markdown",
   "metadata": {},
   "source": [
    "<font color='green'>\n",
    "### 10"
   ]
  },
  {
   "cell_type": "markdown",
   "metadata": {
    "collapsed": true
   },
   "source": [
    "- У женщин, не знающих, какое количество детей идеально, в среднем на 0.58 детей больше\n",
    "- С увеличением возраста женщины на 1 год среднее количество детей возрастает на 0.17 (p 0.001, 95% доверительный интервал —[0.16, 0.18])\n",
    "- У женщин, никогда не выходивших замуж, при прочих равных в среднем на 2.3 ребёнка меньше (p 0.001, 95% доверительный интервал для разницы между средними — [-2.6, -1.9])"
   ]
  },
  {
   "cell_type": "code",
   "execution_count": null,
   "metadata": {
    "collapsed": true
   },
   "outputs": [],
   "source": []
  }
 ],
 "metadata": {
  "kernelspec": {
   "display_name": "Python 2",
   "language": "python",
   "name": "python2"
  },
  "language_info": {
   "codemirror_mode": {
    "name": "ipython",
    "version": 2
   },
   "file_extension": ".py",
   "mimetype": "text/x-python",
   "name": "python",
   "nbconvert_exporter": "python",
   "pygments_lexer": "ipython2",
   "version": "2.7.13"
  }
 },
 "nbformat": 4,
 "nbformat_minor": 2
}
