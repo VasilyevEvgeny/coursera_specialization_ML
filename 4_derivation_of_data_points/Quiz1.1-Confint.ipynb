{
 "cells": [
  {
   "cell_type": "code",
   "execution_count": 2,
   "metadata": {
    "collapsed": true
   },
   "outputs": [],
   "source": [
    "import numpy as np\n",
    "from scipy.stats import norm\n",
    "from statsmodels.stats.weightstats import _zconfint_generic, _tconfint_generic\n",
    "from numpy import random"
   ]
  },
  {
   "cell_type": "markdown",
   "metadata": {},
   "source": [
    "<font color='green'>\n",
    "### 1"
   ]
  },
  {
   "cell_type": "code",
   "execution_count": 5,
   "metadata": {},
   "outputs": [
    {
     "name": "stdout",
     "output_type": "stream",
     "text": [
      "(-2.9677379253417944, 2.9677379253417944)\n"
     ]
    }
   ],
   "source": [
    "print _zconfint_generic(0.0, 1.0, alpha, 'two-sided')"
   ]
  },
  {
   "cell_type": "markdown",
   "metadata": {},
   "source": [
    "<font color='green'>\n",
    "### 2"
   ]
  },
  {
   "cell_type": "markdown",
   "metadata": {},
   "source": [
    "St(n-1)"
   ]
  },
  {
   "cell_type": "markdown",
   "metadata": {},
   "source": [
    "<font color='green'>\n",
    "### 3"
   ]
  },
  {
   "cell_type": "markdown",
   "metadata": {},
   "source": [
    "Xi^2, Fisher"
   ]
  },
  {
   "cell_type": "markdown",
   "metadata": {},
   "source": [
    "<font color='green'>\n",
    "### 4"
   ]
  },
  {
   "cell_type": "markdown",
   "metadata": {},
   "source": [
    "f-g/n"
   ]
  },
  {
   "cell_type": "markdown",
   "metadata": {},
   "source": [
    "<font color='green'>\n",
    "### 5"
   ]
  },
  {
   "cell_type": "code",
   "execution_count": 4,
   "metadata": {},
   "outputs": [
    {
     "name": "stdout",
     "output_type": "stream",
     "text": [
      "0.00942285041225\n",
      "0.0171288743883\n",
      "0.007706023976\n"
     ]
    }
   ],
   "source": [
    "n1 = 11037 # aspirin\n",
    "n2 = 11034 # placebo\n",
    "m1 = 104.\n",
    "m2 = 189.\n",
    "p1 = m1 / n1\n",
    "p2 = m2 / n2\n",
    "print p1\n",
    "print p2\n",
    "print p2 - p1\n"
   ]
  },
  {
   "cell_type": "markdown",
   "metadata": {},
   "source": [
    "<font color='green'>\n",
    "### 6"
   ]
  },
  {
   "cell_type": "code",
   "execution_count": 5,
   "metadata": {},
   "outputs": [
    {
     "name": "stdout",
     "output_type": "stream",
     "text": [
      "(0.0046877506750494392, 0.010724297276960124)\n"
     ]
    }
   ],
   "source": [
    "alpha = 0.05\n",
    "z = norm.ppf(1.-alpha/2.)\n",
    "print (p2 - p1 - z * (np.sqrt(p1*(1.-p1)/n1 + p2*(1.-p2)/n2)), \\\n",
    "       p2 - p1 + z * (np.sqrt(p1*(1.-p1)/n1 + p2*(1.-p2)/n2)))"
   ]
  },
  {
   "cell_type": "markdown",
   "metadata": {},
   "source": [
    "<font color='green'>\n",
    "### 7"
   ]
  },
  {
   "cell_type": "code",
   "execution_count": 38,
   "metadata": {},
   "outputs": [
    {
     "name": "stdout",
     "output_type": "stream",
     "text": [
      "0.00951248513674 0.0174273858921\n",
      "1.83205394191\n"
     ]
    }
   ],
   "source": [
    "P1 = p1 / (1-p1)\n",
    "P2 = p2 / (1-p2)\n",
    "print P1, P2\n",
    "print P2 / P1"
   ]
  },
  {
   "cell_type": "markdown",
   "metadata": {},
   "source": [
    "<font color='green'>\n",
    "### 8"
   ]
  },
  {
   "cell_type": "code",
   "execution_count": 71,
   "metadata": {},
   "outputs": [
    {
     "name": "stdout",
     "output_type": "stream",
     "text": [
      "[ 1.44419465  2.34321168]\n"
     ]
    }
   ],
   "source": [
    "np.random.seed(0)\n",
    "\n",
    "def get_bootstrap_samples(data, n_samples):\n",
    "    indices = np.random.randint(0, len(data), (n_samples, len(data)))\n",
    "    samples = data[indices]\n",
    "    return samples\n",
    "\n",
    "def stat_intervals(stat, alpha):\n",
    "    boundaries = np.percentile(stat, [100 * alpha / 2., 100 * (1 - alpha / 2.)])\n",
    "    return boundaries\n",
    "\n",
    "m1 = 104\n",
    "n1 = 11037\n",
    "m2 = 189\n",
    "n2 = 11034\n",
    "sample_1 = np.append(np.ones(m1), np.zeros(n1-m1))\n",
    "sample_2 = np.append(np.ones(m2), np.zeros(n2-m2))\n",
    "\n",
    "def calc_chances(data):\n",
    "    p = float(sum(data)) / len(data)\n",
    "    return p / (1.-p)\n",
    "\n",
    "stat1 = map(calc_chances, get_bootstrap_samples(sample_1, 1000))\n",
    "stat2 = map(calc_chances, get_bootstrap_samples(sample_2, 1000))\n",
    "\n",
    "stat = []\n",
    "for i in xrange(1000):\n",
    "    stat.append(stat2[i] / stat1[i])\n",
    "    \n",
    "print stat_intervals(stat, alpha)"
   ]
  },
  {
   "cell_type": "code",
   "execution_count": null,
   "metadata": {
    "collapsed": true
   },
   "outputs": [],
   "source": []
  }
 ],
 "metadata": {
  "kernelspec": {
   "display_name": "Python 2",
   "language": "python",
   "name": "python2"
  },
  "language_info": {
   "codemirror_mode": {
    "name": "ipython",
    "version": 2
   },
   "file_extension": ".py",
   "mimetype": "text/x-python",
   "name": "python",
   "nbconvert_exporter": "python",
   "pygments_lexer": "ipython2",
   "version": "2.7.13"
  }
 },
 "nbformat": 4,
 "nbformat_minor": 2
}
