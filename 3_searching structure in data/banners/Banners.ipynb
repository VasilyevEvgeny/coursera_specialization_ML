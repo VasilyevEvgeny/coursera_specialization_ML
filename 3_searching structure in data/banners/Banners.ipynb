{
 "cells": [
  {
   "cell_type": "code",
   "execution_count": 51,
   "metadata": {
    "collapsed": true
   },
   "outputs": [],
   "source": [
    "import pandas as pd\n",
    "import numpy as np\n",
    "from sklearn.cluster import MeanShift\n",
    "from scipy.spatial import distance"
   ]
  },
  {
   "cell_type": "code",
   "execution_count": 52,
   "metadata": {
    "collapsed": false
   },
   "outputs": [],
   "source": [
    "checkins = pd.read_csv('checkins.dat', sep=',').dropna().reset_index(drop=True)"
   ]
  },
  {
   "cell_type": "code",
   "execution_count": 53,
   "metadata": {
    "collapsed": false
   },
   "outputs": [
    {
     "data": {
      "text/html": [
       "<div>\n",
       "<table border=\"1\" class=\"dataframe\">\n",
       "  <thead>\n",
       "    <tr style=\"text-align: right;\">\n",
       "      <th></th>\n",
       "      <th>id</th>\n",
       "      <th>user_id</th>\n",
       "      <th>venue_id</th>\n",
       "      <th>latitude</th>\n",
       "      <th>longitude</th>\n",
       "      <th>created_at</th>\n",
       "    </tr>\n",
       "  </thead>\n",
       "  <tbody>\n",
       "    <tr>\n",
       "      <th>0</th>\n",
       "      <td>984222</td>\n",
       "      <td>15824.0</td>\n",
       "      <td>5222.0</td>\n",
       "      <td>38.895112</td>\n",
       "      <td>-77.036366</td>\n",
       "      <td>2012-04-2117:43:47</td>\n",
       "    </tr>\n",
       "    <tr>\n",
       "      <th>1</th>\n",
       "      <td>984234</td>\n",
       "      <td>44652.0</td>\n",
       "      <td>5222.0</td>\n",
       "      <td>33.800745</td>\n",
       "      <td>-84.410520</td>\n",
       "      <td>2012-04-2117:43:43</td>\n",
       "    </tr>\n",
       "    <tr>\n",
       "      <th>2</th>\n",
       "      <td>984291</td>\n",
       "      <td>105054.0</td>\n",
       "      <td>5222.0</td>\n",
       "      <td>45.523452</td>\n",
       "      <td>-122.676207</td>\n",
       "      <td>2012-04-2117:39:22</td>\n",
       "    </tr>\n",
       "    <tr>\n",
       "      <th>3</th>\n",
       "      <td>984318</td>\n",
       "      <td>2146539.0</td>\n",
       "      <td>5222.0</td>\n",
       "      <td>40.764462</td>\n",
       "      <td>-111.904565</td>\n",
       "      <td>2012-04-2117:35:46</td>\n",
       "    </tr>\n",
       "    <tr>\n",
       "      <th>4</th>\n",
       "      <td>984232</td>\n",
       "      <td>93870.0</td>\n",
       "      <td>380645.0</td>\n",
       "      <td>33.448377</td>\n",
       "      <td>-112.074037</td>\n",
       "      <td>2012-04-2117:38:18</td>\n",
       "    </tr>\n",
       "  </tbody>\n",
       "</table>\n",
       "</div>"
      ],
      "text/plain": [
       "       id    user_id  venue_id   latitude   longitude          created_at\n",
       "0  984222    15824.0    5222.0  38.895112  -77.036366  2012-04-2117:43:47\n",
       "1  984234    44652.0    5222.0  33.800745  -84.410520  2012-04-2117:43:43\n",
       "2  984291   105054.0    5222.0  45.523452 -122.676207  2012-04-2117:39:22\n",
       "3  984318  2146539.0    5222.0  40.764462 -111.904565  2012-04-2117:35:46\n",
       "4  984232    93870.0  380645.0  33.448377 -112.074037  2012-04-2117:38:18"
      ]
     },
     "execution_count": 53,
     "metadata": {},
     "output_type": "execute_result"
    }
   ],
   "source": [
    "checkins.head()"
   ]
  },
  {
   "cell_type": "code",
   "execution_count": 54,
   "metadata": {
    "collapsed": false
   },
   "outputs": [
    {
     "data": {
      "text/html": [
       "<div>\n",
       "<table border=\"1\" class=\"dataframe\">\n",
       "  <thead>\n",
       "    <tr style=\"text-align: right;\">\n",
       "      <th></th>\n",
       "      <th>id</th>\n",
       "      <th>user_id</th>\n",
       "      <th>venue_id</th>\n",
       "      <th>latitude</th>\n",
       "      <th>longitude</th>\n",
       "      <th>created_at</th>\n",
       "    </tr>\n",
       "  </thead>\n",
       "  <tbody>\n",
       "    <tr>\n",
       "      <th>396621</th>\n",
       "      <td>955561</td>\n",
       "      <td>626076.0</td>\n",
       "      <td>20073.0</td>\n",
       "      <td>40.850100</td>\n",
       "      <td>-73.866246</td>\n",
       "      <td>2012-04-1309:56:48</td>\n",
       "    </tr>\n",
       "    <tr>\n",
       "      <th>396622</th>\n",
       "      <td>955892</td>\n",
       "      <td>674797.0</td>\n",
       "      <td>2297.0</td>\n",
       "      <td>33.748995</td>\n",
       "      <td>-84.387982</td>\n",
       "      <td>2012-04-1310:56:03</td>\n",
       "    </tr>\n",
       "    <tr>\n",
       "      <th>396623</th>\n",
       "      <td>956377</td>\n",
       "      <td>845102.0</td>\n",
       "      <td>11195.0</td>\n",
       "      <td>42.765366</td>\n",
       "      <td>-71.467566</td>\n",
       "      <td>2012-04-1312:08:45</td>\n",
       "    </tr>\n",
       "    <tr>\n",
       "      <th>396624</th>\n",
       "      <td>956119</td>\n",
       "      <td>1139114.0</td>\n",
       "      <td>29488.0</td>\n",
       "      <td>42.439479</td>\n",
       "      <td>-83.743830</td>\n",
       "      <td>2012-04-1311:36:44</td>\n",
       "    </tr>\n",
       "    <tr>\n",
       "      <th>396625</th>\n",
       "      <td>956733</td>\n",
       "      <td>960666.0</td>\n",
       "      <td>60.0</td>\n",
       "      <td>42.331427</td>\n",
       "      <td>-83.045754</td>\n",
       "      <td>2012-04-1321:56:19</td>\n",
       "    </tr>\n",
       "  </tbody>\n",
       "</table>\n",
       "</div>"
      ],
      "text/plain": [
       "            id    user_id  venue_id   latitude  longitude          created_at\n",
       "396621  955561   626076.0   20073.0  40.850100 -73.866246  2012-04-1309:56:48\n",
       "396622  955892   674797.0    2297.0  33.748995 -84.387982  2012-04-1310:56:03\n",
       "396623  956377   845102.0   11195.0  42.765366 -71.467566  2012-04-1312:08:45\n",
       "396624  956119  1139114.0   29488.0  42.439479 -83.743830  2012-04-1311:36:44\n",
       "396625  956733   960666.0      60.0  42.331427 -83.045754  2012-04-1321:56:19"
      ]
     },
     "execution_count": 54,
     "metadata": {},
     "output_type": "execute_result"
    }
   ],
   "source": [
    "checkins.tail()"
   ]
  },
  {
   "cell_type": "code",
   "execution_count": 55,
   "metadata": {
    "collapsed": false
   },
   "outputs": [
    {
     "data": {
      "text/plain": [
       "(396626, 6)"
      ]
     },
     "execution_count": 55,
     "metadata": {},
     "output_type": "execute_result"
    }
   ],
   "source": [
    "checkins.shape"
   ]
  },
  {
   "cell_type": "code",
   "execution_count": 56,
   "metadata": {
    "collapsed": false
   },
   "outputs": [
    {
     "name": "stdout",
     "output_type": "stream",
     "text": [
      "(396626L, 2L)\n"
     ]
    }
   ],
   "source": [
    "X = checkins[['latitude', 'longitude']].as_matrix()\n",
    "print X.shape"
   ]
  },
  {
   "cell_type": "code",
   "execution_count": 57,
   "metadata": {
    "collapsed": false
   },
   "outputs": [
    {
     "data": {
      "text/plain": [
       "MeanShift(bandwidth=0.1, bin_seeding=False, cluster_all=True, min_bin_freq=1,\n",
       "     n_jobs=1, seeds=None)"
      ]
     },
     "execution_count": 57,
     "metadata": {},
     "output_type": "execute_result"
    }
   ],
   "source": [
    "ms = MeanShift(bandwidth=0.1)\n",
    "ms.fit(X)"
   ]
  },
  {
   "cell_type": "code",
   "execution_count": 50,
   "metadata": {
    "collapsed": false
   },
   "outputs": [
    {
     "data": {
      "text/plain": [
       "(3230L, 2L)"
      ]
     },
     "execution_count": 50,
     "metadata": {},
     "output_type": "execute_result"
    }
   ],
   "source": [
    "ms.cluster_centers_.shape"
   ]
  },
  {
   "cell_type": "code",
   "execution_count": 44,
   "metadata": {
    "collapsed": false
   },
   "outputs": [
    {
     "data": {
      "text/plain": [
       "3229"
      ]
     },
     "execution_count": 44,
     "metadata": {},
     "output_type": "execute_result"
    }
   ],
   "source": [
    "max(ms.labels_)"
   ]
  },
  {
   "cell_type": "code",
   "execution_count": 45,
   "metadata": {
    "collapsed": false
   },
   "outputs": [
    {
     "name": "stdout",
     "output_type": "stream",
     "text": [
      "[ 274.  301.  213. ...,    0.    0.    0.]\n"
     ]
    }
   ],
   "source": [
    "clusters = np.zeros(len(ms.cluster_centers_))\n",
    "for i in xrange(len(clusters)):\n",
    "    clusters[ms.labels_[i]] += 1\n",
    "print clusters"
   ]
  },
  {
   "cell_type": "code",
   "execution_count": 26,
   "metadata": {
    "collapsed": false
   },
   "outputs": [
    {
     "name": "stdout",
     "output_type": "stream",
     "text": [
      "[[  40.71748461  -73.98935861]\n",
      " [  33.44969647 -112.00256776]\n",
      " [  41.87816455  -87.6298271 ]\n",
      " [  33.44683103 -111.90253255]\n",
      " [  38.88610691  -77.04819943]\n",
      " [  37.68601763 -122.40905969]\n",
      " [  37.78608129 -122.42389026]\n",
      " [  33.7680934   -84.3933792 ]\n",
      " [  42.36297931  -71.07447328]\n",
      " [  47.60640129 -122.3320402 ]\n",
      " [  33.35716669 -111.82247998]\n",
      " [  34.06497839 -118.26547835]\n",
      " [  44.97769677  -93.26803824]\n",
      " [  36.11722331 -115.17118041]\n",
      " [  30.26726511  -97.74301836]\n",
      " [  39.95214464  -75.16362053]\n",
      " [  40.76946326  -73.8378606 ]\n",
      " [  32.98103799 -117.07827225]\n",
      " [  39.73504691 -104.988462  ]\n",
      " [  28.54302166  -81.37655311]\n",
      " [  32.80312069  -96.76982401]\n",
      " [  34.1288663  -118.35239775]\n",
      " [  43.04080324  -87.91322225]\n",
      " [  25.7870861   -80.21512757]\n",
      " [  29.76231482  -95.38287383]\n",
      " [  32.7107641  -117.15292473]\n",
      " [  37.34452179 -121.90955325]\n",
      " [  45.52279313 -122.67563607]\n",
      " [  37.39611474 -122.0934813 ]\n",
      " [  33.81696462 -117.89369495]\n",
      " [  33.67523502 -117.85445503]\n",
      " [  32.22173092 -110.92650161]\n",
      " [  27.94941385  -82.46499284]\n",
      " [  33.92203533 -118.41439027]\n",
      " [  39.28720201  -76.61351476]\n",
      " [  39.76824977  -86.15787479]\n",
      " [  35.22764201  -80.84329944]\n",
      " [  37.80535175 -122.26857949]\n",
      " [  40.43910726  -79.99605588]\n",
      " [  40.70810767  -73.60195714]\n",
      " [  26.10854342  -80.15858241]\n",
      " [  34.12729464 -118.12181276]\n",
      " [  33.55813446 -112.21066558]\n",
      " [  33.48264909 -112.36477658]\n",
      " [  35.2013516  -111.639249  ]\n",
      " [  34.0489281  -111.0937311 ]\n",
      " [  33.62284372 -112.3289404 ]]\n"
     ]
    }
   ],
   "source": [
    "cluster_centers = [[0,0]]\n",
    "for i in xrange(clusters.shape[0]):\n",
    "    if clusters[i] > 5:\n",
    "        cluster_centers = np.append(cluster_centers, [[ms.cluster_centers_[i][0],ms.cluster_centers_[i][1]]], axis=0)\n",
    "cluster_centers = cluster_centers[1:]\n",
    "print cluster_centers"
   ]
  },
  {
   "cell_type": "code",
   "execution_count": 46,
   "metadata": {
    "collapsed": true
   },
   "outputs": [],
   "source": [
    "offices = np.array([[33.751277, -118.188740],\n",
    "                    [25.867736, -80.324116],\n",
    "                    [51.503016, -0.075479],\n",
    "                    [52.378894, 4.885084],\n",
    "                    [39.366487, 117.036146],\n",
    "                    [39.366487, 117.036146],\n",
    "                    [-33.868457, 151.205134]])"
   ]
  },
  {
   "cell_type": "code",
   "execution_count": 47,
   "metadata": {
    "collapsed": false
   },
   "outputs": [],
   "source": [
    "nearest = []\n",
    "min_dist = 99999999\n",
    "for i in xrange(offices.shape[0]):\n",
    "    for j in xrange(ms.cluster_centers_.shape[0]):\n",
    "        dist = distance.euclidean(offices[i], ms.cluster_centers_[j])\n",
    "        if dist < min_dist:\n",
    "            min_dist = dist\n",
    "            nearest = [ms.cluster_centers_[j][0], ms.cluster_centers_[j][1]]"
   ]
  },
  {
   "cell_type": "code",
   "execution_count": 34,
   "metadata": {
    "collapsed": false
   },
   "outputs": [
    {
     "name": "stdout",
     "output_type": "stream",
     "text": [
      "[  33.751277 -118.18874 ]\n"
     ]
    }
   ],
   "source": [
    "print offices[0]"
   ]
  },
  {
   "cell_type": "code",
   "execution_count": 35,
   "metadata": {
    "collapsed": false
   },
   "outputs": [
    {
     "name": "stdout",
     "output_type": "stream",
     "text": [
      "[ 40.71748461 -73.98935861]\n"
     ]
    }
   ],
   "source": [
    "print cluster_centers[0]"
   ]
  },
  {
   "cell_type": "code",
   "execution_count": 48,
   "metadata": {
    "collapsed": false
   },
   "outputs": [
    {
     "name": "stdout",
     "output_type": "stream",
     "text": [
      "[-33.860630428571433, 151.20477592857145]\n"
     ]
    }
   ],
   "source": [
    "print nearest"
   ]
  },
  {
   "cell_type": "code",
   "execution_count": 49,
   "metadata": {
    "collapsed": false
   },
   "outputs": [
    {
     "name": "stdout",
     "output_type": "stream",
     "text": [
      "0.00783475816311\n"
     ]
    }
   ],
   "source": [
    "print min_dist"
   ]
  },
  {
   "cell_type": "code",
   "execution_count": 33,
   "metadata": {
    "collapsed": false
   },
   "outputs": [
    {
     "name": "stdout",
     "output_type": "stream",
     "text": [
      "0.291894985664\n"
     ]
    }
   ],
   "source": [
    "print distance.euclidean([33.811281114967272, -118.14432326626132], [33.92203533, -118.41439027])"
   ]
  },
  {
   "cell_type": "code",
   "execution_count": 30,
   "metadata": {
    "collapsed": true
   },
   "outputs": [],
   "source": [
    "# 20000 - [33.812499824375067, -117.88720210687502]\n",
    "# 50000 - [25.785608792953155, -80.215648999999871]\n",
    "# 100000 - [25.785812419967499, -80.217938036825402]\n",
    "# all - [33.811281114967272, -118.14432326626132] > 10"
   ]
  }
 ],
 "metadata": {
  "anaconda-cloud": {},
  "kernelspec": {
   "display_name": "Python [Root]",
   "language": "python",
   "name": "Python [Root]"
  },
  "language_info": {
   "codemirror_mode": {
    "name": "ipython",
    "version": 2
   },
   "file_extension": ".py",
   "mimetype": "text/x-python",
   "name": "python",
   "nbconvert_exporter": "python",
   "pygments_lexer": "ipython2",
   "version": "2.7.11"
  }
 },
 "nbformat": 4,
 "nbformat_minor": 0
}
