{
 "cells": [
  {
   "cell_type": "code",
   "execution_count": 43,
   "metadata": {
    "collapsed": false
   },
   "outputs": [
    {
     "name": "stdout",
     "output_type": "stream",
     "text": [
      "-5.61\n",
      "-11.16\n",
      "-5\n"
     ]
    }
   ],
   "source": [
    "from scipy.optimize import minimize, differential_evolution\n",
    "import numpy as np\n",
    "import matplotlib.pyplot as plt\n",
    "%matplotlib inline\n",
    "\n",
    "def func(x):\n",
    "    return np.sin(x / 5.0) * np.exp(x / 10.0) + 5.0 * np.exp(-x / 2.0)\n",
    "\n",
    "def h(x):\n",
    "    return np.int(func(x))\n",
    "\n",
    "start_x = 30\n",
    "res1 = minimize(h, start_x, method='BFGS')\n",
    "f1 = round(func(res1.x),2)\n",
    "print f1\n",
    "\n",
    "bounds = [(0, 31)]\n",
    "res2 = differential_evolution(h, bounds)\n",
    "f2 = round(func(res2.x),2)\n",
    "print f2\n",
    "\n",
    "X = np.linspace(1,30,256)\n",
    "Y1 = func(X)\n",
    "#Y2 = h(X)\n",
    "\n",
    "#line0, = plt.plot(X, Y1, color=\"red\", linewidth=2.0, linestyle=\"-\", label=\"f(x)\")\n",
    "#line1, = plt.plot(X, Y2, color=\"blue\", linewidth=2.0, linestyle=\"-\", label=\"h(x)\")\n",
    "#line_min1, = plt.plot((res1.x, res1.x), (-12, 4), 'k--', label=\"BFGS\")\n",
    "#line_min2, = plt.plot((res2.x, res2.x), (-12, 4), 'k:', label=\"DE\")\n",
    "#plt.axis((0,31,-12,4))\n",
    "#legend = plt.legend(handles=[line0, line1, line_min1, line_min2], loc=3)\n",
    "#plt.show()\n",
    "\n",
    "file_x_min = open(\"submission-3.txt\", \"w\")\n",
    "file_x_min.write(str(f1) + ' ' + str(f2))\n",
    "file_x_min.close()\n",
    "\n",
    "print h(30)"
   ]
  },
  {
   "cell_type": "code",
   "execution_count": 44,
   "metadata": {
    "collapsed": false
   },
   "outputs": [
    {
     "data": {
      "text/plain": [
       "-11"
      ]
     },
     "execution_count": 44,
     "metadata": {},
     "output_type": "execute_result"
    }
   ],
   "source": [
    "np.int(-11.45)"
   ]
  },
  {
   "cell_type": "code",
   "execution_count": 102,
   "metadata": {
    "collapsed": false
   },
   "outputs": [
    {
     "data": {
      "text/plain": [
       "-12.0"
      ]
     },
     "execution_count": 102,
     "metadata": {},
     "output_type": "execute_result"
    }
   ],
   "source": [
    "np.floor(-11.45)"
   ]
  },
  {
   "cell_type": "code",
   "execution_count": null,
   "metadata": {
    "collapsed": true
   },
   "outputs": [],
   "source": []
  }
 ],
 "metadata": {
  "kernelspec": {
   "display_name": "Python [Root]",
   "language": "python",
   "name": "Python [Root]"
  },
  "language_info": {
   "codemirror_mode": {
    "name": "ipython",
    "version": 2
   },
   "file_extension": ".py",
   "mimetype": "text/x-python",
   "name": "python",
   "nbconvert_exporter": "python",
   "pygments_lexer": "ipython2",
   "version": "2.7.11"
  }
 },
 "nbformat": 4,
 "nbformat_minor": 0
}
