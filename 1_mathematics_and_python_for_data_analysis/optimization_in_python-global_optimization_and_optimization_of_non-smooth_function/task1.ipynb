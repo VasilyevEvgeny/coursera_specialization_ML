{
 "cells": [
  {
   "cell_type": "code",
   "execution_count": 3,
   "metadata": {
    "collapsed": false
   },
   "outputs": [
    {
     "name": "stdout",
     "output_type": "stream",
     "text": [
      "1.75\n",
      "-11.9\n"
     ]
    },
    {
     "data": {
      "image/png": "[encoded data removed]",
      "text/plain": [
       "<matplotlib.figure.Figure at 0x84df0b8>"
      ]
     },
     "metadata": {},
     "output_type": "display_data"
    },
    {
     "name": "stdout",
     "output_type": "stream",
     "text": [
      "[-11.89886494] [-11.8988649]\n"
     ]
    }
   ],
   "source": [
    "from scipy.optimize import minimize\n",
    "import numpy as np\n",
    "import matplotlib.pyplot as plt\n",
    "%matplotlib inline\n",
    "\n",
    "def func(x):\n",
    "    return np.sin(x / 5.0) * np.exp(x / 10.0) + 5.0 * np.exp(-x / 2.0)\n",
    "\n",
    "start_x1 = 2\n",
    "res1 = minimize(func, start_x1, method='BFGS')\n",
    "f1 = round(func(res1.x),2)\n",
    "print f1\n",
    "\n",
    "start_x2 = 30\n",
    "res2 = minimize(func, start_x2, method='BFGS')\n",
    "f2 = round(func(res2.x),2)\n",
    "print f2\n",
    "\n",
    "X = np.linspace(1, 30, 256)\n",
    "Y = func(X)\n",
    "\n",
    "line0, = plt.plot(X, Y, color=\"black\", linewidth=2.0, linestyle=\"-\", label=\"f(x)\")\n",
    "line_min1, = plt.plot((res1.x, res1.x), (-12, 4), 'r-')\n",
    "line_start1, = plt.plot((start_x1, start_x1), (-12, 4), 'r:')\n",
    "line_min2, = plt.plot((res2.x, res2.x), (-12, 4), 'b-')\n",
    "line_start2, = plt.plot((start_x2, start_x2), (-12, 4), 'b:')\n",
    "plt.axis((0,31,-12,4))\n",
    "plt.show()\n",
    "\n",
    "file_x_min = open(\"submission-1.txt\", \"w\")\n",
    "file_x_min.write(str(f1) + ' ' + str(f2))\n",
    "file_x_min.close()\n",
    "\n",
    "print func(res2.x-0.01), func(res2.x+0.01)"
   ]
  },
  {
   "cell_type": "code",
   "execution_count": 10,
   "metadata": {
    "collapsed": false
   },
   "outputs": [
    {
     "data": {
      "text/plain": [
       "3.2522168652714192"
      ]
     },
     "execution_count": 10,
     "metadata": {},
     "output_type": "execute_result"
    }
   ],
   "source": [
    "func(1)"
   ]
  },
  {
   "cell_type": "code",
   "execution_count": null,
   "metadata": {
    "collapsed": true
   },
   "outputs": [],
   "source": []
  }
 ],
 "metadata": {
  "kernelspec": {
   "display_name": "Python [Root]",
   "language": "python",
   "name": "Python [Root]"
  },
  "language_info": {
   "codemirror_mode": {
    "name": "ipython",
    "version": 2
   },
   "file_extension": ".py",
   "mimetype": "text/x-python",
   "name": "python",
   "nbconvert_exporter": "python",
   "pygments_lexer": "ipython2",
   "version": "2.7.11"
  }
 },
 "nbformat": 4,
 "nbformat_minor": 0
}
