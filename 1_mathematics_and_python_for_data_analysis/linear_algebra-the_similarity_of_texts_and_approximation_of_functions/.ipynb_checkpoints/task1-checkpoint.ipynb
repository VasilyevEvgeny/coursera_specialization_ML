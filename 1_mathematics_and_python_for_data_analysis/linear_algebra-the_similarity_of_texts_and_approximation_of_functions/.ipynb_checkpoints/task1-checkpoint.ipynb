{
 "cells": [
  {
   "cell_type": "code",
   "execution_count": 56,
   "metadata": {
    "collapsed": false,
    "scrolled": false
   },
   "outputs": [
    {
     "name": "stdout",
     "output_type": "stream",
     "text": [
      "{0: 'in', 1: 'comparison', 2: 'to', 3: 'dogs', 4: 'cats', 5: 'have', 6: 'not', 7: 'undergone', 8: 'major', 9: 'changes', 10: 'during', 11: 'the', 12: 'domestication', 13: 'process', 14: 'as', 15: 'cat', 16: 'simply', 17: 'catenates', 18: 'streams', 19: 'of', 20: 'bytes', 21: 'it', 22: 'can', 23: 'be', 24: 'also', 25: 'used', 26: 'concatenate', 27: 'binary', 28: 'files', 29: 'where', 30: 'will', 31: 'just', 32: 'sequence', 33: 'a', 34: 'common', 35: 'interactive', 36: 'use', 37: 'for', 38: 'single', 39: 'file', 40: 'is', 41: 'output', 42: 'content', 43: 'standard', 44: 'hear', 45: 'sounds', 46: 'too', 47: 'faint', 48: 'or', 49: 'high', 50: 'frequency', 51: 'human', 52: 'ears', 53: 'such', 54: 'those', 55: 'made', 56: 'by', 57: 'mice', 58: 'and', 59: 'other', 60: 'small', 61: 'animals', 62: 'one', 63: 'people', 64: 'deliberately', 65: 'tamed', 66: 'artificial', 67: 'selection', 68: 'they', 69: 'were', 70: 'useful', 71: 'predators', 72: 'vermin', 73: 'domesticated', 74: 'its', 75: 'closest', 76: 'wild', 77: 'ancestor', 78: 'are', 79: 'both', 80: 'diploid', 81: 'organisms', 82: 'that', 83: 'possess', 84: 'chromosomes', 85: 'roughly', 86: 'genes', 87: 'domestic', 88: 'similar', 89: 'size', 90: 'members', 91: 'genus', 92: 'felis', 93: 'typically', 94: 'weighing', 95: 'between', 96: 'kg', 97: 'lb', 98: 'however', 99: 'if', 100: 'piped', 101: 'redirected', 102: 'unnecessary', 103: 'with', 104: 'named', 105: 'safer', 106: 'error', 107: 'concern', 108: 'wrong', 109: 'default', 110: 'redirection', 111: 'symbol', 112: 'instead', 113: 'often', 114: 'adjacent', 115: 'on', 116: 'keyboards', 117: 'may', 118: 'permanently', 119: 'delete', 120: 'you', 121: 'needing', 122: 'read', 123: 'terms', 124: 'legibility', 125: 'commands', 126: 'starting', 127: 'connected', 128: 'pipes', 129: 'has', 130: 'clear', 131: 'left', 132: 'right', 133: 'flow', 134: 'information', 135: 'command', 136: 'basic', 137: 'learned', 138: 'when', 139: 'started', 140: 'unix', 141: 'linux', 142: 'world', 143: 'using', 144: 'lines', 145: 'received', 146: 'from', 147: 'stdin', 148: 'new', 149: 'symbols', 150: 'type', 151: 'without', 152: 'any', 153: 'arguments', 154: 'receives', 155: 'displays', 156: 'stdout', 157: 'leopard', 158: 'was', 159: 'released', 160: 'october', 161: 'successor', 162: 'tiger', 163: 'version', 164: 'available', 165: 'two', 166: 'editions', 167: 'according', 168: 'apple', 169: 'contains', 170: 'over', 171: 'enhancements', 172: 'predecessor', 173: 'mac', 174: 'os', 175: 'x', 176: 'mid', 177: 'some', 178: 'computers', 179: 'firmware', 180: 'factory', 181: 'installed', 182: 'which', 183: 'no', 184: 'longer', 185: 'allow', 186: 'installation', 187: 'since', 188: 'moved', 189: 'intel', 190: 'processors', 191: 'their', 192: 'osx', 193: 'community', 194: 'developed', 195: 'now', 196: 'allows', 197: 'later', 198: 'releases', 199: 'non', 200: 'based', 201: 'mountain', 202: 'lion', 203: 'july', 204: 'purchase', 205: 'download', 206: 'through', 207: 's', 208: 'app', 209: 'store', 210: 'part', 211: 'switch', 212: 'releasing', 213: 'versions', 214: 'online', 215: 'every', 216: 'year', 217: 'patch', 218: 'three', 219: 'most', 220: 'recent', 221: 'safari', 222: 'running', 223: 'yosemite', 224: 'mavericks', 225: 'release', 226: 'marks', 227: 'second', 228: 'time', 229: 'offered', 230: 'an', 231: 'incremental', 232: 'upgrade', 233: 'rather', 234: 'than', 235: 'entirely', 236: 'installs', 237: 'place', 238: 'so', 239: 'won', 240: 't', 241: 'need', 242: 'create', 243: 'separate', 244: 'disk', 245: 'run', 246: 'off', 247: 'external', 248: 'drive', 249: 'fifth', 250: 'update', 251: 'features', 252: 'more', 253: 'count'}\n",
      "As cat simply catenates streams of bytes, it can be also used to concatenate binary files, where it will just concatenate sequence of bytes\n",
      "[ 0.  0.  1.  0.  0.  0.  0.  0.  0.  0.  0.  0.  0.  0.  1.  1.  1.  1.\n",
      "  1.  2.  2.  2.  1.  1.  1.  1.  2.  1.  1.  1.  1.  1.  1.  0.  0.  0.\n",
      "  0.  0.  0.  0.  0.  0.  0.  0.  0.  0.  0.  0.  0.  0.  0.  0.  0.  0.\n",
      "  0.  0.  0.  0.  0.  0.  0.  0.  0.  0.  0.  0.  0.  0.  0.  0.  0.  0.\n",
      "  0.  0.  0.  0.  0.  0.  0.  0.  0.  0.  0.  0.  0.  0.  0.  0.  0.  0.\n",
      "  0.  0.  0.  0.  0.  0.  0.  0.  0.  0.  0.  0.  0.  0.  0.  0.  0.  0.\n",
      "  0.  0.  0.  0.  0.  0.  0.  0.  0.  0.  0.  0.  0.  0.  0.  0.  0.  0.\n",
      "  0.  0.  0.  0.  0.  0.  0.  0.  0.  0.  0.  0.  0.  0.  0.  0.  0.  0.\n",
      "  0.  0.  0.  0.  0.  0.  0.  0.  0.  0.  0.  0.  0.  0.  0.  0.  0.  0.\n",
      "  0.  0.  0.  0.  0.  0.  0.  0.  0.  0.  0.  0.  0.  0.  0.  0.  0.  0.\n",
      "  0.  0.  0.  0.  0.  0.  0.  0.  0.  0.  0.  0.  0.  0.  0.  0.  0.  0.\n",
      "  0.  0.  0.  0.  0.  0.  0.  0.  0.  0.  0.  0.  0.  0.  0.  0.  0.  0.\n",
      "  0.  0.  0.  0.  0.  0.  0.  0.  0.  0.  0.  0.  0.  0.  0.  0.  0.  0.\n",
      "  0.  0.  0.  0.  0.  0.  0.  0.  0.  0.  0.  0.  0.  0.  0.  0.  0.  0.\n",
      "  0.  0.]\n"
     ]
    }
   ],
   "source": [
    "import pandas\n",
    "import re\n",
    "import numpy\n",
    "\n",
    "file_sentences = open('sentences.txt')\n",
    "sentences_list = []\n",
    "words_list = []\n",
    "words_dict = {}\n",
    "num_sentences = 1\n",
    "\n",
    "for line in file_sentences:\n",
    "    sentences_list.append(line[:-2])\n",
    "    \n",
    "    for symbol in line:\n",
    "        if symbol == '\\n':\n",
    "            num_sentences += 1\n",
    "            \n",
    "    line_words_list = re.split('[^a-z]', line.lower())\n",
    "    for element in line_words_list:\n",
    "        if element != '':\n",
    "            words_list.append(element)\n",
    "\n",
    "key = 0\n",
    "for word in words_list:\n",
    "    if words_dict.values().count(word) == 0:\n",
    "        words_dict.update({key:word})\n",
    "        key += 1\n",
    "\n",
    "        \n",
    "matrix = numpy.zeros((num_sentences, key))\n",
    "\n",
    "sentence_number = 0\n",
    "for sentence in sentences_list:\n",
    "    for word in re.split('[^a-z]', sentence.lower()):\n",
    "        for k in words_dict.keys():\n",
    "            if word == words_dict[k]:\n",
    "                matrix[sentence_number, k] += 1\n",
    "    sentence_number += 1\n",
    "\n",
    "print words_dict\n",
    "print sentences_list[1]\n",
    "print matrix[1,:]\n",
    "\n",
    "\n",
    "file_sentences.close()"
   ]
  },
  {
   "cell_type": "code",
   "execution_count": 48,
   "metadata": {
    "collapsed": false
   },
   "outputs": [
    {
     "name": "stdout",
     "output_type": "stream",
     "text": [
      "['wefew', 'wefewf', 'ewefwefwe', 'e', 'e', 'e', '', '']\n",
      "wefew wefewf ewefwefwe e e e \n",
      "\n"
     ]
    }
   ],
   "source": [
    "import re\n",
    "string = 'wefew wefewf ewefwefwe e e e \\n'\n",
    "split_list = re.split('[^a-z]', string)\n",
    "list1 = []\n",
    "for e in split_list:\n",
    "    list1.append(e)\n",
    "print list1\n",
    "print string"
   ]
  },
  {
   "cell_type": "code",
   "execution_count": 28,
   "metadata": {
    "collapsed": false
   },
   "outputs": [
    {
     "data": {
      "text/plain": [
       "'wefew wefewf ewefwefwe e e e '"
      ]
     },
     "execution_count": 28,
     "metadata": {},
     "output_type": "execute_result"
    }
   ],
   "source": [
    "string"
   ]
  },
  {
   "cell_type": "code",
   "execution_count": 19,
   "metadata": {
    "collapsed": true
   },
   "outputs": [],
   "source": [
    "import pandas\n",
    "list1 = ['1', 2]"
   ]
  },
  {
   "cell_type": "code",
   "execution_count": 20,
   "metadata": {
    "collapsed": false
   },
   "outputs": [
    {
     "data": {
      "text/plain": [
       "2"
      ]
     },
     "execution_count": 20,
     "metadata": {},
     "output_type": "execute_result"
    }
   ],
   "source": [
    "len(list1)"
   ]
  },
  {
   "cell_type": "code",
   "execution_count": 34,
   "metadata": {
    "collapsed": false
   },
   "outputs": [
    {
     "name": "stdout",
     "output_type": "stream",
     "text": [
      "None\n"
     ]
    }
   ],
   "source": [
    "print list1"
   ]
  },
  {
   "cell_type": "code",
   "execution_count": 41,
   "metadata": {
    "collapsed": false
   },
   "outputs": [
    {
     "name": "stdout",
     "output_type": "stream",
     "text": [
      "Updated List :  [123, 'xyz', 'zara', 'abc', 2009]\n"
     ]
    }
   ],
   "source": [
    "aList = [123, 'xyz', 'zara', 'abc']\n",
    "aList.append( 2009 )\n",
    "print \"Updated List : \", aList"
   ]
  },
  {
   "cell_type": "code",
   "execution_count": 59,
   "metadata": {
    "collapsed": false
   },
   "outputs": [
    {
     "data": {
      "text/plain": [
       "[]"
      ]
     },
     "execution_count": 59,
     "metadata": {},
     "output_type": "execute_result"
    }
   ],
   "source": [
    "dict1 = {}\n",
    "dict1.values()"
   ]
  },
  {
   "cell_type": "code",
   "execution_count": 41,
   "metadata": {
    "collapsed": true
   },
   "outputs": [],
   "source": [
    "list1 = range(10)"
   ]
  },
  {
   "cell_type": "code",
   "execution_count": 42,
   "metadata": {
    "collapsed": false
   },
   "outputs": [
    {
     "name": "stdout",
     "output_type": "stream",
     "text": [
      "[0, 1, 2, 3, 4, 5, 6, 7, 8, 9]\n"
     ]
    }
   ],
   "source": [
    "print list1"
   ]
  },
  {
   "cell_type": "code",
   "execution_count": 12,
   "metadata": {
    "collapsed": false
   },
   "outputs": [
    {
     "name": "stdout",
     "output_type": "stream",
     "text": [
      "34\n",
      "1\n",
      "2\n"
     ]
    }
   ],
   "source": []
  },
  {
   "cell_type": "code",
   "execution_count": 41,
   "metadata": {
    "collapsed": false
   },
   "outputs": [
    {
     "name": "stdout",
     "output_type": "stream",
     "text": [
      "[[ 3  5  6]\n",
      " [ 4  7  8]\n",
      " [ 9 10 11]]\n",
      "[3 5 6]\n"
     ]
    }
   ],
   "source": [
    "matr = numpy.array(([3,5,6],[4,7,8],[9,10,11]))\n",
    "print matr\n",
    "print matr[0, :]"
   ]
  },
  {
   "cell_type": "code",
   "execution_count": 8,
   "metadata": {
    "collapsed": false
   },
   "outputs": [],
   "source": [
    "matr[2,3] = 1"
   ]
  },
  {
   "cell_type": "code",
   "execution_count": 9,
   "metadata": {
    "collapsed": false
   },
   "outputs": [
    {
     "data": {
      "text/plain": [
       "1.0"
      ]
     },
     "execution_count": 9,
     "metadata": {},
     "output_type": "execute_result"
    }
   ],
   "source": [
    "matr[2,3]"
   ]
  },
  {
   "cell_type": "code",
   "execution_count": 17,
   "metadata": {
    "collapsed": false
   },
   "outputs": [
    {
     "name": "stdout",
     "output_type": "stream",
     "text": [
      "34\n",
      "1\n",
      "2\n",
      "3\n"
     ]
    }
   ],
   "source": [
    "dict1 = {1:'234',2:'34',3:'qwerty'}\n",
    "print dict1[2]\n",
    "for i in dict1.keys():\n",
    "    print i\n",
    "s = 'qwerty wefwf erf qwerty fweff__vwe f qwerty'\n",
    "num = s.count(dict1[3])"
   ]
  },
  {
   "cell_type": "code",
   "execution_count": 18,
   "metadata": {
    "collapsed": false
   },
   "outputs": [
    {
     "name": "stdout",
     "output_type": "stream",
     "text": [
      "3\n"
     ]
    }
   ],
   "source": [
    "print num"
   ]
  },
  {
   "cell_type": "code",
   "execution_count": null,
   "metadata": {
    "collapsed": true
   },
   "outputs": [],
   "source": []
  }
 ],
 "metadata": {
  "anaconda-cloud": {},
  "kernelspec": {
   "display_name": "Python [Root]",
   "language": "python",
   "name": "Python [Root]"
  },
  "language_info": {
   "codemirror_mode": {
    "name": "ipython",
    "version": 2
   },
   "file_extension": ".py",
   "mimetype": "text/x-python",
   "name": "python",
   "nbconvert_exporter": "python",
   "pygments_lexer": "ipython2",
   "version": "2.7.11"
  }
 },
 "nbformat": 4,
 "nbformat_minor": 0
}
